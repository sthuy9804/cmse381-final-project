{
 "cells": [
  {
   "cell_type": "markdown",
   "metadata": {},
   "source": [
    "# CMSE 381 Final Project Template"
   ]
  },
  {
   "cell_type": "markdown",
   "metadata": {},
   "source": [
    "**INSTRUCTIONS**: This is a template to help organize your project.  All projects should include the 5 major sections below (you do not need to use this template file).  If you use this file, complete your work below and remove content in parentheses. Also, remove this current cell.  \n",
    "\n",
    "**Sarah***: Work on filling out project template as much as possible, Confusion Matrix per question 3 \n",
    "**Thuy***: Split the files into X and Y, work on the SVM model per question 4\n",
    "SELF DUE DATE: APRIL 7TH, meet in person, in wells hall \n",
    "\n",
    "Both: Work on K-Fold and subset selection per question 5 "
   ]
  },
  {
   "cell_type": "markdown",
   "metadata": {},
   "source": [
    "#### CMSE 381 Final Project\n",
    "### &#9989; Group members: Sarah Horan, Thuy Nguyen\n",
    "### &#9989; Section_001\n",
    "#### &#9989; 3/31/25"
   ]
  },
  {
   "cell_type": "markdown",
   "metadata": {},
   "source": [
    "# ___PREDICTING FACE ORIETATION___"
   ]
  },
  {
   "cell_type": "markdown",
   "metadata": {},
   "source": [
    "## Background and Motivation"
   ]
  },
  {
   "cell_type": "markdown",
   "metadata": {},
   "source": [
    "How does the brain recognize not just who we’re looking at, but how they’re positioned in space? This question lies at the intersection of neuroscience and data science. In this project, we investigate how neurons in the anterior medial (AM) face patch of a macaque monkey respond when the animal views faces from different orientations. This brain region is known to be selective for facial features, and here we test whether its activity can reveal not just the presence of a face, but the **direction it's facing**.\n",
    "\n",
    "The dataset we’re using comes from a study where a monkey passively viewed face images from 25 individuals, each shown in 8 different head orientations. For each image, researchers recorded binary neural spike data across a short time window (0–400 ms) following the image onset.\n",
    "\n",
    "Our main goal is to explore whether we can **predict the orientation of a viewed face**—such as frontal, profile, or turned head—based on this neural activity alone. This is a classic example of a **neural decoding** task, where machine learning models are trained to extract meaning from complex biological signals.\n",
    "\n",
    "Specifically, we aim to answer:\n",
    "- **Can we classify face orientation based on patterns in neural spike data?**\n",
    "\n",
    "By addressing these questions, we hope to gain insight into how the brain encodes spatial information about faces—and demonstrate how data science tools can uncover patterns in neural data that may not be obvious at first glance.\n"
   ]
  },
  {
   "cell_type": "markdown",
   "metadata": {},
   "source": [
    "## Methodology\n",
    "_(How did you go about answering your question(s)? You should wrote some code here to demonstrate what the data is like and how in principle your method works. You can leave the variations of the related to specific results to the results section.)_"
   ]
  },
  {
   "cell_type": "code",
   "execution_count": 1,
   "metadata": {},
   "outputs": [],
   "source": [
    "import pandas as pd\n",
    "import numpy as np\n",
    "import glob\n",
    "import zipfile\n",
    "import io"
   ]
  },
  {
   "cell_type": "markdown",
   "metadata": {
    "vscode": {
     "languageId": "plaintext"
    }
   },
   "source": [
    "### Data\n",
    "* Describe the data you are using\n",
    "* What variables are you using?: time spike data\n",
    "    * What they mean?: the spike of AM when a part of the face showed up\n",
    "    * Why did you choose them?: want to predict the orientation of the face. Each face reacts differently (need citation)"
   ]
  },
  {
   "cell_type": "code",
   "execution_count": 2,
   "metadata": {},
   "outputs": [],
   "source": [
    "zip_path = \"Sec001_Freiwald_Tsao_faceviews_AM_data_csv.zip\"\n",
    "X = []\n",
    "y = []\n",
    "with zipfile.ZipFile(zip_path, 'r') as zip_file:\n",
    "    csv_files = [f for f in zip_file.namelist() if f.endswith('.csv')]\n",
    "    spike_data = []\n",
    "    label_ref = []\n",
    "    for csv in csv_files:\n",
    "        with zip_file.open(csv) as file:\n",
    "            df = pd.read_csv(file)\n",
    "            spike_cols = [col for col in df.columns if col.startswith('time')]\n",
    "            spike_data.append(df[spike_cols])\n",
    "            label_ref.append(df[['labels.orientation']])\n",
    "X = pd.concat(spike_data)\n",
    "y = pd.concat(label_ref)"
   ]
  },
  {
   "cell_type": "code",
   "execution_count": 6,
   "metadata": {},
   "outputs": [
    {
     "name": "stdout",
     "output_type": "stream",
     "text": [
      "(206216, 800)\n"
     ]
    },
    {
     "data": {
      "application/vnd.microsoft.datawrangler.viewer.v0+json": {
       "columns": [
        {
         "name": "index",
         "rawType": "int64",
         "type": "integer"
        },
        {
         "name": "time.1_2",
         "rawType": "int64",
         "type": "integer"
        },
        {
         "name": "time.2_3",
         "rawType": "int64",
         "type": "integer"
        },
        {
         "name": "time.3_4",
         "rawType": "int64",
         "type": "integer"
        },
        {
         "name": "time.4_5",
         "rawType": "int64",
         "type": "integer"
        },
        {
         "name": "time.5_6",
         "rawType": "int64",
         "type": "integer"
        },
        {
         "name": "time.6_7",
         "rawType": "int64",
         "type": "integer"
        },
        {
         "name": "time.7_8",
         "rawType": "int64",
         "type": "integer"
        },
        {
         "name": "time.8_9",
         "rawType": "int64",
         "type": "integer"
        },
        {
         "name": "time.9_10",
         "rawType": "int64",
         "type": "integer"
        },
        {
         "name": "time.10_11",
         "rawType": "int64",
         "type": "integer"
        },
        {
         "name": "time.11_12",
         "rawType": "int64",
         "type": "integer"
        },
        {
         "name": "time.12_13",
         "rawType": "int64",
         "type": "integer"
        },
        {
         "name": "time.13_14",
         "rawType": "int64",
         "type": "integer"
        },
        {
         "name": "time.14_15",
         "rawType": "int64",
         "type": "integer"
        },
        {
         "name": "time.15_16",
         "rawType": "int64",
         "type": "integer"
        },
        {
         "name": "time.16_17",
         "rawType": "int64",
         "type": "integer"
        },
        {
         "name": "time.17_18",
         "rawType": "int64",
         "type": "integer"
        },
        {
         "name": "time.18_19",
         "rawType": "int64",
         "type": "integer"
        },
        {
         "name": "time.19_20",
         "rawType": "int64",
         "type": "integer"
        },
        {
         "name": "time.20_21",
         "rawType": "int64",
         "type": "integer"
        },
        {
         "name": "time.21_22",
         "rawType": "int64",
         "type": "integer"
        },
        {
         "name": "time.22_23",
         "rawType": "int64",
         "type": "integer"
        },
        {
         "name": "time.23_24",
         "rawType": "int64",
         "type": "integer"
        },
        {
         "name": "time.24_25",
         "rawType": "int64",
         "type": "integer"
        },
        {
         "name": "time.25_26",
         "rawType": "int64",
         "type": "integer"
        },
        {
         "name": "time.26_27",
         "rawType": "int64",
         "type": "integer"
        },
        {
         "name": "time.27_28",
         "rawType": "int64",
         "type": "integer"
        },
        {
         "name": "time.28_29",
         "rawType": "int64",
         "type": "integer"
        },
        {
         "name": "time.29_30",
         "rawType": "int64",
         "type": "integer"
        },
        {
         "name": "time.30_31",
         "rawType": "int64",
         "type": "integer"
        },
        {
         "name": "time.31_32",
         "rawType": "int64",
         "type": "integer"
        },
        {
         "name": "time.32_33",
         "rawType": "int64",
         "type": "integer"
        },
        {
         "name": "time.33_34",
         "rawType": "int64",
         "type": "integer"
        },
        {
         "name": "time.34_35",
         "rawType": "int64",
         "type": "integer"
        },
        {
         "name": "time.35_36",
         "rawType": "int64",
         "type": "integer"
        },
        {
         "name": "time.36_37",
         "rawType": "int64",
         "type": "integer"
        },
        {
         "name": "time.37_38",
         "rawType": "int64",
         "type": "integer"
        },
        {
         "name": "time.38_39",
         "rawType": "int64",
         "type": "integer"
        },
        {
         "name": "time.39_40",
         "rawType": "int64",
         "type": "integer"
        },
        {
         "name": "time.40_41",
         "rawType": "int64",
         "type": "integer"
        },
        {
         "name": "time.41_42",
         "rawType": "int64",
         "type": "integer"
        },
        {
         "name": "time.42_43",
         "rawType": "int64",
         "type": "integer"
        },
        {
         "name": "time.43_44",
         "rawType": "int64",
         "type": "integer"
        },
        {
         "name": "time.44_45",
         "rawType": "int64",
         "type": "integer"
        },
        {
         "name": "time.45_46",
         "rawType": "int64",
         "type": "integer"
        },
        {
         "name": "time.46_47",
         "rawType": "int64",
         "type": "integer"
        },
        {
         "name": "time.47_48",
         "rawType": "int64",
         "type": "integer"
        },
        {
         "name": "time.48_49",
         "rawType": "int64",
         "type": "integer"
        },
        {
         "name": "time.49_50",
         "rawType": "int64",
         "type": "integer"
        },
        {
         "name": "time.50_51",
         "rawType": "int64",
         "type": "integer"
        },
        {
         "name": "time.51_52",
         "rawType": "int64",
         "type": "integer"
        },
        {
         "name": "time.52_53",
         "rawType": "int64",
         "type": "integer"
        },
        {
         "name": "time.53_54",
         "rawType": "int64",
         "type": "integer"
        },
        {
         "name": "time.54_55",
         "rawType": "int64",
         "type": "integer"
        },
        {
         "name": "time.55_56",
         "rawType": "int64",
         "type": "integer"
        },
        {
         "name": "time.56_57",
         "rawType": "int64",
         "type": "integer"
        },
        {
         "name": "time.57_58",
         "rawType": "int64",
         "type": "integer"
        },
        {
         "name": "time.58_59",
         "rawType": "int64",
         "type": "integer"
        },
        {
         "name": "time.59_60",
         "rawType": "int64",
         "type": "integer"
        },
        {
         "name": "time.60_61",
         "rawType": "int64",
         "type": "integer"
        },
        {
         "name": "time.61_62",
         "rawType": "int64",
         "type": "integer"
        },
        {
         "name": "time.62_63",
         "rawType": "int64",
         "type": "integer"
        },
        {
         "name": "time.63_64",
         "rawType": "int64",
         "type": "integer"
        },
        {
         "name": "time.64_65",
         "rawType": "int64",
         "type": "integer"
        },
        {
         "name": "time.65_66",
         "rawType": "int64",
         "type": "integer"
        },
        {
         "name": "time.66_67",
         "rawType": "int64",
         "type": "integer"
        },
        {
         "name": "time.67_68",
         "rawType": "int64",
         "type": "integer"
        },
        {
         "name": "time.68_69",
         "rawType": "int64",
         "type": "integer"
        },
        {
         "name": "time.69_70",
         "rawType": "int64",
         "type": "integer"
        },
        {
         "name": "time.70_71",
         "rawType": "int64",
         "type": "integer"
        },
        {
         "name": "time.71_72",
         "rawType": "int64",
         "type": "integer"
        },
        {
         "name": "time.72_73",
         "rawType": "int64",
         "type": "integer"
        },
        {
         "name": "time.73_74",
         "rawType": "int64",
         "type": "integer"
        },
        {
         "name": "time.74_75",
         "rawType": "int64",
         "type": "integer"
        },
        {
         "name": "time.75_76",
         "rawType": "int64",
         "type": "integer"
        },
        {
         "name": "time.76_77",
         "rawType": "int64",
         "type": "integer"
        },
        {
         "name": "time.77_78",
         "rawType": "int64",
         "type": "integer"
        },
        {
         "name": "time.78_79",
         "rawType": "int64",
         "type": "integer"
        },
        {
         "name": "time.79_80",
         "rawType": "int64",
         "type": "integer"
        },
        {
         "name": "time.80_81",
         "rawType": "int64",
         "type": "integer"
        },
        {
         "name": "time.81_82",
         "rawType": "int64",
         "type": "integer"
        },
        {
         "name": "time.82_83",
         "rawType": "int64",
         "type": "integer"
        },
        {
         "name": "time.83_84",
         "rawType": "int64",
         "type": "integer"
        },
        {
         "name": "time.84_85",
         "rawType": "int64",
         "type": "integer"
        },
        {
         "name": "time.85_86",
         "rawType": "int64",
         "type": "integer"
        },
        {
         "name": "time.86_87",
         "rawType": "int64",
         "type": "integer"
        },
        {
         "name": "time.87_88",
         "rawType": "int64",
         "type": "integer"
        },
        {
         "name": "time.88_89",
         "rawType": "int64",
         "type": "integer"
        },
        {
         "name": "time.89_90",
         "rawType": "int64",
         "type": "integer"
        },
        {
         "name": "time.90_91",
         "rawType": "int64",
         "type": "integer"
        },
        {
         "name": "time.91_92",
         "rawType": "int64",
         "type": "integer"
        },
        {
         "name": "time.92_93",
         "rawType": "int64",
         "type": "integer"
        },
        {
         "name": "time.93_94",
         "rawType": "int64",
         "type": "integer"
        },
        {
         "name": "time.94_95",
         "rawType": "int64",
         "type": "integer"
        },
        {
         "name": "time.95_96",
         "rawType": "int64",
         "type": "integer"
        },
        {
         "name": "time.96_97",
         "rawType": "int64",
         "type": "integer"
        },
        {
         "name": "time.97_98",
         "rawType": "int64",
         "type": "integer"
        },
        {
         "name": "time.98_99",
         "rawType": "int64",
         "type": "integer"
        },
        {
         "name": "time.99_100",
         "rawType": "int64",
         "type": "integer"
        },
        {
         "name": "time.100_101",
         "rawType": "int64",
         "type": "integer"
        },
        {
         "name": "time.101_102",
         "rawType": "int64",
         "type": "integer"
        },
        {
         "name": "time.102_103",
         "rawType": "int64",
         "type": "integer"
        },
        {
         "name": "time.103_104",
         "rawType": "int64",
         "type": "integer"
        },
        {
         "name": "time.104_105",
         "rawType": "int64",
         "type": "integer"
        },
        {
         "name": "time.105_106",
         "rawType": "int64",
         "type": "integer"
        },
        {
         "name": "time.106_107",
         "rawType": "int64",
         "type": "integer"
        },
        {
         "name": "time.107_108",
         "rawType": "int64",
         "type": "integer"
        },
        {
         "name": "time.108_109",
         "rawType": "int64",
         "type": "integer"
        },
        {
         "name": "time.109_110",
         "rawType": "int64",
         "type": "integer"
        },
        {
         "name": "time.110_111",
         "rawType": "int64",
         "type": "integer"
        },
        {
         "name": "time.111_112",
         "rawType": "int64",
         "type": "integer"
        },
        {
         "name": "time.112_113",
         "rawType": "int64",
         "type": "integer"
        },
        {
         "name": "time.113_114",
         "rawType": "int64",
         "type": "integer"
        },
        {
         "name": "time.114_115",
         "rawType": "int64",
         "type": "integer"
        },
        {
         "name": "time.115_116",
         "rawType": "int64",
         "type": "integer"
        },
        {
         "name": "time.116_117",
         "rawType": "int64",
         "type": "integer"
        },
        {
         "name": "time.117_118",
         "rawType": "int64",
         "type": "integer"
        },
        {
         "name": "time.118_119",
         "rawType": "int64",
         "type": "integer"
        },
        {
         "name": "time.119_120",
         "rawType": "int64",
         "type": "integer"
        },
        {
         "name": "time.120_121",
         "rawType": "int64",
         "type": "integer"
        },
        {
         "name": "time.121_122",
         "rawType": "int64",
         "type": "integer"
        },
        {
         "name": "time.122_123",
         "rawType": "int64",
         "type": "integer"
        },
        {
         "name": "time.123_124",
         "rawType": "int64",
         "type": "integer"
        },
        {
         "name": "time.124_125",
         "rawType": "int64",
         "type": "integer"
        },
        {
         "name": "time.125_126",
         "rawType": "int64",
         "type": "integer"
        },
        {
         "name": "time.126_127",
         "rawType": "int64",
         "type": "integer"
        },
        {
         "name": "time.127_128",
         "rawType": "int64",
         "type": "integer"
        },
        {
         "name": "time.128_129",
         "rawType": "int64",
         "type": "integer"
        },
        {
         "name": "time.129_130",
         "rawType": "int64",
         "type": "integer"
        },
        {
         "name": "time.130_131",
         "rawType": "int64",
         "type": "integer"
        },
        {
         "name": "time.131_132",
         "rawType": "int64",
         "type": "integer"
        },
        {
         "name": "time.132_133",
         "rawType": "int64",
         "type": "integer"
        },
        {
         "name": "time.133_134",
         "rawType": "int64",
         "type": "integer"
        },
        {
         "name": "time.134_135",
         "rawType": "int64",
         "type": "integer"
        },
        {
         "name": "time.135_136",
         "rawType": "int64",
         "type": "integer"
        },
        {
         "name": "time.136_137",
         "rawType": "int64",
         "type": "integer"
        },
        {
         "name": "time.137_138",
         "rawType": "int64",
         "type": "integer"
        },
        {
         "name": "time.138_139",
         "rawType": "int64",
         "type": "integer"
        },
        {
         "name": "time.139_140",
         "rawType": "int64",
         "type": "integer"
        },
        {
         "name": "time.140_141",
         "rawType": "int64",
         "type": "integer"
        },
        {
         "name": "time.141_142",
         "rawType": "int64",
         "type": "integer"
        },
        {
         "name": "time.142_143",
         "rawType": "int64",
         "type": "integer"
        },
        {
         "name": "time.143_144",
         "rawType": "int64",
         "type": "integer"
        },
        {
         "name": "time.144_145",
         "rawType": "int64",
         "type": "integer"
        },
        {
         "name": "time.145_146",
         "rawType": "int64",
         "type": "integer"
        },
        {
         "name": "time.146_147",
         "rawType": "int64",
         "type": "integer"
        },
        {
         "name": "time.147_148",
         "rawType": "int64",
         "type": "integer"
        },
        {
         "name": "time.148_149",
         "rawType": "int64",
         "type": "integer"
        },
        {
         "name": "time.149_150",
         "rawType": "int64",
         "type": "integer"
        },
        {
         "name": "time.150_151",
         "rawType": "int64",
         "type": "integer"
        },
        {
         "name": "time.151_152",
         "rawType": "int64",
         "type": "integer"
        },
        {
         "name": "time.152_153",
         "rawType": "int64",
         "type": "integer"
        },
        {
         "name": "time.153_154",
         "rawType": "int64",
         "type": "integer"
        },
        {
         "name": "time.154_155",
         "rawType": "int64",
         "type": "integer"
        },
        {
         "name": "time.155_156",
         "rawType": "int64",
         "type": "integer"
        },
        {
         "name": "time.156_157",
         "rawType": "int64",
         "type": "integer"
        },
        {
         "name": "time.157_158",
         "rawType": "int64",
         "type": "integer"
        },
        {
         "name": "time.158_159",
         "rawType": "int64",
         "type": "integer"
        },
        {
         "name": "time.159_160",
         "rawType": "int64",
         "type": "integer"
        },
        {
         "name": "time.160_161",
         "rawType": "int64",
         "type": "integer"
        },
        {
         "name": "time.161_162",
         "rawType": "int64",
         "type": "integer"
        },
        {
         "name": "time.162_163",
         "rawType": "int64",
         "type": "integer"
        },
        {
         "name": "time.163_164",
         "rawType": "int64",
         "type": "integer"
        },
        {
         "name": "time.164_165",
         "rawType": "int64",
         "type": "integer"
        },
        {
         "name": "time.165_166",
         "rawType": "int64",
         "type": "integer"
        },
        {
         "name": "time.166_167",
         "rawType": "int64",
         "type": "integer"
        },
        {
         "name": "time.167_168",
         "rawType": "int64",
         "type": "integer"
        },
        {
         "name": "time.168_169",
         "rawType": "int64",
         "type": "integer"
        },
        {
         "name": "time.169_170",
         "rawType": "int64",
         "type": "integer"
        },
        {
         "name": "time.170_171",
         "rawType": "int64",
         "type": "integer"
        },
        {
         "name": "time.171_172",
         "rawType": "int64",
         "type": "integer"
        },
        {
         "name": "time.172_173",
         "rawType": "int64",
         "type": "integer"
        },
        {
         "name": "time.173_174",
         "rawType": "int64",
         "type": "integer"
        },
        {
         "name": "time.174_175",
         "rawType": "int64",
         "type": "integer"
        },
        {
         "name": "time.175_176",
         "rawType": "int64",
         "type": "integer"
        },
        {
         "name": "time.176_177",
         "rawType": "int64",
         "type": "integer"
        },
        {
         "name": "time.177_178",
         "rawType": "int64",
         "type": "integer"
        },
        {
         "name": "time.178_179",
         "rawType": "int64",
         "type": "integer"
        },
        {
         "name": "time.179_180",
         "rawType": "int64",
         "type": "integer"
        },
        {
         "name": "time.180_181",
         "rawType": "int64",
         "type": "integer"
        },
        {
         "name": "time.181_182",
         "rawType": "int64",
         "type": "integer"
        },
        {
         "name": "time.182_183",
         "rawType": "int64",
         "type": "integer"
        },
        {
         "name": "time.183_184",
         "rawType": "int64",
         "type": "integer"
        },
        {
         "name": "time.184_185",
         "rawType": "int64",
         "type": "integer"
        },
        {
         "name": "time.185_186",
         "rawType": "int64",
         "type": "integer"
        },
        {
         "name": "time.186_187",
         "rawType": "int64",
         "type": "integer"
        },
        {
         "name": "time.187_188",
         "rawType": "int64",
         "type": "integer"
        },
        {
         "name": "time.188_189",
         "rawType": "int64",
         "type": "integer"
        },
        {
         "name": "time.189_190",
         "rawType": "int64",
         "type": "integer"
        },
        {
         "name": "time.190_191",
         "rawType": "int64",
         "type": "integer"
        },
        {
         "name": "time.191_192",
         "rawType": "int64",
         "type": "integer"
        },
        {
         "name": "time.192_193",
         "rawType": "int64",
         "type": "integer"
        },
        {
         "name": "time.193_194",
         "rawType": "int64",
         "type": "integer"
        },
        {
         "name": "time.194_195",
         "rawType": "int64",
         "type": "integer"
        },
        {
         "name": "time.195_196",
         "rawType": "int64",
         "type": "integer"
        },
        {
         "name": "time.196_197",
         "rawType": "int64",
         "type": "integer"
        },
        {
         "name": "time.197_198",
         "rawType": "int64",
         "type": "integer"
        },
        {
         "name": "time.198_199",
         "rawType": "int64",
         "type": "integer"
        },
        {
         "name": "time.199_200",
         "rawType": "int64",
         "type": "integer"
        },
        {
         "name": "time.200_201",
         "rawType": "int64",
         "type": "integer"
        },
        {
         "name": "time.201_202",
         "rawType": "int64",
         "type": "integer"
        },
        {
         "name": "time.202_203",
         "rawType": "int64",
         "type": "integer"
        },
        {
         "name": "time.203_204",
         "rawType": "int64",
         "type": "integer"
        },
        {
         "name": "time.204_205",
         "rawType": "int64",
         "type": "integer"
        },
        {
         "name": "time.205_206",
         "rawType": "int64",
         "type": "integer"
        },
        {
         "name": "time.206_207",
         "rawType": "int64",
         "type": "integer"
        },
        {
         "name": "time.207_208",
         "rawType": "int64",
         "type": "integer"
        },
        {
         "name": "time.208_209",
         "rawType": "int64",
         "type": "integer"
        },
        {
         "name": "time.209_210",
         "rawType": "int64",
         "type": "integer"
        },
        {
         "name": "time.210_211",
         "rawType": "int64",
         "type": "integer"
        },
        {
         "name": "time.211_212",
         "rawType": "int64",
         "type": "integer"
        },
        {
         "name": "time.212_213",
         "rawType": "int64",
         "type": "integer"
        },
        {
         "name": "time.213_214",
         "rawType": "int64",
         "type": "integer"
        },
        {
         "name": "time.214_215",
         "rawType": "int64",
         "type": "integer"
        },
        {
         "name": "time.215_216",
         "rawType": "int64",
         "type": "integer"
        },
        {
         "name": "time.216_217",
         "rawType": "int64",
         "type": "integer"
        },
        {
         "name": "time.217_218",
         "rawType": "int64",
         "type": "integer"
        },
        {
         "name": "time.218_219",
         "rawType": "int64",
         "type": "integer"
        },
        {
         "name": "time.219_220",
         "rawType": "int64",
         "type": "integer"
        },
        {
         "name": "time.220_221",
         "rawType": "int64",
         "type": "integer"
        },
        {
         "name": "time.221_222",
         "rawType": "int64",
         "type": "integer"
        },
        {
         "name": "time.222_223",
         "rawType": "int64",
         "type": "integer"
        },
        {
         "name": "time.223_224",
         "rawType": "int64",
         "type": "integer"
        },
        {
         "name": "time.224_225",
         "rawType": "int64",
         "type": "integer"
        },
        {
         "name": "time.225_226",
         "rawType": "int64",
         "type": "integer"
        },
        {
         "name": "time.226_227",
         "rawType": "int64",
         "type": "integer"
        },
        {
         "name": "time.227_228",
         "rawType": "int64",
         "type": "integer"
        },
        {
         "name": "time.228_229",
         "rawType": "int64",
         "type": "integer"
        },
        {
         "name": "time.229_230",
         "rawType": "int64",
         "type": "integer"
        },
        {
         "name": "time.230_231",
         "rawType": "int64",
         "type": "integer"
        },
        {
         "name": "time.231_232",
         "rawType": "int64",
         "type": "integer"
        },
        {
         "name": "time.232_233",
         "rawType": "int64",
         "type": "integer"
        },
        {
         "name": "time.233_234",
         "rawType": "int64",
         "type": "integer"
        },
        {
         "name": "time.234_235",
         "rawType": "int64",
         "type": "integer"
        },
        {
         "name": "time.235_236",
         "rawType": "int64",
         "type": "integer"
        },
        {
         "name": "time.236_237",
         "rawType": "int64",
         "type": "integer"
        },
        {
         "name": "time.237_238",
         "rawType": "int64",
         "type": "integer"
        },
        {
         "name": "time.238_239",
         "rawType": "int64",
         "type": "integer"
        },
        {
         "name": "time.239_240",
         "rawType": "int64",
         "type": "integer"
        },
        {
         "name": "time.240_241",
         "rawType": "int64",
         "type": "integer"
        },
        {
         "name": "time.241_242",
         "rawType": "int64",
         "type": "integer"
        },
        {
         "name": "time.242_243",
         "rawType": "int64",
         "type": "integer"
        },
        {
         "name": "time.243_244",
         "rawType": "int64",
         "type": "integer"
        },
        {
         "name": "time.244_245",
         "rawType": "int64",
         "type": "integer"
        },
        {
         "name": "time.245_246",
         "rawType": "int64",
         "type": "integer"
        },
        {
         "name": "time.246_247",
         "rawType": "int64",
         "type": "integer"
        },
        {
         "name": "time.247_248",
         "rawType": "int64",
         "type": "integer"
        },
        {
         "name": "time.248_249",
         "rawType": "int64",
         "type": "integer"
        },
        {
         "name": "time.249_250",
         "rawType": "int64",
         "type": "integer"
        },
        {
         "name": "time.250_251",
         "rawType": "int64",
         "type": "integer"
        },
        {
         "name": "time.251_252",
         "rawType": "int64",
         "type": "integer"
        },
        {
         "name": "time.252_253",
         "rawType": "int64",
         "type": "integer"
        },
        {
         "name": "time.253_254",
         "rawType": "int64",
         "type": "integer"
        },
        {
         "name": "time.254_255",
         "rawType": "int64",
         "type": "integer"
        },
        {
         "name": "time.255_256",
         "rawType": "int64",
         "type": "integer"
        },
        {
         "name": "time.256_257",
         "rawType": "int64",
         "type": "integer"
        },
        {
         "name": "time.257_258",
         "rawType": "int64",
         "type": "integer"
        },
        {
         "name": "time.258_259",
         "rawType": "int64",
         "type": "integer"
        },
        {
         "name": "time.259_260",
         "rawType": "int64",
         "type": "integer"
        },
        {
         "name": "time.260_261",
         "rawType": "int64",
         "type": "integer"
        },
        {
         "name": "time.261_262",
         "rawType": "int64",
         "type": "integer"
        },
        {
         "name": "time.262_263",
         "rawType": "int64",
         "type": "integer"
        },
        {
         "name": "time.263_264",
         "rawType": "int64",
         "type": "integer"
        },
        {
         "name": "time.264_265",
         "rawType": "int64",
         "type": "integer"
        },
        {
         "name": "time.265_266",
         "rawType": "int64",
         "type": "integer"
        },
        {
         "name": "time.266_267",
         "rawType": "int64",
         "type": "integer"
        },
        {
         "name": "time.267_268",
         "rawType": "int64",
         "type": "integer"
        },
        {
         "name": "time.268_269",
         "rawType": "int64",
         "type": "integer"
        },
        {
         "name": "time.269_270",
         "rawType": "int64",
         "type": "integer"
        },
        {
         "name": "time.270_271",
         "rawType": "int64",
         "type": "integer"
        },
        {
         "name": "time.271_272",
         "rawType": "int64",
         "type": "integer"
        },
        {
         "name": "time.272_273",
         "rawType": "int64",
         "type": "integer"
        },
        {
         "name": "time.273_274",
         "rawType": "int64",
         "type": "integer"
        },
        {
         "name": "time.274_275",
         "rawType": "int64",
         "type": "integer"
        },
        {
         "name": "time.275_276",
         "rawType": "int64",
         "type": "integer"
        },
        {
         "name": "time.276_277",
         "rawType": "int64",
         "type": "integer"
        },
        {
         "name": "time.277_278",
         "rawType": "int64",
         "type": "integer"
        },
        {
         "name": "time.278_279",
         "rawType": "int64",
         "type": "integer"
        },
        {
         "name": "time.279_280",
         "rawType": "int64",
         "type": "integer"
        },
        {
         "name": "time.280_281",
         "rawType": "int64",
         "type": "integer"
        },
        {
         "name": "time.281_282",
         "rawType": "int64",
         "type": "integer"
        },
        {
         "name": "time.282_283",
         "rawType": "int64",
         "type": "integer"
        },
        {
         "name": "time.283_284",
         "rawType": "int64",
         "type": "integer"
        },
        {
         "name": "time.284_285",
         "rawType": "int64",
         "type": "integer"
        },
        {
         "name": "time.285_286",
         "rawType": "int64",
         "type": "integer"
        },
        {
         "name": "time.286_287",
         "rawType": "int64",
         "type": "integer"
        },
        {
         "name": "time.287_288",
         "rawType": "int64",
         "type": "integer"
        },
        {
         "name": "time.288_289",
         "rawType": "int64",
         "type": "integer"
        },
        {
         "name": "time.289_290",
         "rawType": "int64",
         "type": "integer"
        },
        {
         "name": "time.290_291",
         "rawType": "int64",
         "type": "integer"
        },
        {
         "name": "time.291_292",
         "rawType": "int64",
         "type": "integer"
        },
        {
         "name": "time.292_293",
         "rawType": "int64",
         "type": "integer"
        },
        {
         "name": "time.293_294",
         "rawType": "int64",
         "type": "integer"
        },
        {
         "name": "time.294_295",
         "rawType": "int64",
         "type": "integer"
        },
        {
         "name": "time.295_296",
         "rawType": "int64",
         "type": "integer"
        },
        {
         "name": "time.296_297",
         "rawType": "int64",
         "type": "integer"
        },
        {
         "name": "time.297_298",
         "rawType": "int64",
         "type": "integer"
        },
        {
         "name": "time.298_299",
         "rawType": "int64",
         "type": "integer"
        },
        {
         "name": "time.299_300",
         "rawType": "int64",
         "type": "integer"
        },
        {
         "name": "time.300_301",
         "rawType": "int64",
         "type": "integer"
        },
        {
         "name": "time.301_302",
         "rawType": "int64",
         "type": "integer"
        },
        {
         "name": "time.302_303",
         "rawType": "int64",
         "type": "integer"
        },
        {
         "name": "time.303_304",
         "rawType": "int64",
         "type": "integer"
        },
        {
         "name": "time.304_305",
         "rawType": "int64",
         "type": "integer"
        },
        {
         "name": "time.305_306",
         "rawType": "int64",
         "type": "integer"
        },
        {
         "name": "time.306_307",
         "rawType": "int64",
         "type": "integer"
        },
        {
         "name": "time.307_308",
         "rawType": "int64",
         "type": "integer"
        },
        {
         "name": "time.308_309",
         "rawType": "int64",
         "type": "integer"
        },
        {
         "name": "time.309_310",
         "rawType": "int64",
         "type": "integer"
        },
        {
         "name": "time.310_311",
         "rawType": "int64",
         "type": "integer"
        },
        {
         "name": "time.311_312",
         "rawType": "int64",
         "type": "integer"
        },
        {
         "name": "time.312_313",
         "rawType": "int64",
         "type": "integer"
        },
        {
         "name": "time.313_314",
         "rawType": "int64",
         "type": "integer"
        },
        {
         "name": "time.314_315",
         "rawType": "int64",
         "type": "integer"
        },
        {
         "name": "time.315_316",
         "rawType": "int64",
         "type": "integer"
        },
        {
         "name": "time.316_317",
         "rawType": "int64",
         "type": "integer"
        },
        {
         "name": "time.317_318",
         "rawType": "int64",
         "type": "integer"
        },
        {
         "name": "time.318_319",
         "rawType": "int64",
         "type": "integer"
        },
        {
         "name": "time.319_320",
         "rawType": "int64",
         "type": "integer"
        },
        {
         "name": "time.320_321",
         "rawType": "int64",
         "type": "integer"
        },
        {
         "name": "time.321_322",
         "rawType": "int64",
         "type": "integer"
        },
        {
         "name": "time.322_323",
         "rawType": "int64",
         "type": "integer"
        },
        {
         "name": "time.323_324",
         "rawType": "int64",
         "type": "integer"
        },
        {
         "name": "time.324_325",
         "rawType": "int64",
         "type": "integer"
        },
        {
         "name": "time.325_326",
         "rawType": "int64",
         "type": "integer"
        },
        {
         "name": "time.326_327",
         "rawType": "int64",
         "type": "integer"
        },
        {
         "name": "time.327_328",
         "rawType": "int64",
         "type": "integer"
        },
        {
         "name": "time.328_329",
         "rawType": "int64",
         "type": "integer"
        },
        {
         "name": "time.329_330",
         "rawType": "int64",
         "type": "integer"
        },
        {
         "name": "time.330_331",
         "rawType": "int64",
         "type": "integer"
        },
        {
         "name": "time.331_332",
         "rawType": "int64",
         "type": "integer"
        },
        {
         "name": "time.332_333",
         "rawType": "int64",
         "type": "integer"
        },
        {
         "name": "time.333_334",
         "rawType": "int64",
         "type": "integer"
        },
        {
         "name": "time.334_335",
         "rawType": "int64",
         "type": "integer"
        },
        {
         "name": "time.335_336",
         "rawType": "int64",
         "type": "integer"
        },
        {
         "name": "time.336_337",
         "rawType": "int64",
         "type": "integer"
        },
        {
         "name": "time.337_338",
         "rawType": "int64",
         "type": "integer"
        },
        {
         "name": "time.338_339",
         "rawType": "int64",
         "type": "integer"
        },
        {
         "name": "time.339_340",
         "rawType": "int64",
         "type": "integer"
        },
        {
         "name": "time.340_341",
         "rawType": "int64",
         "type": "integer"
        },
        {
         "name": "time.341_342",
         "rawType": "int64",
         "type": "integer"
        },
        {
         "name": "time.342_343",
         "rawType": "int64",
         "type": "integer"
        },
        {
         "name": "time.343_344",
         "rawType": "int64",
         "type": "integer"
        },
        {
         "name": "time.344_345",
         "rawType": "int64",
         "type": "integer"
        },
        {
         "name": "time.345_346",
         "rawType": "int64",
         "type": "integer"
        },
        {
         "name": "time.346_347",
         "rawType": "int64",
         "type": "integer"
        },
        {
         "name": "time.347_348",
         "rawType": "int64",
         "type": "integer"
        },
        {
         "name": "time.348_349",
         "rawType": "int64",
         "type": "integer"
        },
        {
         "name": "time.349_350",
         "rawType": "int64",
         "type": "integer"
        },
        {
         "name": "time.350_351",
         "rawType": "int64",
         "type": "integer"
        },
        {
         "name": "time.351_352",
         "rawType": "int64",
         "type": "integer"
        },
        {
         "name": "time.352_353",
         "rawType": "int64",
         "type": "integer"
        },
        {
         "name": "time.353_354",
         "rawType": "int64",
         "type": "integer"
        },
        {
         "name": "time.354_355",
         "rawType": "int64",
         "type": "integer"
        },
        {
         "name": "time.355_356",
         "rawType": "int64",
         "type": "integer"
        },
        {
         "name": "time.356_357",
         "rawType": "int64",
         "type": "integer"
        },
        {
         "name": "time.357_358",
         "rawType": "int64",
         "type": "integer"
        },
        {
         "name": "time.358_359",
         "rawType": "int64",
         "type": "integer"
        },
        {
         "name": "time.359_360",
         "rawType": "int64",
         "type": "integer"
        },
        {
         "name": "time.360_361",
         "rawType": "int64",
         "type": "integer"
        },
        {
         "name": "time.361_362",
         "rawType": "int64",
         "type": "integer"
        },
        {
         "name": "time.362_363",
         "rawType": "int64",
         "type": "integer"
        },
        {
         "name": "time.363_364",
         "rawType": "int64",
         "type": "integer"
        },
        {
         "name": "time.364_365",
         "rawType": "int64",
         "type": "integer"
        },
        {
         "name": "time.365_366",
         "rawType": "int64",
         "type": "integer"
        },
        {
         "name": "time.366_367",
         "rawType": "int64",
         "type": "integer"
        },
        {
         "name": "time.367_368",
         "rawType": "int64",
         "type": "integer"
        },
        {
         "name": "time.368_369",
         "rawType": "int64",
         "type": "integer"
        },
        {
         "name": "time.369_370",
         "rawType": "int64",
         "type": "integer"
        },
        {
         "name": "time.370_371",
         "rawType": "int64",
         "type": "integer"
        },
        {
         "name": "time.371_372",
         "rawType": "int64",
         "type": "integer"
        },
        {
         "name": "time.372_373",
         "rawType": "int64",
         "type": "integer"
        },
        {
         "name": "time.373_374",
         "rawType": "int64",
         "type": "integer"
        },
        {
         "name": "time.374_375",
         "rawType": "int64",
         "type": "integer"
        },
        {
         "name": "time.375_376",
         "rawType": "int64",
         "type": "integer"
        },
        {
         "name": "time.376_377",
         "rawType": "int64",
         "type": "integer"
        },
        {
         "name": "time.377_378",
         "rawType": "int64",
         "type": "integer"
        },
        {
         "name": "time.378_379",
         "rawType": "int64",
         "type": "integer"
        },
        {
         "name": "time.379_380",
         "rawType": "int64",
         "type": "integer"
        },
        {
         "name": "time.380_381",
         "rawType": "int64",
         "type": "integer"
        },
        {
         "name": "time.381_382",
         "rawType": "int64",
         "type": "integer"
        },
        {
         "name": "time.382_383",
         "rawType": "int64",
         "type": "integer"
        },
        {
         "name": "time.383_384",
         "rawType": "int64",
         "type": "integer"
        },
        {
         "name": "time.384_385",
         "rawType": "int64",
         "type": "integer"
        },
        {
         "name": "time.385_386",
         "rawType": "int64",
         "type": "integer"
        },
        {
         "name": "time.386_387",
         "rawType": "int64",
         "type": "integer"
        },
        {
         "name": "time.387_388",
         "rawType": "int64",
         "type": "integer"
        },
        {
         "name": "time.388_389",
         "rawType": "int64",
         "type": "integer"
        },
        {
         "name": "time.389_390",
         "rawType": "int64",
         "type": "integer"
        },
        {
         "name": "time.390_391",
         "rawType": "int64",
         "type": "integer"
        },
        {
         "name": "time.391_392",
         "rawType": "int64",
         "type": "integer"
        },
        {
         "name": "time.392_393",
         "rawType": "int64",
         "type": "integer"
        },
        {
         "name": "time.393_394",
         "rawType": "int64",
         "type": "integer"
        },
        {
         "name": "time.394_395",
         "rawType": "int64",
         "type": "integer"
        },
        {
         "name": "time.395_396",
         "rawType": "int64",
         "type": "integer"
        },
        {
         "name": "time.396_397",
         "rawType": "int64",
         "type": "integer"
        },
        {
         "name": "time.397_398",
         "rawType": "int64",
         "type": "integer"
        },
        {
         "name": "time.398_399",
         "rawType": "int64",
         "type": "integer"
        },
        {
         "name": "time.399_400",
         "rawType": "int64",
         "type": "integer"
        },
        {
         "name": "time.400_401",
         "rawType": "int64",
         "type": "integer"
        },
        {
         "name": "time.401_402",
         "rawType": "int64",
         "type": "integer"
        },
        {
         "name": "time.402_403",
         "rawType": "int64",
         "type": "integer"
        },
        {
         "name": "time.403_404",
         "rawType": "int64",
         "type": "integer"
        },
        {
         "name": "time.404_405",
         "rawType": "int64",
         "type": "integer"
        },
        {
         "name": "time.405_406",
         "rawType": "int64",
         "type": "integer"
        },
        {
         "name": "time.406_407",
         "rawType": "int64",
         "type": "integer"
        },
        {
         "name": "time.407_408",
         "rawType": "int64",
         "type": "integer"
        },
        {
         "name": "time.408_409",
         "rawType": "int64",
         "type": "integer"
        },
        {
         "name": "time.409_410",
         "rawType": "int64",
         "type": "integer"
        },
        {
         "name": "time.410_411",
         "rawType": "int64",
         "type": "integer"
        },
        {
         "name": "time.411_412",
         "rawType": "int64",
         "type": "integer"
        },
        {
         "name": "time.412_413",
         "rawType": "int64",
         "type": "integer"
        },
        {
         "name": "time.413_414",
         "rawType": "int64",
         "type": "integer"
        },
        {
         "name": "time.414_415",
         "rawType": "int64",
         "type": "integer"
        },
        {
         "name": "time.415_416",
         "rawType": "int64",
         "type": "integer"
        },
        {
         "name": "time.416_417",
         "rawType": "int64",
         "type": "integer"
        },
        {
         "name": "time.417_418",
         "rawType": "int64",
         "type": "integer"
        },
        {
         "name": "time.418_419",
         "rawType": "int64",
         "type": "integer"
        },
        {
         "name": "time.419_420",
         "rawType": "int64",
         "type": "integer"
        },
        {
         "name": "time.420_421",
         "rawType": "int64",
         "type": "integer"
        },
        {
         "name": "time.421_422",
         "rawType": "int64",
         "type": "integer"
        },
        {
         "name": "time.422_423",
         "rawType": "int64",
         "type": "integer"
        },
        {
         "name": "time.423_424",
         "rawType": "int64",
         "type": "integer"
        },
        {
         "name": "time.424_425",
         "rawType": "int64",
         "type": "integer"
        },
        {
         "name": "time.425_426",
         "rawType": "int64",
         "type": "integer"
        },
        {
         "name": "time.426_427",
         "rawType": "int64",
         "type": "integer"
        },
        {
         "name": "time.427_428",
         "rawType": "int64",
         "type": "integer"
        },
        {
         "name": "time.428_429",
         "rawType": "int64",
         "type": "integer"
        },
        {
         "name": "time.429_430",
         "rawType": "int64",
         "type": "integer"
        },
        {
         "name": "time.430_431",
         "rawType": "int64",
         "type": "integer"
        },
        {
         "name": "time.431_432",
         "rawType": "int64",
         "type": "integer"
        },
        {
         "name": "time.432_433",
         "rawType": "int64",
         "type": "integer"
        },
        {
         "name": "time.433_434",
         "rawType": "int64",
         "type": "integer"
        },
        {
         "name": "time.434_435",
         "rawType": "int64",
         "type": "integer"
        },
        {
         "name": "time.435_436",
         "rawType": "int64",
         "type": "integer"
        },
        {
         "name": "time.436_437",
         "rawType": "int64",
         "type": "integer"
        },
        {
         "name": "time.437_438",
         "rawType": "int64",
         "type": "integer"
        },
        {
         "name": "time.438_439",
         "rawType": "int64",
         "type": "integer"
        },
        {
         "name": "time.439_440",
         "rawType": "int64",
         "type": "integer"
        },
        {
         "name": "time.440_441",
         "rawType": "int64",
         "type": "integer"
        },
        {
         "name": "time.441_442",
         "rawType": "int64",
         "type": "integer"
        },
        {
         "name": "time.442_443",
         "rawType": "int64",
         "type": "integer"
        },
        {
         "name": "time.443_444",
         "rawType": "int64",
         "type": "integer"
        },
        {
         "name": "time.444_445",
         "rawType": "int64",
         "type": "integer"
        },
        {
         "name": "time.445_446",
         "rawType": "int64",
         "type": "integer"
        },
        {
         "name": "time.446_447",
         "rawType": "int64",
         "type": "integer"
        },
        {
         "name": "time.447_448",
         "rawType": "int64",
         "type": "integer"
        },
        {
         "name": "time.448_449",
         "rawType": "int64",
         "type": "integer"
        },
        {
         "name": "time.449_450",
         "rawType": "int64",
         "type": "integer"
        },
        {
         "name": "time.450_451",
         "rawType": "int64",
         "type": "integer"
        },
        {
         "name": "time.451_452",
         "rawType": "int64",
         "type": "integer"
        },
        {
         "name": "time.452_453",
         "rawType": "int64",
         "type": "integer"
        },
        {
         "name": "time.453_454",
         "rawType": "int64",
         "type": "integer"
        },
        {
         "name": "time.454_455",
         "rawType": "int64",
         "type": "integer"
        },
        {
         "name": "time.455_456",
         "rawType": "int64",
         "type": "integer"
        },
        {
         "name": "time.456_457",
         "rawType": "int64",
         "type": "integer"
        },
        {
         "name": "time.457_458",
         "rawType": "int64",
         "type": "integer"
        },
        {
         "name": "time.458_459",
         "rawType": "int64",
         "type": "integer"
        },
        {
         "name": "time.459_460",
         "rawType": "int64",
         "type": "integer"
        },
        {
         "name": "time.460_461",
         "rawType": "int64",
         "type": "integer"
        },
        {
         "name": "time.461_462",
         "rawType": "int64",
         "type": "integer"
        },
        {
         "name": "time.462_463",
         "rawType": "int64",
         "type": "integer"
        },
        {
         "name": "time.463_464",
         "rawType": "int64",
         "type": "integer"
        },
        {
         "name": "time.464_465",
         "rawType": "int64",
         "type": "integer"
        },
        {
         "name": "time.465_466",
         "rawType": "int64",
         "type": "integer"
        },
        {
         "name": "time.466_467",
         "rawType": "int64",
         "type": "integer"
        },
        {
         "name": "time.467_468",
         "rawType": "int64",
         "type": "integer"
        },
        {
         "name": "time.468_469",
         "rawType": "int64",
         "type": "integer"
        },
        {
         "name": "time.469_470",
         "rawType": "int64",
         "type": "integer"
        },
        {
         "name": "time.470_471",
         "rawType": "int64",
         "type": "integer"
        },
        {
         "name": "time.471_472",
         "rawType": "int64",
         "type": "integer"
        },
        {
         "name": "time.472_473",
         "rawType": "int64",
         "type": "integer"
        },
        {
         "name": "time.473_474",
         "rawType": "int64",
         "type": "integer"
        },
        {
         "name": "time.474_475",
         "rawType": "int64",
         "type": "integer"
        },
        {
         "name": "time.475_476",
         "rawType": "int64",
         "type": "integer"
        },
        {
         "name": "time.476_477",
         "rawType": "int64",
         "type": "integer"
        },
        {
         "name": "time.477_478",
         "rawType": "int64",
         "type": "integer"
        },
        {
         "name": "time.478_479",
         "rawType": "int64",
         "type": "integer"
        },
        {
         "name": "time.479_480",
         "rawType": "int64",
         "type": "integer"
        },
        {
         "name": "time.480_481",
         "rawType": "int64",
         "type": "integer"
        },
        {
         "name": "time.481_482",
         "rawType": "int64",
         "type": "integer"
        },
        {
         "name": "time.482_483",
         "rawType": "int64",
         "type": "integer"
        },
        {
         "name": "time.483_484",
         "rawType": "int64",
         "type": "integer"
        },
        {
         "name": "time.484_485",
         "rawType": "int64",
         "type": "integer"
        },
        {
         "name": "time.485_486",
         "rawType": "int64",
         "type": "integer"
        },
        {
         "name": "time.486_487",
         "rawType": "int64",
         "type": "integer"
        },
        {
         "name": "time.487_488",
         "rawType": "int64",
         "type": "integer"
        },
        {
         "name": "time.488_489",
         "rawType": "int64",
         "type": "integer"
        },
        {
         "name": "time.489_490",
         "rawType": "int64",
         "type": "integer"
        },
        {
         "name": "time.490_491",
         "rawType": "int64",
         "type": "integer"
        },
        {
         "name": "time.491_492",
         "rawType": "int64",
         "type": "integer"
        },
        {
         "name": "time.492_493",
         "rawType": "int64",
         "type": "integer"
        },
        {
         "name": "time.493_494",
         "rawType": "int64",
         "type": "integer"
        },
        {
         "name": "time.494_495",
         "rawType": "int64",
         "type": "integer"
        },
        {
         "name": "time.495_496",
         "rawType": "int64",
         "type": "integer"
        },
        {
         "name": "time.496_497",
         "rawType": "int64",
         "type": "integer"
        },
        {
         "name": "time.497_498",
         "rawType": "int64",
         "type": "integer"
        },
        {
         "name": "time.498_499",
         "rawType": "int64",
         "type": "integer"
        },
        {
         "name": "time.499_500",
         "rawType": "int64",
         "type": "integer"
        },
        {
         "name": "time.500_501",
         "rawType": "int64",
         "type": "integer"
        },
        {
         "name": "time.501_502",
         "rawType": "int64",
         "type": "integer"
        },
        {
         "name": "time.502_503",
         "rawType": "int64",
         "type": "integer"
        },
        {
         "name": "time.503_504",
         "rawType": "int64",
         "type": "integer"
        },
        {
         "name": "time.504_505",
         "rawType": "int64",
         "type": "integer"
        },
        {
         "name": "time.505_506",
         "rawType": "int64",
         "type": "integer"
        },
        {
         "name": "time.506_507",
         "rawType": "int64",
         "type": "integer"
        },
        {
         "name": "time.507_508",
         "rawType": "int64",
         "type": "integer"
        },
        {
         "name": "time.508_509",
         "rawType": "int64",
         "type": "integer"
        },
        {
         "name": "time.509_510",
         "rawType": "int64",
         "type": "integer"
        },
        {
         "name": "time.510_511",
         "rawType": "int64",
         "type": "integer"
        },
        {
         "name": "time.511_512",
         "rawType": "int64",
         "type": "integer"
        },
        {
         "name": "time.512_513",
         "rawType": "int64",
         "type": "integer"
        },
        {
         "name": "time.513_514",
         "rawType": "int64",
         "type": "integer"
        },
        {
         "name": "time.514_515",
         "rawType": "int64",
         "type": "integer"
        },
        {
         "name": "time.515_516",
         "rawType": "int64",
         "type": "integer"
        },
        {
         "name": "time.516_517",
         "rawType": "int64",
         "type": "integer"
        },
        {
         "name": "time.517_518",
         "rawType": "int64",
         "type": "integer"
        },
        {
         "name": "time.518_519",
         "rawType": "int64",
         "type": "integer"
        },
        {
         "name": "time.519_520",
         "rawType": "int64",
         "type": "integer"
        },
        {
         "name": "time.520_521",
         "rawType": "int64",
         "type": "integer"
        },
        {
         "name": "time.521_522",
         "rawType": "int64",
         "type": "integer"
        },
        {
         "name": "time.522_523",
         "rawType": "int64",
         "type": "integer"
        },
        {
         "name": "time.523_524",
         "rawType": "int64",
         "type": "integer"
        },
        {
         "name": "time.524_525",
         "rawType": "int64",
         "type": "integer"
        },
        {
         "name": "time.525_526",
         "rawType": "int64",
         "type": "integer"
        },
        {
         "name": "time.526_527",
         "rawType": "int64",
         "type": "integer"
        },
        {
         "name": "time.527_528",
         "rawType": "int64",
         "type": "integer"
        },
        {
         "name": "time.528_529",
         "rawType": "int64",
         "type": "integer"
        },
        {
         "name": "time.529_530",
         "rawType": "int64",
         "type": "integer"
        },
        {
         "name": "time.530_531",
         "rawType": "int64",
         "type": "integer"
        },
        {
         "name": "time.531_532",
         "rawType": "int64",
         "type": "integer"
        },
        {
         "name": "time.532_533",
         "rawType": "int64",
         "type": "integer"
        },
        {
         "name": "time.533_534",
         "rawType": "int64",
         "type": "integer"
        },
        {
         "name": "time.534_535",
         "rawType": "int64",
         "type": "integer"
        },
        {
         "name": "time.535_536",
         "rawType": "int64",
         "type": "integer"
        },
        {
         "name": "time.536_537",
         "rawType": "int64",
         "type": "integer"
        },
        {
         "name": "time.537_538",
         "rawType": "int64",
         "type": "integer"
        },
        {
         "name": "time.538_539",
         "rawType": "int64",
         "type": "integer"
        },
        {
         "name": "time.539_540",
         "rawType": "int64",
         "type": "integer"
        },
        {
         "name": "time.540_541",
         "rawType": "int64",
         "type": "integer"
        },
        {
         "name": "time.541_542",
         "rawType": "int64",
         "type": "integer"
        },
        {
         "name": "time.542_543",
         "rawType": "int64",
         "type": "integer"
        },
        {
         "name": "time.543_544",
         "rawType": "int64",
         "type": "integer"
        },
        {
         "name": "time.544_545",
         "rawType": "int64",
         "type": "integer"
        },
        {
         "name": "time.545_546",
         "rawType": "int64",
         "type": "integer"
        },
        {
         "name": "time.546_547",
         "rawType": "int64",
         "type": "integer"
        },
        {
         "name": "time.547_548",
         "rawType": "int64",
         "type": "integer"
        },
        {
         "name": "time.548_549",
         "rawType": "int64",
         "type": "integer"
        },
        {
         "name": "time.549_550",
         "rawType": "int64",
         "type": "integer"
        },
        {
         "name": "time.550_551",
         "rawType": "int64",
         "type": "integer"
        },
        {
         "name": "time.551_552",
         "rawType": "int64",
         "type": "integer"
        },
        {
         "name": "time.552_553",
         "rawType": "int64",
         "type": "integer"
        },
        {
         "name": "time.553_554",
         "rawType": "int64",
         "type": "integer"
        },
        {
         "name": "time.554_555",
         "rawType": "int64",
         "type": "integer"
        },
        {
         "name": "time.555_556",
         "rawType": "int64",
         "type": "integer"
        },
        {
         "name": "time.556_557",
         "rawType": "int64",
         "type": "integer"
        },
        {
         "name": "time.557_558",
         "rawType": "int64",
         "type": "integer"
        },
        {
         "name": "time.558_559",
         "rawType": "int64",
         "type": "integer"
        },
        {
         "name": "time.559_560",
         "rawType": "int64",
         "type": "integer"
        },
        {
         "name": "time.560_561",
         "rawType": "int64",
         "type": "integer"
        },
        {
         "name": "time.561_562",
         "rawType": "int64",
         "type": "integer"
        },
        {
         "name": "time.562_563",
         "rawType": "int64",
         "type": "integer"
        },
        {
         "name": "time.563_564",
         "rawType": "int64",
         "type": "integer"
        },
        {
         "name": "time.564_565",
         "rawType": "int64",
         "type": "integer"
        },
        {
         "name": "time.565_566",
         "rawType": "int64",
         "type": "integer"
        },
        {
         "name": "time.566_567",
         "rawType": "int64",
         "type": "integer"
        },
        {
         "name": "time.567_568",
         "rawType": "int64",
         "type": "integer"
        },
        {
         "name": "time.568_569",
         "rawType": "int64",
         "type": "integer"
        },
        {
         "name": "time.569_570",
         "rawType": "int64",
         "type": "integer"
        },
        {
         "name": "time.570_571",
         "rawType": "int64",
         "type": "integer"
        },
        {
         "name": "time.571_572",
         "rawType": "int64",
         "type": "integer"
        },
        {
         "name": "time.572_573",
         "rawType": "int64",
         "type": "integer"
        },
        {
         "name": "time.573_574",
         "rawType": "int64",
         "type": "integer"
        },
        {
         "name": "time.574_575",
         "rawType": "int64",
         "type": "integer"
        },
        {
         "name": "time.575_576",
         "rawType": "int64",
         "type": "integer"
        },
        {
         "name": "time.576_577",
         "rawType": "int64",
         "type": "integer"
        },
        {
         "name": "time.577_578",
         "rawType": "int64",
         "type": "integer"
        },
        {
         "name": "time.578_579",
         "rawType": "int64",
         "type": "integer"
        },
        {
         "name": "time.579_580",
         "rawType": "int64",
         "type": "integer"
        },
        {
         "name": "time.580_581",
         "rawType": "int64",
         "type": "integer"
        },
        {
         "name": "time.581_582",
         "rawType": "int64",
         "type": "integer"
        },
        {
         "name": "time.582_583",
         "rawType": "int64",
         "type": "integer"
        },
        {
         "name": "time.583_584",
         "rawType": "int64",
         "type": "integer"
        },
        {
         "name": "time.584_585",
         "rawType": "int64",
         "type": "integer"
        },
        {
         "name": "time.585_586",
         "rawType": "int64",
         "type": "integer"
        },
        {
         "name": "time.586_587",
         "rawType": "int64",
         "type": "integer"
        },
        {
         "name": "time.587_588",
         "rawType": "int64",
         "type": "integer"
        },
        {
         "name": "time.588_589",
         "rawType": "int64",
         "type": "integer"
        },
        {
         "name": "time.589_590",
         "rawType": "int64",
         "type": "integer"
        },
        {
         "name": "time.590_591",
         "rawType": "int64",
         "type": "integer"
        },
        {
         "name": "time.591_592",
         "rawType": "int64",
         "type": "integer"
        },
        {
         "name": "time.592_593",
         "rawType": "int64",
         "type": "integer"
        },
        {
         "name": "time.593_594",
         "rawType": "int64",
         "type": "integer"
        },
        {
         "name": "time.594_595",
         "rawType": "int64",
         "type": "integer"
        },
        {
         "name": "time.595_596",
         "rawType": "int64",
         "type": "integer"
        },
        {
         "name": "time.596_597",
         "rawType": "int64",
         "type": "integer"
        },
        {
         "name": "time.597_598",
         "rawType": "int64",
         "type": "integer"
        },
        {
         "name": "time.598_599",
         "rawType": "int64",
         "type": "integer"
        },
        {
         "name": "time.599_600",
         "rawType": "int64",
         "type": "integer"
        },
        {
         "name": "time.600_601",
         "rawType": "int64",
         "type": "integer"
        },
        {
         "name": "time.601_602",
         "rawType": "int64",
         "type": "integer"
        },
        {
         "name": "time.602_603",
         "rawType": "int64",
         "type": "integer"
        },
        {
         "name": "time.603_604",
         "rawType": "int64",
         "type": "integer"
        },
        {
         "name": "time.604_605",
         "rawType": "int64",
         "type": "integer"
        },
        {
         "name": "time.605_606",
         "rawType": "int64",
         "type": "integer"
        },
        {
         "name": "time.606_607",
         "rawType": "int64",
         "type": "integer"
        },
        {
         "name": "time.607_608",
         "rawType": "int64",
         "type": "integer"
        },
        {
         "name": "time.608_609",
         "rawType": "int64",
         "type": "integer"
        },
        {
         "name": "time.609_610",
         "rawType": "int64",
         "type": "integer"
        },
        {
         "name": "time.610_611",
         "rawType": "int64",
         "type": "integer"
        },
        {
         "name": "time.611_612",
         "rawType": "int64",
         "type": "integer"
        },
        {
         "name": "time.612_613",
         "rawType": "int64",
         "type": "integer"
        },
        {
         "name": "time.613_614",
         "rawType": "int64",
         "type": "integer"
        },
        {
         "name": "time.614_615",
         "rawType": "int64",
         "type": "integer"
        },
        {
         "name": "time.615_616",
         "rawType": "int64",
         "type": "integer"
        },
        {
         "name": "time.616_617",
         "rawType": "int64",
         "type": "integer"
        },
        {
         "name": "time.617_618",
         "rawType": "int64",
         "type": "integer"
        },
        {
         "name": "time.618_619",
         "rawType": "int64",
         "type": "integer"
        },
        {
         "name": "time.619_620",
         "rawType": "int64",
         "type": "integer"
        },
        {
         "name": "time.620_621",
         "rawType": "int64",
         "type": "integer"
        },
        {
         "name": "time.621_622",
         "rawType": "int64",
         "type": "integer"
        },
        {
         "name": "time.622_623",
         "rawType": "int64",
         "type": "integer"
        },
        {
         "name": "time.623_624",
         "rawType": "int64",
         "type": "integer"
        },
        {
         "name": "time.624_625",
         "rawType": "int64",
         "type": "integer"
        },
        {
         "name": "time.625_626",
         "rawType": "int64",
         "type": "integer"
        },
        {
         "name": "time.626_627",
         "rawType": "int64",
         "type": "integer"
        },
        {
         "name": "time.627_628",
         "rawType": "int64",
         "type": "integer"
        },
        {
         "name": "time.628_629",
         "rawType": "int64",
         "type": "integer"
        },
        {
         "name": "time.629_630",
         "rawType": "int64",
         "type": "integer"
        },
        {
         "name": "time.630_631",
         "rawType": "int64",
         "type": "integer"
        },
        {
         "name": "time.631_632",
         "rawType": "int64",
         "type": "integer"
        },
        {
         "name": "time.632_633",
         "rawType": "int64",
         "type": "integer"
        },
        {
         "name": "time.633_634",
         "rawType": "int64",
         "type": "integer"
        },
        {
         "name": "time.634_635",
         "rawType": "int64",
         "type": "integer"
        },
        {
         "name": "time.635_636",
         "rawType": "int64",
         "type": "integer"
        },
        {
         "name": "time.636_637",
         "rawType": "int64",
         "type": "integer"
        },
        {
         "name": "time.637_638",
         "rawType": "int64",
         "type": "integer"
        },
        {
         "name": "time.638_639",
         "rawType": "int64",
         "type": "integer"
        },
        {
         "name": "time.639_640",
         "rawType": "int64",
         "type": "integer"
        },
        {
         "name": "time.640_641",
         "rawType": "int64",
         "type": "integer"
        },
        {
         "name": "time.641_642",
         "rawType": "int64",
         "type": "integer"
        },
        {
         "name": "time.642_643",
         "rawType": "int64",
         "type": "integer"
        },
        {
         "name": "time.643_644",
         "rawType": "int64",
         "type": "integer"
        },
        {
         "name": "time.644_645",
         "rawType": "int64",
         "type": "integer"
        },
        {
         "name": "time.645_646",
         "rawType": "int64",
         "type": "integer"
        },
        {
         "name": "time.646_647",
         "rawType": "int64",
         "type": "integer"
        },
        {
         "name": "time.647_648",
         "rawType": "int64",
         "type": "integer"
        },
        {
         "name": "time.648_649",
         "rawType": "int64",
         "type": "integer"
        },
        {
         "name": "time.649_650",
         "rawType": "int64",
         "type": "integer"
        },
        {
         "name": "time.650_651",
         "rawType": "int64",
         "type": "integer"
        },
        {
         "name": "time.651_652",
         "rawType": "int64",
         "type": "integer"
        },
        {
         "name": "time.652_653",
         "rawType": "int64",
         "type": "integer"
        },
        {
         "name": "time.653_654",
         "rawType": "int64",
         "type": "integer"
        },
        {
         "name": "time.654_655",
         "rawType": "int64",
         "type": "integer"
        },
        {
         "name": "time.655_656",
         "rawType": "int64",
         "type": "integer"
        },
        {
         "name": "time.656_657",
         "rawType": "int64",
         "type": "integer"
        },
        {
         "name": "time.657_658",
         "rawType": "int64",
         "type": "integer"
        },
        {
         "name": "time.658_659",
         "rawType": "int64",
         "type": "integer"
        },
        {
         "name": "time.659_660",
         "rawType": "int64",
         "type": "integer"
        },
        {
         "name": "time.660_661",
         "rawType": "int64",
         "type": "integer"
        },
        {
         "name": "time.661_662",
         "rawType": "int64",
         "type": "integer"
        },
        {
         "name": "time.662_663",
         "rawType": "int64",
         "type": "integer"
        },
        {
         "name": "time.663_664",
         "rawType": "int64",
         "type": "integer"
        },
        {
         "name": "time.664_665",
         "rawType": "int64",
         "type": "integer"
        },
        {
         "name": "time.665_666",
         "rawType": "int64",
         "type": "integer"
        },
        {
         "name": "time.666_667",
         "rawType": "int64",
         "type": "integer"
        },
        {
         "name": "time.667_668",
         "rawType": "int64",
         "type": "integer"
        },
        {
         "name": "time.668_669",
         "rawType": "int64",
         "type": "integer"
        },
        {
         "name": "time.669_670",
         "rawType": "int64",
         "type": "integer"
        },
        {
         "name": "time.670_671",
         "rawType": "int64",
         "type": "integer"
        },
        {
         "name": "time.671_672",
         "rawType": "int64",
         "type": "integer"
        },
        {
         "name": "time.672_673",
         "rawType": "int64",
         "type": "integer"
        },
        {
         "name": "time.673_674",
         "rawType": "int64",
         "type": "integer"
        },
        {
         "name": "time.674_675",
         "rawType": "int64",
         "type": "integer"
        },
        {
         "name": "time.675_676",
         "rawType": "int64",
         "type": "integer"
        },
        {
         "name": "time.676_677",
         "rawType": "int64",
         "type": "integer"
        },
        {
         "name": "time.677_678",
         "rawType": "int64",
         "type": "integer"
        },
        {
         "name": "time.678_679",
         "rawType": "int64",
         "type": "integer"
        },
        {
         "name": "time.679_680",
         "rawType": "int64",
         "type": "integer"
        },
        {
         "name": "time.680_681",
         "rawType": "int64",
         "type": "integer"
        },
        {
         "name": "time.681_682",
         "rawType": "int64",
         "type": "integer"
        },
        {
         "name": "time.682_683",
         "rawType": "int64",
         "type": "integer"
        },
        {
         "name": "time.683_684",
         "rawType": "int64",
         "type": "integer"
        },
        {
         "name": "time.684_685",
         "rawType": "int64",
         "type": "integer"
        },
        {
         "name": "time.685_686",
         "rawType": "int64",
         "type": "integer"
        },
        {
         "name": "time.686_687",
         "rawType": "int64",
         "type": "integer"
        },
        {
         "name": "time.687_688",
         "rawType": "int64",
         "type": "integer"
        },
        {
         "name": "time.688_689",
         "rawType": "int64",
         "type": "integer"
        },
        {
         "name": "time.689_690",
         "rawType": "int64",
         "type": "integer"
        },
        {
         "name": "time.690_691",
         "rawType": "int64",
         "type": "integer"
        },
        {
         "name": "time.691_692",
         "rawType": "int64",
         "type": "integer"
        },
        {
         "name": "time.692_693",
         "rawType": "int64",
         "type": "integer"
        },
        {
         "name": "time.693_694",
         "rawType": "int64",
         "type": "integer"
        },
        {
         "name": "time.694_695",
         "rawType": "int64",
         "type": "integer"
        },
        {
         "name": "time.695_696",
         "rawType": "int64",
         "type": "integer"
        },
        {
         "name": "time.696_697",
         "rawType": "int64",
         "type": "integer"
        },
        {
         "name": "time.697_698",
         "rawType": "int64",
         "type": "integer"
        },
        {
         "name": "time.698_699",
         "rawType": "int64",
         "type": "integer"
        },
        {
         "name": "time.699_700",
         "rawType": "int64",
         "type": "integer"
        },
        {
         "name": "time.700_701",
         "rawType": "int64",
         "type": "integer"
        },
        {
         "name": "time.701_702",
         "rawType": "int64",
         "type": "integer"
        },
        {
         "name": "time.702_703",
         "rawType": "int64",
         "type": "integer"
        },
        {
         "name": "time.703_704",
         "rawType": "int64",
         "type": "integer"
        },
        {
         "name": "time.704_705",
         "rawType": "int64",
         "type": "integer"
        },
        {
         "name": "time.705_706",
         "rawType": "int64",
         "type": "integer"
        },
        {
         "name": "time.706_707",
         "rawType": "int64",
         "type": "integer"
        },
        {
         "name": "time.707_708",
         "rawType": "int64",
         "type": "integer"
        },
        {
         "name": "time.708_709",
         "rawType": "int64",
         "type": "integer"
        },
        {
         "name": "time.709_710",
         "rawType": "int64",
         "type": "integer"
        },
        {
         "name": "time.710_711",
         "rawType": "int64",
         "type": "integer"
        },
        {
         "name": "time.711_712",
         "rawType": "int64",
         "type": "integer"
        },
        {
         "name": "time.712_713",
         "rawType": "int64",
         "type": "integer"
        },
        {
         "name": "time.713_714",
         "rawType": "int64",
         "type": "integer"
        },
        {
         "name": "time.714_715",
         "rawType": "int64",
         "type": "integer"
        },
        {
         "name": "time.715_716",
         "rawType": "int64",
         "type": "integer"
        },
        {
         "name": "time.716_717",
         "rawType": "int64",
         "type": "integer"
        },
        {
         "name": "time.717_718",
         "rawType": "int64",
         "type": "integer"
        },
        {
         "name": "time.718_719",
         "rawType": "int64",
         "type": "integer"
        },
        {
         "name": "time.719_720",
         "rawType": "int64",
         "type": "integer"
        },
        {
         "name": "time.720_721",
         "rawType": "int64",
         "type": "integer"
        },
        {
         "name": "time.721_722",
         "rawType": "int64",
         "type": "integer"
        },
        {
         "name": "time.722_723",
         "rawType": "int64",
         "type": "integer"
        },
        {
         "name": "time.723_724",
         "rawType": "int64",
         "type": "integer"
        },
        {
         "name": "time.724_725",
         "rawType": "int64",
         "type": "integer"
        },
        {
         "name": "time.725_726",
         "rawType": "int64",
         "type": "integer"
        },
        {
         "name": "time.726_727",
         "rawType": "int64",
         "type": "integer"
        },
        {
         "name": "time.727_728",
         "rawType": "int64",
         "type": "integer"
        },
        {
         "name": "time.728_729",
         "rawType": "int64",
         "type": "integer"
        },
        {
         "name": "time.729_730",
         "rawType": "int64",
         "type": "integer"
        },
        {
         "name": "time.730_731",
         "rawType": "int64",
         "type": "integer"
        },
        {
         "name": "time.731_732",
         "rawType": "int64",
         "type": "integer"
        },
        {
         "name": "time.732_733",
         "rawType": "int64",
         "type": "integer"
        },
        {
         "name": "time.733_734",
         "rawType": "int64",
         "type": "integer"
        },
        {
         "name": "time.734_735",
         "rawType": "int64",
         "type": "integer"
        },
        {
         "name": "time.735_736",
         "rawType": "int64",
         "type": "integer"
        },
        {
         "name": "time.736_737",
         "rawType": "int64",
         "type": "integer"
        },
        {
         "name": "time.737_738",
         "rawType": "int64",
         "type": "integer"
        },
        {
         "name": "time.738_739",
         "rawType": "int64",
         "type": "integer"
        },
        {
         "name": "time.739_740",
         "rawType": "int64",
         "type": "integer"
        },
        {
         "name": "time.740_741",
         "rawType": "int64",
         "type": "integer"
        },
        {
         "name": "time.741_742",
         "rawType": "int64",
         "type": "integer"
        },
        {
         "name": "time.742_743",
         "rawType": "int64",
         "type": "integer"
        },
        {
         "name": "time.743_744",
         "rawType": "int64",
         "type": "integer"
        },
        {
         "name": "time.744_745",
         "rawType": "int64",
         "type": "integer"
        },
        {
         "name": "time.745_746",
         "rawType": "int64",
         "type": "integer"
        },
        {
         "name": "time.746_747",
         "rawType": "int64",
         "type": "integer"
        },
        {
         "name": "time.747_748",
         "rawType": "int64",
         "type": "integer"
        },
        {
         "name": "time.748_749",
         "rawType": "int64",
         "type": "integer"
        },
        {
         "name": "time.749_750",
         "rawType": "int64",
         "type": "integer"
        },
        {
         "name": "time.750_751",
         "rawType": "int64",
         "type": "integer"
        },
        {
         "name": "time.751_752",
         "rawType": "int64",
         "type": "integer"
        },
        {
         "name": "time.752_753",
         "rawType": "int64",
         "type": "integer"
        },
        {
         "name": "time.753_754",
         "rawType": "int64",
         "type": "integer"
        },
        {
         "name": "time.754_755",
         "rawType": "int64",
         "type": "integer"
        },
        {
         "name": "time.755_756",
         "rawType": "int64",
         "type": "integer"
        },
        {
         "name": "time.756_757",
         "rawType": "int64",
         "type": "integer"
        },
        {
         "name": "time.757_758",
         "rawType": "int64",
         "type": "integer"
        },
        {
         "name": "time.758_759",
         "rawType": "int64",
         "type": "integer"
        },
        {
         "name": "time.759_760",
         "rawType": "int64",
         "type": "integer"
        },
        {
         "name": "time.760_761",
         "rawType": "int64",
         "type": "integer"
        },
        {
         "name": "time.761_762",
         "rawType": "int64",
         "type": "integer"
        },
        {
         "name": "time.762_763",
         "rawType": "int64",
         "type": "integer"
        },
        {
         "name": "time.763_764",
         "rawType": "int64",
         "type": "integer"
        },
        {
         "name": "time.764_765",
         "rawType": "int64",
         "type": "integer"
        },
        {
         "name": "time.765_766",
         "rawType": "int64",
         "type": "integer"
        },
        {
         "name": "time.766_767",
         "rawType": "int64",
         "type": "integer"
        },
        {
         "name": "time.767_768",
         "rawType": "int64",
         "type": "integer"
        },
        {
         "name": "time.768_769",
         "rawType": "int64",
         "type": "integer"
        },
        {
         "name": "time.769_770",
         "rawType": "int64",
         "type": "integer"
        },
        {
         "name": "time.770_771",
         "rawType": "int64",
         "type": "integer"
        },
        {
         "name": "time.771_772",
         "rawType": "int64",
         "type": "integer"
        },
        {
         "name": "time.772_773",
         "rawType": "int64",
         "type": "integer"
        },
        {
         "name": "time.773_774",
         "rawType": "int64",
         "type": "integer"
        },
        {
         "name": "time.774_775",
         "rawType": "int64",
         "type": "integer"
        },
        {
         "name": "time.775_776",
         "rawType": "int64",
         "type": "integer"
        },
        {
         "name": "time.776_777",
         "rawType": "int64",
         "type": "integer"
        },
        {
         "name": "time.777_778",
         "rawType": "int64",
         "type": "integer"
        },
        {
         "name": "time.778_779",
         "rawType": "int64",
         "type": "integer"
        },
        {
         "name": "time.779_780",
         "rawType": "int64",
         "type": "integer"
        },
        {
         "name": "time.780_781",
         "rawType": "int64",
         "type": "integer"
        },
        {
         "name": "time.781_782",
         "rawType": "int64",
         "type": "integer"
        },
        {
         "name": "time.782_783",
         "rawType": "int64",
         "type": "integer"
        },
        {
         "name": "time.783_784",
         "rawType": "int64",
         "type": "integer"
        },
        {
         "name": "time.784_785",
         "rawType": "int64",
         "type": "integer"
        },
        {
         "name": "time.785_786",
         "rawType": "int64",
         "type": "integer"
        },
        {
         "name": "time.786_787",
         "rawType": "int64",
         "type": "integer"
        },
        {
         "name": "time.787_788",
         "rawType": "int64",
         "type": "integer"
        },
        {
         "name": "time.788_789",
         "rawType": "int64",
         "type": "integer"
        },
        {
         "name": "time.789_790",
         "rawType": "int64",
         "type": "integer"
        },
        {
         "name": "time.790_791",
         "rawType": "int64",
         "type": "integer"
        },
        {
         "name": "time.791_792",
         "rawType": "int64",
         "type": "integer"
        },
        {
         "name": "time.792_793",
         "rawType": "int64",
         "type": "integer"
        },
        {
         "name": "time.793_794",
         "rawType": "int64",
         "type": "integer"
        },
        {
         "name": "time.794_795",
         "rawType": "int64",
         "type": "integer"
        },
        {
         "name": "time.795_796",
         "rawType": "int64",
         "type": "integer"
        },
        {
         "name": "time.796_797",
         "rawType": "int64",
         "type": "integer"
        },
        {
         "name": "time.797_798",
         "rawType": "int64",
         "type": "integer"
        },
        {
         "name": "time.798_799",
         "rawType": "int64",
         "type": "integer"
        },
        {
         "name": "time.799_800",
         "rawType": "int64",
         "type": "integer"
        },
        {
         "name": "time.800_801",
         "rawType": "int64",
         "type": "integer"
        }
       ],
       "conversionMethod": "pd.DataFrame",
       "ref": "6bcff667-bfe6-415d-8b22-7d93b4dc63d6",
       "rows": [
        [
         "0",
         "0",
         "0",
         "0",
         "0",
         "0",
         "0",
         "0",
         "0",
         "0",
         "0",
         "0",
         "0",
         "0",
         "0",
         "0",
         "0",
         "0",
         "0",
         "0",
         "0",
         "0",
         "0",
         "0",
         "0",
         "0",
         "0",
         "0",
         "0",
         "0",
         "0",
         "0",
         "0",
         "0",
         "0",
         "0",
         "0",
         "0",
         "0",
         "0",
         "0",
         "0",
         "0",
         "0",
         "0",
         "0",
         "0",
         "0",
         "0",
         "0",
         "0",
         "0",
         "0",
         "0",
         "0",
         "0",
         "0",
         "0",
         "0",
         "0",
         "0",
         "0",
         "0",
         "0",
         "0",
         "0",
         "0",
         "0",
         "0",
         "0",
         "0",
         "0",
         "0",
         "0",
         "0",
         "0",
         "0",
         "0",
         "0",
         "0",
         "0",
         "0",
         "0",
         "0",
         "0",
         "0",
         "0",
         "0",
         "0",
         "0",
         "0",
         "0",
         "0",
         "0",
         "0",
         "0",
         "0",
         "0",
         "0",
         "0",
         "0",
         "0",
         "0",
         "0",
         "0",
         "0",
         "0",
         "0",
         "0",
         "0",
         "0",
         "0",
         "0",
         "0",
         "0",
         "0",
         "0",
         "1",
         "0",
         "0",
         "0",
         "0",
         "0",
         "0",
         "0",
         "1",
         "0",
         "0",
         "0",
         "0",
         "0",
         "0",
         "0",
         "0",
         "0",
         "0",
         "1",
         "0",
         "0",
         "0",
         "0",
         "0",
         "0",
         "0",
         "0",
         "0",
         "0",
         "0",
         "0",
         "0",
         "0",
         "0",
         "0",
         "1",
         "0",
         "0",
         "0",
         "0",
         "0",
         "0",
         "0",
         "0",
         "0",
         "0",
         "0",
         "0",
         "0",
         "0",
         "0",
         "0",
         "0",
         "0",
         "0",
         "0",
         "0",
         "0",
         "0",
         "0",
         "0",
         "0",
         "0",
         "1",
         "0",
         "0",
         "0",
         "0",
         "0",
         "0",
         "0",
         "0",
         "0",
         "0",
         "0",
         "0",
         "0",
         "0",
         "0",
         "0",
         "0",
         "0",
         "0",
         "0",
         "0",
         "0",
         "0",
         "0",
         "0",
         "0",
         "1",
         "0",
         "0",
         "0",
         "0",
         "0",
         "0",
         "0",
         "0",
         "0",
         "0",
         "0",
         "0",
         "0",
         "0",
         "0",
         "0",
         "0",
         "0",
         "0",
         "0",
         "0",
         "0",
         "0",
         "0",
         "0",
         "0",
         "0",
         "1",
         "0",
         "0",
         "0",
         "0",
         "0",
         "0",
         "0",
         "0",
         "0",
         "0",
         "0",
         "0",
         "0",
         "0",
         "0",
         "0",
         "0",
         "0",
         "0",
         "0",
         "0",
         "0",
         "0",
         "0",
         "0",
         "0",
         "0",
         "0",
         "0",
         "0",
         "0",
         "0",
         "1",
         "0",
         "0",
         "0",
         "0",
         "0",
         "0",
         "0",
         "0",
         "0",
         "0",
         "0",
         "0",
         "0",
         "0",
         "0",
         "0",
         "0",
         "0",
         "0",
         "0",
         "0",
         "0",
         "0",
         "0",
         "0",
         "0",
         "0",
         "0",
         "0",
         "0",
         "0",
         "0",
         "0",
         "0",
         "0",
         "0",
         "0",
         "0",
         "0",
         "0",
         "0",
         "0",
         "0",
         "0",
         "0",
         "0",
         "0",
         "0",
         "0",
         "0",
         "0",
         "0",
         "0",
         "0",
         "0",
         "0",
         "0",
         "0",
         "0",
         "0",
         "0",
         "0",
         "0",
         "0",
         "0",
         "0",
         "0",
         "0",
         "0",
         "0",
         "0",
         "0",
         "0",
         "0",
         "0",
         "0",
         "0",
         "0",
         "0",
         "0",
         "0",
         "0",
         "0",
         "0",
         "0",
         "0",
         "0",
         "0",
         "0",
         "0",
         "0",
         "0",
         "0",
         "0",
         "0",
         "0",
         "0",
         "0",
         "0",
         "0",
         "0",
         "0",
         "0",
         "0",
         "0",
         "0",
         "0",
         "0",
         "0",
         "0",
         "0",
         "0",
         "0",
         "0",
         "0",
         "0",
         "0",
         "0",
         "0",
         "0",
         "0",
         "0",
         "0",
         "0",
         "0",
         "0",
         "0",
         "0",
         "0",
         "0",
         "0",
         "0",
         "0",
         "0",
         "0",
         "0",
         "0",
         "0",
         "0",
         "0",
         "0",
         "0",
         "0",
         "0",
         "0",
         "0",
         "0",
         "0",
         "0",
         "0",
         "0",
         "0",
         "0",
         "0",
         "0",
         "0",
         "0",
         "0",
         "0",
         "0",
         "0",
         "0",
         "0",
         "0",
         "0",
         "0",
         "0",
         "0",
         "0",
         "0",
         "0",
         "0",
         "0",
         "0",
         "0",
         "0",
         "0",
         "0",
         "0",
         "0",
         "0",
         "0",
         "0",
         "0",
         "0",
         "0",
         "0",
         "0",
         "0",
         "0",
         "0",
         "0",
         "0",
         "0",
         "0",
         "0",
         "0",
         "0",
         "0",
         "0",
         "0",
         "0",
         "0",
         "0",
         "0",
         "0",
         "0",
         "0",
         "0",
         "0",
         "0",
         "0",
         "0",
         "0",
         "0",
         "0",
         "0",
         "0",
         "0",
         "0",
         "0",
         "0",
         "0",
         "0",
         "0",
         "0",
         "0",
         "0",
         "0",
         "0",
         "0",
         "0",
         "0",
         "0",
         "0",
         "0",
         "0",
         "0",
         "0",
         "0",
         "0",
         "0",
         "0",
         "0",
         "0",
         "0",
         "0",
         "0",
         "0",
         "0",
         "0",
         "0",
         "0",
         "0",
         "0",
         "0",
         "0",
         "0",
         "0",
         "0",
         "0",
         "0",
         "0",
         "0",
         "0",
         "0",
         "0",
         "0",
         "0",
         "0",
         "0",
         "0",
         "0",
         "0",
         "1",
         "0",
         "0",
         "0",
         "0",
         "0",
         "0",
         "0",
         "0",
         "0",
         "0",
         "0",
         "0",
         "0",
         "0",
         "0",
         "0",
         "0",
         "0",
         "0",
         "0",
         "0",
         "0",
         "0",
         "0",
         "1",
         "0",
         "0",
         "0",
         "0",
         "0",
         "0",
         "0",
         "0",
         "0",
         "0",
         "0",
         "0",
         "0",
         "0",
         "0",
         "0",
         "0",
         "0",
         "0",
         "0",
         "0",
         "0",
         "0",
         "1",
         "0",
         "0",
         "0",
         "0",
         "0",
         "0",
         "0",
         "0",
         "0",
         "0",
         "0",
         "0",
         "0",
         "0",
         "0",
         "0",
         "0",
         "0",
         "0",
         "0",
         "0",
         "0",
         "0",
         "0",
         "0",
         "0",
         "0",
         "0",
         "0",
         "0",
         "0",
         "0",
         "0",
         "0",
         "0",
         "0",
         "0",
         "0",
         "0",
         "0",
         "0",
         "0",
         "0",
         "0",
         "0",
         "0",
         "0",
         "0",
         "0",
         "0",
         "0",
         "0",
         "0",
         "0",
         "0",
         "0",
         "0",
         "0",
         "0",
         "0",
         "0",
         "0",
         "0",
         "0",
         "0",
         "0",
         "0",
         "0",
         "0",
         "0",
         "0",
         "0",
         "0",
         "0",
         "0",
         "0",
         "0",
         "0",
         "0",
         "0",
         "0",
         "0",
         "0",
         "0",
         "0",
         "0",
         "0",
         "0",
         "0",
         "0",
         "0",
         "0",
         "0",
         "0",
         "0",
         "0",
         "0",
         "0",
         "0",
         "0",
         "0",
         "0",
         "0",
         "0",
         "0",
         "0",
         "1",
         "0",
         "0",
         "0",
         "0",
         "0",
         "0",
         "0",
         "0",
         "0",
         "0",
         "0",
         "0",
         "0",
         "0",
         "0",
         "0",
         "0",
         "0",
         "0",
         "0",
         "0",
         "0",
         "0",
         "0",
         "0",
         "0",
         "0",
         "0",
         "0",
         "0",
         "0",
         "0",
         "0",
         "0",
         "0",
         "0",
         "0",
         "0",
         "0",
         "0",
         "0",
         "0",
         "0",
         "0",
         "0",
         "0",
         "0",
         "0",
         "0",
         "0",
         "1",
         "0",
         "0",
         "0",
         "0",
         "0",
         "0",
         "0",
         "0",
         "0",
         "0",
         "0",
         "0",
         "0",
         "0",
         "0",
         "0",
         "0",
         "0",
         "0",
         "0",
         "0",
         "0",
         "0",
         "0",
         "0",
         "0",
         "0",
         "0",
         "0",
         "0",
         "0",
         "0",
         "0",
         "0",
         "0",
         "0",
         "0",
         "0",
         "0",
         "0",
         "0",
         "0",
         "0",
         "0",
         "0",
         "0",
         "0",
         "1",
         "0"
        ],
        [
         "1",
         "0",
         "0",
         "0",
         "0",
         "0",
         "0",
         "0",
         "1",
         "0",
         "0",
         "0",
         "0",
         "0",
         "0",
         "0",
         "0",
         "0",
         "0",
         "0",
         "0",
         "0",
         "0",
         "0",
         "0",
         "0",
         "0",
         "0",
         "0",
         "0",
         "0",
         "0",
         "0",
         "0",
         "0",
         "0",
         "0",
         "0",
         "0",
         "0",
         "0",
         "0",
         "0",
         "0",
         "0",
         "0",
         "0",
         "0",
         "0",
         "0",
         "0",
         "0",
         "0",
         "0",
         "0",
         "0",
         "0",
         "0",
         "0",
         "0",
         "0",
         "0",
         "0",
         "0",
         "0",
         "0",
         "0",
         "0",
         "0",
         "0",
         "0",
         "0",
         "0",
         "0",
         "0",
         "0",
         "0",
         "0",
         "0",
         "0",
         "0",
         "0",
         "0",
         "0",
         "0",
         "0",
         "0",
         "0",
         "0",
         "0",
         "0",
         "0",
         "0",
         "0",
         "0",
         "0",
         "0",
         "0",
         "0",
         "0",
         "0",
         "0",
         "0",
         "0",
         "0",
         "0",
         "0",
         "0",
         "0",
         "0",
         "0",
         "0",
         "0",
         "0",
         "1",
         "0",
         "0",
         "0",
         "0",
         "0",
         "0",
         "0",
         "0",
         "0",
         "0",
         "0",
         "0",
         "0",
         "0",
         "0",
         "0",
         "0",
         "0",
         "0",
         "1",
         "0",
         "0",
         "0",
         "0",
         "0",
         "0",
         "0",
         "0",
         "0",
         "1",
         "0",
         "0",
         "0",
         "0",
         "0",
         "0",
         "0",
         "0",
         "0",
         "0",
         "1",
         "0",
         "0",
         "0",
         "0",
         "1",
         "0",
         "0",
         "0",
         "0",
         "0",
         "0",
         "0",
         "0",
         "0",
         "0",
         "0",
         "0",
         "0",
         "0",
         "0",
         "0",
         "0",
         "0",
         "0",
         "0",
         "0",
         "1",
         "0",
         "0",
         "0",
         "0",
         "0",
         "0",
         "0",
         "0",
         "0",
         "0",
         "0",
         "0",
         "0",
         "0",
         "0",
         "0",
         "0",
         "0",
         "0",
         "0",
         "0",
         "0",
         "0",
         "0",
         "0",
         "0",
         "0",
         "0",
         "0",
         "0",
         "0",
         "0",
         "0",
         "0",
         "0",
         "0",
         "0",
         "0",
         "0",
         "0",
         "0",
         "0",
         "0",
         "0",
         "0",
         "0",
         "0",
         "0",
         "0",
         "0",
         "0",
         "0",
         "0",
         "0",
         "0",
         "0",
         "0",
         "0",
         "0",
         "0",
         "0",
         "0",
         "0",
         "0",
         "0",
         "0",
         "0",
         "0",
         "0",
         "0",
         "0",
         "0",
         "0",
         "0",
         "0",
         "0",
         "0",
         "0",
         "0",
         "0",
         "0",
         "0",
         "0",
         "0",
         "0",
         "0",
         "0",
         "0",
         "0",
         "0",
         "0",
         "0",
         "0",
         "0",
         "0",
         "0",
         "0",
         "0",
         "0",
         "0",
         "0",
         "0",
         "0",
         "0",
         "0",
         "1",
         "0",
         "0",
         "0",
         "0",
         "0",
         "0",
         "0",
         "0",
         "0",
         "0",
         "0",
         "0",
         "0",
         "0",
         "0",
         "0",
         "0",
         "0",
         "0",
         "0",
         "0",
         "0",
         "0",
         "0",
         "0",
         "0",
         "0",
         "0",
         "0",
         "0",
         "0",
         "0",
         "0",
         "0",
         "0",
         "0",
         "0",
         "0",
         "0",
         "0",
         "0",
         "0",
         "0",
         "0",
         "0",
         "0",
         "0",
         "0",
         "0",
         "0",
         "0",
         "0",
         "0",
         "0",
         "0",
         "1",
         "0",
         "0",
         "0",
         "0",
         "0",
         "0",
         "0",
         "0",
         "0",
         "0",
         "0",
         "0",
         "0",
         "0",
         "0",
         "0",
         "0",
         "0",
         "0",
         "0",
         "0",
         "0",
         "0",
         "0",
         "0",
         "0",
         "0",
         "0",
         "0",
         "0",
         "0",
         "0",
         "0",
         "0",
         "0",
         "0",
         "0",
         "0",
         "0",
         "0",
         "0",
         "0",
         "0",
         "0",
         "0",
         "0",
         "0",
         "0",
         "0",
         "0",
         "0",
         "0",
         "0",
         "0",
         "0",
         "1",
         "0",
         "0",
         "0",
         "0",
         "0",
         "0",
         "0",
         "0",
         "0",
         "0",
         "0",
         "0",
         "0",
         "0",
         "0",
         "0",
         "0",
         "0",
         "0",
         "0",
         "0",
         "0",
         "0",
         "0",
         "0",
         "0",
         "0",
         "0",
         "0",
         "0",
         "0",
         "0",
         "0",
         "0",
         "0",
         "0",
         "0",
         "0",
         "0",
         "0",
         "0",
         "0",
         "0",
         "0",
         "0",
         "0",
         "0",
         "0",
         "0",
         "0",
         "0",
         "0",
         "0",
         "0",
         "0",
         "0",
         "0",
         "0",
         "0",
         "0",
         "0",
         "0",
         "0",
         "0",
         "0",
         "0",
         "0",
         "0",
         "0",
         "0",
         "0",
         "0",
         "0",
         "0",
         "0",
         "0",
         "0",
         "0",
         "0",
         "0",
         "0",
         "0",
         "0",
         "0",
         "0",
         "0",
         "0",
         "0",
         "0",
         "0",
         "0",
         "0",
         "0",
         "0",
         "0",
         "0",
         "0",
         "0",
         "0",
         "0",
         "0",
         "0",
         "0",
         "0",
         "0",
         "0",
         "0",
         "0",
         "0",
         "0",
         "0",
         "0",
         "0",
         "0",
         "0",
         "0",
         "0",
         "0",
         "0",
         "0",
         "0",
         "0",
         "0",
         "0",
         "0",
         "0",
         "0",
         "0",
         "0",
         "0",
         "0",
         "0",
         "0",
         "1",
         "0",
         "0",
         "0",
         "0",
         "0",
         "0",
         "0",
         "0",
         "0",
         "0",
         "0",
         "0",
         "0",
         "0",
         "0",
         "0",
         "0",
         "0",
         "0",
         "0",
         "0",
         "0",
         "0",
         "0",
         "1",
         "0",
         "0",
         "0",
         "0",
         "0",
         "0",
         "0",
         "0",
         "0",
         "0",
         "0",
         "0",
         "0",
         "0",
         "0",
         "0",
         "0",
         "0",
         "0",
         "0",
         "0",
         "0",
         "0",
         "0",
         "0",
         "0",
         "0",
         "0",
         "0",
         "0",
         "0",
         "0",
         "0",
         "0",
         "0",
         "1",
         "0",
         "0",
         "0",
         "0",
         "0",
         "0",
         "0",
         "0",
         "0",
         "0",
         "0",
         "1",
         "0",
         "0",
         "0",
         "0",
         "0",
         "0",
         "0",
         "0",
         "0",
         "0",
         "0",
         "0",
         "0",
         "0",
         "0",
         "0",
         "0",
         "0",
         "0",
         "0",
         "0",
         "0",
         "0",
         "0",
         "0",
         "0",
         "1",
         "0",
         "0",
         "0",
         "0",
         "0",
         "0",
         "0",
         "0",
         "0",
         "0",
         "0",
         "0",
         "0",
         "0",
         "0",
         "0",
         "0",
         "0",
         "0",
         "0",
         "0",
         "0",
         "0",
         "0",
         "0",
         "0",
         "0",
         "0",
         "0",
         "0",
         "0",
         "0",
         "0",
         "0",
         "0",
         "1",
         "0",
         "0",
         "0",
         "0",
         "0",
         "0",
         "0",
         "0",
         "0",
         "0",
         "0",
         "0",
         "1",
         "0",
         "0",
         "0",
         "0",
         "0",
         "0",
         "0",
         "0",
         "0",
         "0",
         "0",
         "0",
         "0",
         "0",
         "0",
         "0",
         "0",
         "0",
         "0",
         "0",
         "0",
         "0",
         "0",
         "0",
         "1",
         "0",
         "0",
         "0",
         "0",
         "0",
         "0",
         "0",
         "0",
         "0",
         "0",
         "0",
         "0",
         "0",
         "0",
         "0",
         "0",
         "0",
         "0",
         "0",
         "1",
         "0",
         "0",
         "0",
         "0",
         "0",
         "0",
         "0",
         "0",
         "0",
         "0",
         "0",
         "0",
         "0",
         "0",
         "0",
         "0",
         "0",
         "1",
         "0",
         "0",
         "0",
         "0",
         "0",
         "0",
         "0",
         "0",
         "0",
         "0",
         "0",
         "0",
         "0",
         "0",
         "0",
         "0",
         "0",
         "0",
         "0",
         "0",
         "0",
         "0",
         "0",
         "0",
         "0",
         "0",
         "0",
         "0",
         "0",
         "0",
         "0",
         "0",
         "0",
         "0",
         "0",
         "0",
         "0",
         "0",
         "0",
         "0",
         "1",
         "0",
         "0",
         "0",
         "0",
         "0",
         "0",
         "0",
         "0",
         "0",
         "0",
         "0",
         "0",
         "0"
        ],
        [
         "2",
         "0",
         "0",
         "0",
         "0",
         "0",
         "0",
         "0",
         "0",
         "0",
         "0",
         "0",
         "0",
         "0",
         "0",
         "0",
         "0",
         "0",
         "0",
         "0",
         "0",
         "0",
         "0",
         "0",
         "0",
         "0",
         "0",
         "0",
         "0",
         "0",
         "0",
         "0",
         "0",
         "0",
         "0",
         "0",
         "0",
         "0",
         "0",
         "0",
         "0",
         "0",
         "0",
         "0",
         "0",
         "0",
         "0",
         "0",
         "0",
         "0",
         "0",
         "0",
         "0",
         "0",
         "0",
         "0",
         "0",
         "0",
         "0",
         "0",
         "0",
         "0",
         "0",
         "0",
         "0",
         "0",
         "0",
         "0",
         "0",
         "0",
         "0",
         "0",
         "0",
         "0",
         "0",
         "0",
         "0",
         "0",
         "0",
         "0",
         "0",
         "0",
         "0",
         "0",
         "0",
         "0",
         "0",
         "0",
         "0",
         "0",
         "0",
         "0",
         "0",
         "0",
         "0",
         "0",
         "0",
         "0",
         "0",
         "0",
         "0",
         "0",
         "0",
         "0",
         "0",
         "0",
         "0",
         "0",
         "0",
         "0",
         "0",
         "0",
         "0",
         "0",
         "0",
         "0",
         "0",
         "0",
         "0",
         "0",
         "0",
         "0",
         "0",
         "0",
         "0",
         "0",
         "0",
         "1",
         "0",
         "0",
         "0",
         "0",
         "0",
         "0",
         "0",
         "0",
         "0",
         "0",
         "0",
         "0",
         "0",
         "0",
         "1",
         "0",
         "0",
         "0",
         "0",
         "0",
         "0",
         "0",
         "0",
         "0",
         "0",
         "0",
         "1",
         "0",
         "0",
         "0",
         "0",
         "0",
         "0",
         "0",
         "0",
         "0",
         "0",
         "0",
         "0",
         "0",
         "0",
         "0",
         "0",
         "0",
         "1",
         "0",
         "0",
         "0",
         "0",
         "0",
         "0",
         "0",
         "0",
         "0",
         "0",
         "0",
         "0",
         "0",
         "0",
         "1",
         "0",
         "0",
         "0",
         "0",
         "0",
         "0",
         "0",
         "0",
         "0",
         "0",
         "0",
         "1",
         "0",
         "0",
         "0",
         "0",
         "0",
         "0",
         "0",
         "0",
         "0",
         "0",
         "0",
         "0",
         "0",
         "0",
         "0",
         "0",
         "0",
         "0",
         "0",
         "0",
         "0",
         "0",
         "0",
         "0",
         "0",
         "0",
         "0",
         "0",
         "1",
         "0",
         "0",
         "0",
         "0",
         "0",
         "0",
         "0",
         "0",
         "0",
         "0",
         "0",
         "0",
         "0",
         "0",
         "0",
         "0",
         "0",
         "0",
         "0",
         "0",
         "0",
         "0",
         "0",
         "0",
         "0",
         "0",
         "0",
         "0",
         "0",
         "0",
         "0",
         "0",
         "0",
         "0",
         "0",
         "0",
         "0",
         "0",
         "0",
         "0",
         "0",
         "0",
         "0",
         "0",
         "0",
         "0",
         "0",
         "0",
         "0",
         "0",
         "0",
         "0",
         "0",
         "0",
         "0",
         "0",
         "0",
         "0",
         "0",
         "0",
         "0",
         "0",
         "0",
         "0",
         "0",
         "0",
         "0",
         "0",
         "0",
         "0",
         "0",
         "0",
         "0",
         "0",
         "0",
         "0",
         "0",
         "0",
         "0",
         "0",
         "0",
         "0",
         "0",
         "0",
         "0",
         "0",
         "0",
         "0",
         "0",
         "0",
         "0",
         "0",
         "0",
         "0",
         "0",
         "0",
         "0",
         "0",
         "0",
         "0",
         "0",
         "0",
         "0",
         "0",
         "1",
         "0",
         "0",
         "0",
         "0",
         "0",
         "0",
         "0",
         "0",
         "0",
         "0",
         "0",
         "0",
         "0",
         "0",
         "0",
         "0",
         "0",
         "0",
         "0",
         "0",
         "0",
         "0",
         "0",
         "0",
         "0",
         "0",
         "0",
         "0",
         "0",
         "0",
         "0",
         "0",
         "1",
         "0",
         "0",
         "0",
         "0",
         "0",
         "0",
         "0",
         "0",
         "0",
         "0",
         "0",
         "0",
         "0",
         "0",
         "0",
         "0",
         "0",
         "0",
         "0",
         "0",
         "0",
         "0",
         "0",
         "0",
         "0",
         "0",
         "0",
         "0",
         "0",
         "0",
         "0",
         "0",
         "0",
         "0",
         "0",
         "0",
         "0",
         "0",
         "0",
         "0",
         "0",
         "0",
         "0",
         "0",
         "0",
         "0",
         "0",
         "0",
         "0",
         "0",
         "0",
         "0",
         "0",
         "0",
         "0",
         "0",
         "0",
         "0",
         "0",
         "0",
         "0",
         "0",
         "0",
         "0",
         "0",
         "0",
         "0",
         "0",
         "0",
         "0",
         "0",
         "0",
         "0",
         "0",
         "0",
         "0",
         "0",
         "0",
         "0",
         "0",
         "0",
         "0",
         "0",
         "0",
         "0",
         "0",
         "0",
         "0",
         "0",
         "0",
         "1",
         "0",
         "0",
         "0",
         "0",
         "0",
         "0",
         "0",
         "0",
         "0",
         "0",
         "0",
         "0",
         "0",
         "0",
         "0",
         "0",
         "0",
         "0",
         "0",
         "0",
         "0",
         "0",
         "0",
         "0",
         "0",
         "0",
         "0",
         "0",
         "0",
         "0",
         "0",
         "0",
         "0",
         "0",
         "0",
         "0",
         "0",
         "0",
         "0",
         "0",
         "0",
         "0",
         "0",
         "0",
         "0",
         "0",
         "0",
         "0",
         "0",
         "0",
         "0",
         "0",
         "0",
         "0",
         "0",
         "1",
         "0",
         "0",
         "0",
         "0",
         "0",
         "0",
         "0",
         "0",
         "0",
         "0",
         "0",
         "0",
         "0",
         "0",
         "0",
         "0",
         "0",
         "0",
         "0",
         "0",
         "0",
         "0",
         "0",
         "0",
         "1",
         "0",
         "0",
         "0",
         "0",
         "0",
         "0",
         "0",
         "0",
         "0",
         "0",
         "0",
         "0",
         "0",
         "1",
         "0",
         "0",
         "0",
         "0",
         "0",
         "0",
         "0",
         "0",
         "0",
         "0",
         "0",
         "0",
         "0",
         "0",
         "0",
         "0",
         "0",
         "0",
         "0",
         "0",
         "1",
         "0",
         "0",
         "0",
         "0",
         "0",
         "0",
         "0",
         "0",
         "0",
         "0",
         "0",
         "0",
         "0",
         "0",
         "1",
         "0",
         "0",
         "0",
         "0",
         "0",
         "0",
         "0",
         "0",
         "0",
         "0",
         "0",
         "0",
         "0",
         "0",
         "0",
         "0",
         "0",
         "0",
         "0",
         "0",
         "0",
         "0",
         "0",
         "0",
         "0",
         "0",
         "0",
         "0",
         "0",
         "0",
         "0",
         "0",
         "0",
         "0",
         "0",
         "0",
         "0",
         "0",
         "0",
         "0",
         "0",
         "0",
         "0",
         "0",
         "0",
         "0",
         "0",
         "0",
         "0",
         "0",
         "0",
         "0",
         "0",
         "0",
         "0",
         "0",
         "0",
         "0",
         "0",
         "0",
         "0",
         "0",
         "0",
         "0",
         "0",
         "0",
         "0",
         "0",
         "0",
         "0",
         "0",
         "0",
         "0",
         "0",
         "0",
         "0",
         "0",
         "0",
         "0",
         "0",
         "0",
         "0",
         "0",
         "0",
         "0",
         "0",
         "0",
         "0",
         "0",
         "0",
         "0",
         "0",
         "0",
         "0",
         "0",
         "0",
         "0",
         "0",
         "0",
         "0",
         "0",
         "0",
         "0",
         "0",
         "0",
         "0",
         "0",
         "0",
         "0",
         "0",
         "0",
         "0",
         "0",
         "0",
         "0",
         "0",
         "0",
         "0",
         "0",
         "0",
         "0",
         "0",
         "0",
         "0",
         "0",
         "0",
         "0",
         "0",
         "0",
         "0",
         "0",
         "0",
         "0",
         "0",
         "0",
         "0",
         "0",
         "0",
         "0",
         "0",
         "0",
         "0",
         "0",
         "0",
         "0",
         "0",
         "0",
         "0",
         "0",
         "0",
         "0",
         "0",
         "0",
         "0",
         "0",
         "0",
         "0",
         "0",
         "0",
         "0",
         "0",
         "0",
         "0",
         "0",
         "0",
         "0",
         "0",
         "0",
         "0",
         "0",
         "0",
         "0",
         "0",
         "0",
         "0",
         "0",
         "0",
         "0",
         "0",
         "0",
         "0",
         "0",
         "0",
         "0",
         "0",
         "0",
         "0",
         "0",
         "0",
         "0",
         "0",
         "0",
         "0",
         "0",
         "0",
         "0",
         "0",
         "0",
         "0",
         "0",
         "0",
         "0",
         "0",
         "0",
         "0",
         "0",
         "0",
         "0",
         "0",
         "0",
         "0",
         "0"
        ],
        [
         "3",
         "0",
         "0",
         "0",
         "0",
         "0",
         "0",
         "0",
         "0",
         "0",
         "0",
         "0",
         "0",
         "0",
         "0",
         "0",
         "0",
         "0",
         "0",
         "0",
         "0",
         "0",
         "0",
         "0",
         "0",
         "0",
         "0",
         "0",
         "0",
         "0",
         "0",
         "0",
         "0",
         "0",
         "0",
         "0",
         "0",
         "0",
         "0",
         "0",
         "0",
         "0",
         "0",
         "0",
         "0",
         "0",
         "0",
         "0",
         "0",
         "0",
         "0",
         "0",
         "0",
         "0",
         "0",
         "0",
         "0",
         "0",
         "0",
         "0",
         "0",
         "0",
         "0",
         "0",
         "0",
         "0",
         "0",
         "0",
         "0",
         "0",
         "0",
         "0",
         "0",
         "0",
         "0",
         "0",
         "0",
         "0",
         "0",
         "0",
         "0",
         "0",
         "0",
         "0",
         "0",
         "0",
         "0",
         "0",
         "0",
         "0",
         "0",
         "0",
         "0",
         "0",
         "0",
         "0",
         "0",
         "0",
         "0",
         "0",
         "0",
         "0",
         "0",
         "0",
         "0",
         "0",
         "0",
         "0",
         "0",
         "0",
         "0",
         "0",
         "0",
         "0",
         "0",
         "0",
         "0",
         "0",
         "0",
         "0",
         "0",
         "0",
         "0",
         "0",
         "0",
         "0",
         "0",
         "0",
         "0",
         "0",
         "0",
         "0",
         "0",
         "0",
         "0",
         "0",
         "0",
         "0",
         "0",
         "0",
         "0",
         "0",
         "0",
         "0",
         "0",
         "0",
         "0",
         "0",
         "0",
         "0",
         "0",
         "0",
         "0",
         "0",
         "0",
         "0",
         "0",
         "0",
         "0",
         "0",
         "0",
         "0",
         "0",
         "0",
         "0",
         "0",
         "0",
         "0",
         "0",
         "0",
         "0",
         "0",
         "0",
         "0",
         "0",
         "0",
         "0",
         "0",
         "0",
         "0",
         "0",
         "0",
         "0",
         "0",
         "0",
         "0",
         "0",
         "0",
         "0",
         "0",
         "0",
         "0",
         "0",
         "0",
         "0",
         "0",
         "0",
         "1",
         "0",
         "0",
         "0",
         "0",
         "0",
         "0",
         "0",
         "0",
         "0",
         "0",
         "0",
         "0",
         "1",
         "0",
         "0",
         "0",
         "0",
         "0",
         "0",
         "0",
         "0",
         "0",
         "0",
         "0",
         "0",
         "0",
         "0",
         "0",
         "0",
         "1",
         "0",
         "0",
         "0",
         "0",
         "0",
         "0",
         "0",
         "0",
         "0",
         "0",
         "0",
         "1",
         "0",
         "0",
         "0",
         "0",
         "0",
         "0",
         "0",
         "1",
         "0",
         "0",
         "0",
         "0",
         "0",
         "0",
         "0",
         "0",
         "0",
         "0",
         "0",
         "0",
         "0",
         "0",
         "0",
         "0",
         "0",
         "0",
         "0",
         "0",
         "0",
         "0",
         "1",
         "0",
         "0",
         "0",
         "0",
         "0",
         "0",
         "0",
         "0",
         "0",
         "0",
         "0",
         "0",
         "0",
         "0",
         "0",
         "0",
         "0",
         "0",
         "0",
         "0",
         "0",
         "0",
         "0",
         "0",
         "0",
         "0",
         "0",
         "0",
         "0",
         "0",
         "0",
         "0",
         "1",
         "0",
         "0",
         "0",
         "0",
         "0",
         "0",
         "0",
         "0",
         "0",
         "0",
         "0",
         "0",
         "0",
         "0",
         "0",
         "0",
         "0",
         "0",
         "0",
         "0",
         "0",
         "0",
         "0",
         "0",
         "0",
         "0",
         "1",
         "0",
         "0",
         "0",
         "0",
         "0",
         "0",
         "0",
         "0",
         "0",
         "0",
         "0",
         "0",
         "0",
         "0",
         "0",
         "0",
         "0",
         "0",
         "0",
         "0",
         "0",
         "0",
         "0",
         "1",
         "0",
         "0",
         "0",
         "0",
         "0",
         "0",
         "0",
         "0",
         "0",
         "0",
         "0",
         "0",
         "0",
         "0",
         "0",
         "0",
         "0",
         "0",
         "0",
         "0",
         "0",
         "0",
         "0",
         "0",
         "0",
         "0",
         "0",
         "0",
         "0",
         "0",
         "0",
         "0",
         "0",
         "0",
         "0",
         "0",
         "0",
         "0",
         "0",
         "0",
         "0",
         "0",
         "0",
         "0",
         "0",
         "0",
         "0",
         "0",
         "0",
         "0",
         "0",
         "0",
         "0",
         "0",
         "0",
         "0",
         "0",
         "0",
         "0",
         "0",
         "0",
         "0",
         "0",
         "0",
         "0",
         "0",
         "0",
         "0",
         "0",
         "0",
         "0",
         "0",
         "0",
         "0",
         "0",
         "0",
         "0",
         "0",
         "0",
         "0",
         "0",
         "0",
         "0",
         "0",
         "0",
         "0",
         "0",
         "0",
         "0",
         "0",
         "0",
         "0",
         "0",
         "0",
         "0",
         "0",
         "0",
         "0",
         "0",
         "0",
         "0",
         "0",
         "0",
         "0",
         "0",
         "0",
         "0",
         "0",
         "0",
         "0",
         "0",
         "0",
         "0",
         "1",
         "0",
         "0",
         "0",
         "0",
         "0",
         "0",
         "0",
         "0",
         "0",
         "0",
         "0",
         "0",
         "0",
         "0",
         "0",
         "0",
         "0",
         "0",
         "0",
         "1",
         "0",
         "0",
         "0",
         "0",
         "0",
         "0",
         "0",
         "0",
         "0",
         "0",
         "0",
         "0",
         "0",
         "0",
         "0",
         "0",
         "0",
         "0",
         "0",
         "0",
         "0",
         "0",
         "0",
         "0",
         "0",
         "0",
         "0",
         "0",
         "0",
         "0",
         "0",
         "0",
         "0",
         "0",
         "0",
         "0",
         "0",
         "0",
         "0",
         "0",
         "0",
         "0",
         "0",
         "0",
         "0",
         "1",
         "0",
         "0",
         "0",
         "0",
         "0",
         "0",
         "0",
         "0",
         "0",
         "0",
         "0",
         "0",
         "0",
         "0",
         "0",
         "0",
         "0",
         "0",
         "0",
         "0",
         "0",
         "0",
         "0",
         "0",
         "0",
         "0",
         "0",
         "0",
         "0",
         "0",
         "0",
         "0",
         "0",
         "0",
         "0",
         "0",
         "0",
         "0",
         "0",
         "0",
         "0",
         "0",
         "0",
         "0",
         "0",
         "1",
         "0",
         "0",
         "0",
         "0",
         "0",
         "0",
         "0",
         "0",
         "0",
         "0",
         "0",
         "0",
         "0",
         "0",
         "0",
         "0",
         "0",
         "0",
         "0",
         "0",
         "0",
         "0",
         "0",
         "0",
         "0",
         "0",
         "0",
         "0",
         "0",
         "0",
         "0",
         "0",
         "0",
         "0",
         "0",
         "0",
         "0",
         "0",
         "0",
         "0",
         "0",
         "0",
         "0",
         "0",
         "0",
         "0",
         "0",
         "0",
         "0",
         "0",
         "0",
         "0",
         "0",
         "0",
         "0",
         "0",
         "0",
         "0",
         "0",
         "0",
         "0",
         "0",
         "0",
         "0",
         "0",
         "0",
         "0",
         "0",
         "0",
         "0",
         "0",
         "0",
         "0",
         "0",
         "0",
         "0",
         "0",
         "0",
         "0",
         "0",
         "0",
         "0",
         "0",
         "0",
         "0",
         "0",
         "0",
         "0",
         "0",
         "0",
         "0",
         "0",
         "0",
         "0",
         "0",
         "0",
         "0",
         "0",
         "0",
         "0",
         "0",
         "0",
         "0",
         "0",
         "0",
         "0",
         "0",
         "0",
         "0",
         "0",
         "0",
         "0",
         "0",
         "0",
         "0",
         "0",
         "0",
         "0",
         "0",
         "0",
         "0",
         "0",
         "0",
         "0",
         "0",
         "0",
         "0",
         "0",
         "0",
         "0",
         "0",
         "0",
         "0",
         "0",
         "0",
         "0",
         "0",
         "0",
         "0",
         "0",
         "0",
         "0",
         "0",
         "0",
         "0",
         "0",
         "0",
         "0",
         "0",
         "0",
         "0",
         "0",
         "0",
         "0",
         "0",
         "0",
         "0",
         "0",
         "0",
         "0",
         "0",
         "0",
         "0",
         "0",
         "0",
         "0",
         "0",
         "0",
         "0",
         "0",
         "0",
         "0",
         "0",
         "0",
         "0",
         "0",
         "0",
         "0",
         "0",
         "0",
         "0",
         "0",
         "0",
         "0",
         "0",
         "0",
         "0",
         "0",
         "0",
         "0",
         "0",
         "0",
         "0",
         "0",
         "0",
         "0",
         "0",
         "0",
         "0",
         "0",
         "0",
         "0",
         "0",
         "0",
         "0",
         "0",
         "0",
         "0",
         "0",
         "0",
         "0",
         "0",
         "0",
         "0",
         "0",
         "0",
         "0",
         "0",
         "0",
         "0"
        ],
        [
         "4",
         "0",
         "1",
         "0",
         "0",
         "0",
         "0",
         "0",
         "0",
         "0",
         "0",
         "0",
         "0",
         "0",
         "0",
         "0",
         "0",
         "0",
         "0",
         "0",
         "0",
         "0",
         "0",
         "0",
         "0",
         "0",
         "0",
         "0",
         "0",
         "0",
         "0",
         "0",
         "0",
         "0",
         "0",
         "0",
         "0",
         "0",
         "0",
         "0",
         "0",
         "0",
         "0",
         "0",
         "0",
         "0",
         "0",
         "0",
         "0",
         "0",
         "0",
         "0",
         "0",
         "0",
         "0",
         "0",
         "0",
         "0",
         "0",
         "0",
         "0",
         "0",
         "0",
         "0",
         "0",
         "0",
         "0",
         "0",
         "0",
         "0",
         "0",
         "0",
         "0",
         "0",
         "0",
         "0",
         "0",
         "0",
         "0",
         "0",
         "0",
         "0",
         "0",
         "0",
         "1",
         "0",
         "0",
         "0",
         "0",
         "0",
         "0",
         "0",
         "0",
         "0",
         "0",
         "0",
         "0",
         "0",
         "0",
         "0",
         "0",
         "0",
         "0",
         "0",
         "0",
         "0",
         "0",
         "0",
         "0",
         "0",
         "0",
         "0",
         "0",
         "0",
         "0",
         "0",
         "0",
         "0",
         "0",
         "0",
         "0",
         "0",
         "1",
         "0",
         "0",
         "0",
         "0",
         "0",
         "0",
         "0",
         "0",
         "0",
         "0",
         "1",
         "0",
         "0",
         "0",
         "0",
         "0",
         "0",
         "0",
         "0",
         "0",
         "0",
         "0",
         "0",
         "1",
         "0",
         "0",
         "0",
         "0",
         "0",
         "0",
         "0",
         "0",
         "0",
         "0",
         "0",
         "0",
         "0",
         "0",
         "0",
         "0",
         "0",
         "1",
         "0",
         "0",
         "0",
         "0",
         "0",
         "0",
         "0",
         "0",
         "0",
         "0",
         "0",
         "0",
         "0",
         "0",
         "0",
         "1",
         "0",
         "0",
         "0",
         "0",
         "0",
         "0",
         "0",
         "0",
         "0",
         "0",
         "0",
         "0",
         "0",
         "0",
         "0",
         "0",
         "0",
         "0",
         "0",
         "0",
         "0",
         "0",
         "0",
         "0",
         "0",
         "0",
         "0",
         "0",
         "0",
         "0",
         "0",
         "0",
         "0",
         "0",
         "0",
         "0",
         "0",
         "0",
         "0",
         "0",
         "0",
         "0",
         "0",
         "0",
         "0",
         "1",
         "0",
         "0",
         "0",
         "0",
         "0",
         "0",
         "0",
         "0",
         "0",
         "0",
         "0",
         "0",
         "0",
         "1",
         "0",
         "0",
         "0",
         "0",
         "0",
         "0",
         "0",
         "0",
         "0",
         "0",
         "0",
         "0",
         "0",
         "0",
         "0",
         "0",
         "0",
         "0",
         "0",
         "0",
         "0",
         "0",
         "0",
         "0",
         "0",
         "0",
         "0",
         "0",
         "0",
         "0",
         "0",
         "0",
         "0",
         "0",
         "0",
         "0",
         "0",
         "0",
         "0",
         "0",
         "0",
         "0",
         "0",
         "0",
         "0",
         "0",
         "0",
         "0",
         "0",
         "0",
         "0",
         "0",
         "0",
         "0",
         "0",
         "0",
         "0",
         "0",
         "0",
         "0",
         "0",
         "0",
         "0",
         "0",
         "0",
         "0",
         "0",
         "0",
         "0",
         "0",
         "0",
         "0",
         "0",
         "0",
         "0",
         "0",
         "0",
         "0",
         "0",
         "0",
         "0",
         "0",
         "0",
         "0",
         "0",
         "0",
         "0",
         "0",
         "0",
         "0",
         "0",
         "0",
         "0",
         "0",
         "0",
         "0",
         "0",
         "1",
         "0",
         "0",
         "0",
         "0",
         "0",
         "0",
         "0",
         "0",
         "0",
         "0",
         "0",
         "1",
         "0",
         "0",
         "0",
         "0",
         "0",
         "0",
         "0",
         "0",
         "0",
         "0",
         "0",
         "0",
         "0",
         "0",
         "0",
         "0",
         "0",
         "0",
         "0",
         "0",
         "0",
         "0",
         "0",
         "0",
         "0",
         "0",
         "0",
         "1",
         "0",
         "0",
         "0",
         "0",
         "0",
         "0",
         "0",
         "0",
         "0",
         "0",
         "0",
         "0",
         "0",
         "0",
         "0",
         "0",
         "0",
         "0",
         "0",
         "0",
         "0",
         "0",
         "0",
         "0",
         "0",
         "0",
         "0",
         "0",
         "0",
         "0",
         "0",
         "0",
         "0",
         "0",
         "0",
         "0",
         "0",
         "0",
         "0",
         "0",
         "0",
         "0",
         "0",
         "0",
         "0",
         "0",
         "0",
         "0",
         "0",
         "0",
         "0",
         "0",
         "0",
         "0",
         "0",
         "0",
         "0",
         "0",
         "0",
         "0",
         "0",
         "0",
         "0",
         "0",
         "0",
         "0",
         "0",
         "0",
         "0",
         "0",
         "0",
         "0",
         "0",
         "0",
         "0",
         "0",
         "0",
         "0",
         "0",
         "0",
         "0",
         "0",
         "0",
         "0",
         "0",
         "0",
         "0",
         "0",
         "0",
         "0",
         "0",
         "0",
         "0",
         "0",
         "0",
         "0",
         "0",
         "0",
         "0",
         "0",
         "0",
         "0",
         "0",
         "0",
         "0",
         "0",
         "0",
         "0",
         "0",
         "0",
         "0",
         "0",
         "0",
         "0",
         "0",
         "0",
         "0",
         "0",
         "0",
         "0",
         "0",
         "0",
         "0",
         "0",
         "0",
         "0",
         "0",
         "0",
         "0",
         "0",
         "0",
         "0",
         "0",
         "0",
         "0",
         "0",
         "0",
         "0",
         "0",
         "0",
         "0",
         "0",
         "0",
         "0",
         "0",
         "0",
         "0",
         "0",
         "0",
         "0",
         "0",
         "0",
         "0",
         "0",
         "0",
         "0",
         "0",
         "0",
         "0",
         "0",
         "0",
         "0",
         "0",
         "0",
         "0",
         "0",
         "0",
         "0",
         "0",
         "0",
         "0",
         "0",
         "0",
         "0",
         "0",
         "0",
         "1",
         "0",
         "0",
         "0",
         "0",
         "0",
         "0",
         "0",
         "0",
         "0",
         "0",
         "0",
         "0",
         "0",
         "0",
         "0",
         "0",
         "0",
         "0",
         "0",
         "0",
         "0",
         "0",
         "0",
         "0",
         "0",
         "1",
         "0",
         "0",
         "0",
         "0",
         "0",
         "0",
         "0",
         "0",
         "1",
         "0",
         "0",
         "0",
         "0",
         "0",
         "0",
         "0",
         "0",
         "0",
         "0",
         "0",
         "0",
         "0",
         "0",
         "0",
         "0",
         "0",
         "0",
         "0",
         "0",
         "0",
         "0",
         "0",
         "0",
         "0",
         "0",
         "0",
         "0",
         "0",
         "0",
         "0",
         "0",
         "0",
         "0",
         "0",
         "0",
         "0",
         "0",
         "0",
         "0",
         "0",
         "0",
         "0",
         "0",
         "0",
         "0",
         "0",
         "0",
         "0",
         "0",
         "0",
         "0",
         "0",
         "0",
         "0",
         "0",
         "0",
         "0",
         "0",
         "0",
         "0",
         "0",
         "0",
         "0",
         "0",
         "0",
         "0",
         "0",
         "0",
         "0",
         "0",
         "0",
         "0",
         "0",
         "0",
         "0",
         "0",
         "0",
         "0",
         "0",
         "0",
         "0",
         "0",
         "0",
         "0",
         "0",
         "0",
         "0",
         "0",
         "0",
         "0",
         "0",
         "0",
         "0",
         "0",
         "0",
         "0",
         "0",
         "0",
         "0",
         "0",
         "0",
         "0",
         "0",
         "0",
         "0",
         "0",
         "0",
         "0",
         "0",
         "0",
         "0",
         "0",
         "0",
         "0",
         "0",
         "0",
         "0",
         "0",
         "0",
         "0",
         "0",
         "0",
         "0",
         "0",
         "0",
         "0",
         "0",
         "0",
         "0",
         "0",
         "0",
         "0",
         "0",
         "0",
         "0",
         "0",
         "0",
         "0",
         "0",
         "0",
         "0",
         "0",
         "0",
         "0",
         "0",
         "0",
         "0",
         "0",
         "0",
         "0",
         "0",
         "0",
         "0",
         "0",
         "0",
         "0",
         "0",
         "0",
         "0",
         "0",
         "0",
         "0",
         "0",
         "0",
         "0",
         "0",
         "0",
         "0",
         "0",
         "0",
         "0",
         "0",
         "0",
         "0",
         "0",
         "0",
         "0",
         "0",
         "0",
         "0",
         "0",
         "0",
         "0",
         "0",
         "0",
         "0",
         "0",
         "0",
         "0",
         "0",
         "0",
         "0",
         "0",
         "0",
         "0",
         "0",
         "0",
         "0",
         "0",
         "0",
         "0",
         "0",
         "0",
         "0",
         "0",
         "0",
         "0",
         "0",
         "0"
        ]
       ],
       "shape": {
        "columns": 800,
        "rows": 5
       }
      },
      "text/html": [
       "<div>\n",
       "<style scoped>\n",
       "    .dataframe tbody tr th:only-of-type {\n",
       "        vertical-align: middle;\n",
       "    }\n",
       "\n",
       "    .dataframe tbody tr th {\n",
       "        vertical-align: top;\n",
       "    }\n",
       "\n",
       "    .dataframe thead th {\n",
       "        text-align: right;\n",
       "    }\n",
       "</style>\n",
       "<table border=\"1\" class=\"dataframe\">\n",
       "  <thead>\n",
       "    <tr style=\"text-align: right;\">\n",
       "      <th></th>\n",
       "      <th>time.1_2</th>\n",
       "      <th>time.2_3</th>\n",
       "      <th>time.3_4</th>\n",
       "      <th>time.4_5</th>\n",
       "      <th>time.5_6</th>\n",
       "      <th>time.6_7</th>\n",
       "      <th>time.7_8</th>\n",
       "      <th>time.8_9</th>\n",
       "      <th>time.9_10</th>\n",
       "      <th>time.10_11</th>\n",
       "      <th>...</th>\n",
       "      <th>time.791_792</th>\n",
       "      <th>time.792_793</th>\n",
       "      <th>time.793_794</th>\n",
       "      <th>time.794_795</th>\n",
       "      <th>time.795_796</th>\n",
       "      <th>time.796_797</th>\n",
       "      <th>time.797_798</th>\n",
       "      <th>time.798_799</th>\n",
       "      <th>time.799_800</th>\n",
       "      <th>time.800_801</th>\n",
       "    </tr>\n",
       "  </thead>\n",
       "  <tbody>\n",
       "    <tr>\n",
       "      <th>0</th>\n",
       "      <td>0</td>\n",
       "      <td>0</td>\n",
       "      <td>0</td>\n",
       "      <td>0</td>\n",
       "      <td>0</td>\n",
       "      <td>0</td>\n",
       "      <td>0</td>\n",
       "      <td>0</td>\n",
       "      <td>0</td>\n",
       "      <td>0</td>\n",
       "      <td>...</td>\n",
       "      <td>0</td>\n",
       "      <td>0</td>\n",
       "      <td>0</td>\n",
       "      <td>0</td>\n",
       "      <td>0</td>\n",
       "      <td>0</td>\n",
       "      <td>0</td>\n",
       "      <td>0</td>\n",
       "      <td>1</td>\n",
       "      <td>0</td>\n",
       "    </tr>\n",
       "    <tr>\n",
       "      <th>1</th>\n",
       "      <td>0</td>\n",
       "      <td>0</td>\n",
       "      <td>0</td>\n",
       "      <td>0</td>\n",
       "      <td>0</td>\n",
       "      <td>0</td>\n",
       "      <td>0</td>\n",
       "      <td>1</td>\n",
       "      <td>0</td>\n",
       "      <td>0</td>\n",
       "      <td>...</td>\n",
       "      <td>0</td>\n",
       "      <td>0</td>\n",
       "      <td>0</td>\n",
       "      <td>0</td>\n",
       "      <td>0</td>\n",
       "      <td>0</td>\n",
       "      <td>0</td>\n",
       "      <td>0</td>\n",
       "      <td>0</td>\n",
       "      <td>0</td>\n",
       "    </tr>\n",
       "    <tr>\n",
       "      <th>2</th>\n",
       "      <td>0</td>\n",
       "      <td>0</td>\n",
       "      <td>0</td>\n",
       "      <td>0</td>\n",
       "      <td>0</td>\n",
       "      <td>0</td>\n",
       "      <td>0</td>\n",
       "      <td>0</td>\n",
       "      <td>0</td>\n",
       "      <td>0</td>\n",
       "      <td>...</td>\n",
       "      <td>0</td>\n",
       "      <td>0</td>\n",
       "      <td>0</td>\n",
       "      <td>0</td>\n",
       "      <td>0</td>\n",
       "      <td>0</td>\n",
       "      <td>0</td>\n",
       "      <td>0</td>\n",
       "      <td>0</td>\n",
       "      <td>0</td>\n",
       "    </tr>\n",
       "    <tr>\n",
       "      <th>3</th>\n",
       "      <td>0</td>\n",
       "      <td>0</td>\n",
       "      <td>0</td>\n",
       "      <td>0</td>\n",
       "      <td>0</td>\n",
       "      <td>0</td>\n",
       "      <td>0</td>\n",
       "      <td>0</td>\n",
       "      <td>0</td>\n",
       "      <td>0</td>\n",
       "      <td>...</td>\n",
       "      <td>0</td>\n",
       "      <td>0</td>\n",
       "      <td>0</td>\n",
       "      <td>0</td>\n",
       "      <td>0</td>\n",
       "      <td>0</td>\n",
       "      <td>0</td>\n",
       "      <td>0</td>\n",
       "      <td>0</td>\n",
       "      <td>0</td>\n",
       "    </tr>\n",
       "    <tr>\n",
       "      <th>4</th>\n",
       "      <td>0</td>\n",
       "      <td>1</td>\n",
       "      <td>0</td>\n",
       "      <td>0</td>\n",
       "      <td>0</td>\n",
       "      <td>0</td>\n",
       "      <td>0</td>\n",
       "      <td>0</td>\n",
       "      <td>0</td>\n",
       "      <td>0</td>\n",
       "      <td>...</td>\n",
       "      <td>0</td>\n",
       "      <td>0</td>\n",
       "      <td>0</td>\n",
       "      <td>0</td>\n",
       "      <td>0</td>\n",
       "      <td>0</td>\n",
       "      <td>0</td>\n",
       "      <td>0</td>\n",
       "      <td>0</td>\n",
       "      <td>0</td>\n",
       "    </tr>\n",
       "  </tbody>\n",
       "</table>\n",
       "<p>5 rows × 800 columns</p>\n",
       "</div>"
      ],
      "text/plain": [
       "   time.1_2  time.2_3  time.3_4  time.4_5  time.5_6  time.6_7  time.7_8  \\\n",
       "0         0         0         0         0         0         0         0   \n",
       "1         0         0         0         0         0         0         0   \n",
       "2         0         0         0         0         0         0         0   \n",
       "3         0         0         0         0         0         0         0   \n",
       "4         0         1         0         0         0         0         0   \n",
       "\n",
       "   time.8_9  time.9_10  time.10_11  ...  time.791_792  time.792_793  \\\n",
       "0         0          0           0  ...             0             0   \n",
       "1         1          0           0  ...             0             0   \n",
       "2         0          0           0  ...             0             0   \n",
       "3         0          0           0  ...             0             0   \n",
       "4         0          0           0  ...             0             0   \n",
       "\n",
       "   time.793_794  time.794_795  time.795_796  time.796_797  time.797_798  \\\n",
       "0             0             0             0             0             0   \n",
       "1             0             0             0             0             0   \n",
       "2             0             0             0             0             0   \n",
       "3             0             0             0             0             0   \n",
       "4             0             0             0             0             0   \n",
       "\n",
       "   time.798_799  time.799_800  time.800_801  \n",
       "0             0             1             0  \n",
       "1             0             0             0  \n",
       "2             0             0             0  \n",
       "3             0             0             0  \n",
       "4             0             0             0  \n",
       "\n",
       "[5 rows x 800 columns]"
      ]
     },
     "execution_count": 6,
     "metadata": {},
     "output_type": "execute_result"
    }
   ],
   "source": [
    "print(X.shape)\n",
    "X.head()"
   ]
  },
  {
   "cell_type": "code",
   "execution_count": 7,
   "metadata": {},
   "outputs": [
    {
     "name": "stdout",
     "output_type": "stream",
     "text": [
      "(206216, 1)\n"
     ]
    },
    {
     "data": {
      "application/vnd.microsoft.datawrangler.viewer.v0+json": {
       "columns": [
        {
         "name": "index",
         "rawType": "int64",
         "type": "integer"
        },
        {
         "name": "labels.orientation",
         "rawType": "object",
         "type": "string"
        }
       ],
       "conversionMethod": "pd.DataFrame",
       "ref": "59d6ad4e-47b3-4615-a821-50505dde498c",
       "rows": [
        [
         "0",
         "front"
        ],
        [
         "1",
         "front"
        ],
        [
         "2",
         "front"
        ],
        [
         "3",
         "front"
        ],
        [
         "4",
         "front"
        ]
       ],
       "shape": {
        "columns": 1,
        "rows": 5
       }
      },
      "text/html": [
       "<div>\n",
       "<style scoped>\n",
       "    .dataframe tbody tr th:only-of-type {\n",
       "        vertical-align: middle;\n",
       "    }\n",
       "\n",
       "    .dataframe tbody tr th {\n",
       "        vertical-align: top;\n",
       "    }\n",
       "\n",
       "    .dataframe thead th {\n",
       "        text-align: right;\n",
       "    }\n",
       "</style>\n",
       "<table border=\"1\" class=\"dataframe\">\n",
       "  <thead>\n",
       "    <tr style=\"text-align: right;\">\n",
       "      <th></th>\n",
       "      <th>labels.orientation</th>\n",
       "    </tr>\n",
       "  </thead>\n",
       "  <tbody>\n",
       "    <tr>\n",
       "      <th>0</th>\n",
       "      <td>front</td>\n",
       "    </tr>\n",
       "    <tr>\n",
       "      <th>1</th>\n",
       "      <td>front</td>\n",
       "    </tr>\n",
       "    <tr>\n",
       "      <th>2</th>\n",
       "      <td>front</td>\n",
       "    </tr>\n",
       "    <tr>\n",
       "      <th>3</th>\n",
       "      <td>front</td>\n",
       "    </tr>\n",
       "    <tr>\n",
       "      <th>4</th>\n",
       "      <td>front</td>\n",
       "    </tr>\n",
       "  </tbody>\n",
       "</table>\n",
       "</div>"
      ],
      "text/plain": [
       "  labels.orientation\n",
       "0              front\n",
       "1              front\n",
       "2              front\n",
       "3              front\n",
       "4              front"
      ]
     },
     "execution_count": 7,
     "metadata": {},
     "output_type": "execute_result"
    }
   ],
   "source": [
    "print(y.shape)\n",
    "y.head()"
   ]
  },
  {
   "cell_type": "markdown",
   "metadata": {},
   "source": [
    "### Models for classification _(if applicable)_\n",
    "_(What models will you be using for classification? Why did you choose to use them? What questions would you answer with them? How would you evaluate if each model? What cross-validation method did you use?)_"
   ]
  },
  {
   "cell_type": "code",
   "execution_count": null,
   "metadata": {},
   "outputs": [],
   "source": [
    "# you may add some code here to show how the model works in principle"
   ]
  },
  {
   "cell_type": "markdown",
   "metadata": {},
   "source": [
    "### Models for regression _(if applicable)_\n",
    "_(What models will you be using for regression? Why did you choose to use them? What questions would you answer with them? How would you evaluate if each model? What cross-validation method did you use?)_"
   ]
  },
  {
   "cell_type": "code",
   "execution_count": null,
   "metadata": {},
   "outputs": [],
   "source": [
    "# you may add some code here to show how the model works in principle"
   ]
  },
  {
   "cell_type": "markdown",
   "metadata": {},
   "source": [
    "### Other methods used _(if applicable)_\n",
    "\n",
    "_(If this is a preprocessing step to prepare your data for regression or classification models, you should put this subsection before your explanation for the regression or classification models.)_\n",
    "\n",
    "_(What method did you use otherwise? Why did you choose to use them? What questions would you answer with them? How would you evaluate the results? What cross-validation method did you use when applicable?)_"
   ]
  },
  {
   "cell_type": "code",
   "execution_count": null,
   "metadata": {},
   "outputs": [],
   "source": [
    "# you may add some code here to show how the method works in principle"
   ]
  },
  {
   "cell_type": "markdown",
   "metadata": {},
   "source": [
    "# you may add some code here to show how the model works in principle"
   ]
  },
  {
   "cell_type": "markdown",
   "metadata": {},
   "source": [
    "## Results"
   ]
  },
  {
   "cell_type": "markdown",
   "metadata": {},
   "source": [
    "_(What did you find when you carried out your methods? Some of your code related to\n",
    "presenting results/figures/data may be replicated from the methods section or may only be present in\n",
    "this section. All of the plots that you plan on using for your presentation should be present in this\n",
    "section)_"
   ]
  },
  {
   "cell_type": "markdown",
   "metadata": {},
   "source": [
    "### classification results\n",
    "_(What are you trying to do here?)_"
   ]
  },
  {
   "cell_type": "code",
   "execution_count": null,
   "metadata": {},
   "outputs": [],
   "source": [
    "# how did you do it"
   ]
  },
  {
   "cell_type": "markdown",
   "metadata": {},
   "source": [
    "_(How do you interpret what you see?)_\n",
    "\n",
    "_(What are you doing next?)_"
   ]
  },
  {
   "cell_type": "code",
   "execution_count": null,
   "metadata": {},
   "outputs": [],
   "source": [
    "# how did you do it (etc. etc.)"
   ]
  },
  {
   "cell_type": "markdown",
   "metadata": {},
   "source": [
    "### regression results\n",
    "_(What are you trying to do here?)_"
   ]
  },
  {
   "cell_type": "code",
   "execution_count": null,
   "metadata": {},
   "outputs": [],
   "source": [
    "# how did you do it"
   ]
  },
  {
   "cell_type": "markdown",
   "metadata": {},
   "source": [
    "_(How do you interpret what you see?)_\n",
    "\n",
    "_(What are you doing next?)_"
   ]
  },
  {
   "cell_type": "code",
   "execution_count": null,
   "metadata": {},
   "outputs": [],
   "source": [
    "# how did you do it (etc. etc.)"
   ]
  },
  {
   "cell_type": "markdown",
   "metadata": {},
   "source": [
    "### other results\n",
    "_(What are you trying to do here?)_"
   ]
  },
  {
   "cell_type": "code",
   "execution_count": null,
   "metadata": {},
   "outputs": [],
   "source": [
    "# how did you do it"
   ]
  },
  {
   "cell_type": "markdown",
   "metadata": {},
   "source": [
    "_(How do you interpret what you see?)_\n",
    "\n",
    "_(What are you doing next?)_"
   ]
  },
  {
   "cell_type": "code",
   "execution_count": null,
   "metadata": {},
   "outputs": [],
   "source": [
    "# how did you do it (etc. etc.)"
   ]
  },
  {
   "cell_type": "markdown",
   "metadata": {},
   "source": [
    "## Discussion and Conclusion"
   ]
  },
  {
   "cell_type": "markdown",
   "metadata": {},
   "source": [
    "_(What did you learn from your results? What obstacles did you run into? What would you do differently next time? Clearly provide quantitative answers to your question(s)?  At least one of your questions should be answered with numbers.  That is, it is not sufficient to answer \"yes\" or \"no\", but rather to say something quantitative such as variable 1 increased roughly 10% for every 1 year increase in variable 2.)_"
   ]
  },
  {
   "cell_type": "markdown",
   "metadata": {},
   "source": [
    "### discussion on the classification results"
   ]
  },
  {
   "cell_type": "markdown",
   "metadata": {},
   "source": [
    "### discussion on the regression results"
   ]
  },
  {
   "cell_type": "markdown",
   "metadata": {},
   "source": [
    "### discussion on the other results"
   ]
  },
  {
   "cell_type": "markdown",
   "metadata": {},
   "source": [
    "### conclusion and future steps"
   ]
  },
  {
   "cell_type": "markdown",
   "metadata": {},
   "source": [
    "## Author contribution\n",
    "\n",
    "_(Please describe the contribution of each member of group)._"
   ]
  },
  {
   "cell_type": "markdown",
   "metadata": {},
   "source": [
    "## References"
   ]
  },
  {
   "cell_type": "markdown",
   "metadata": {},
   "source": [
    "_(List the source(s) for any data and/or literature cited in your project.  Ideally, this should be formatted using a formal citation format (MLA or APA or other, your choice!).   Multiple free online citation generators are available such as <a href=\"http://www.easybib.com/style\">http://www.easybib.com/style</a>. **Important:** if you use **any** code that you find on the internet for your project you **must** cite it or you risk losing most/all of the points for you project.)_"
   ]
  }
 ],
 "metadata": {
  "kernelspec": {
   "display_name": "base",
   "language": "python",
   "name": "python3"
  },
  "language_info": {
   "codemirror_mode": {
    "name": "ipython",
    "version": 3
   },
   "file_extension": ".py",
   "mimetype": "text/x-python",
   "name": "python",
   "nbconvert_exporter": "python",
   "pygments_lexer": "ipython3",
   "version": "3.11.5"
  }
 },
 "nbformat": 4,
 "nbformat_minor": 4
}
