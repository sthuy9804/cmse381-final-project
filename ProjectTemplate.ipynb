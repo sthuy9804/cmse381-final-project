{
  "cells": [
    {
      "cell_type": "markdown",
      "metadata": {
        "id": "view-in-github",
        "colab_type": "text"
      },
      "source": [
        "<a href=\"https://colab.research.google.com/github/sthuy9804/cmse381-final-project/blob/main/ProjectTemplate.ipynb\" target=\"_parent\"><img src=\"https://colab.research.google.com/assets/colab-badge.svg\" alt=\"Open In Colab\"/></a>"
      ]
    },
    {
      "cell_type": "markdown",
      "metadata": {
        "id": "ML6kL8_MvI6k"
      },
      "source": [
        "# CMSE 381 Final Project Template"
      ]
    },
    {
      "cell_type": "markdown",
      "metadata": {
        "id": "i1Z15x26vI64"
      },
      "source": [
        "**INSTRUCTIONS**: This is a template to help organize your project.  All projects should include the 5 major sections below (you do not need to use this template file).  If you use this file, complete your work below and remove content in parentheses. Also, remove this current cell.  \n",
        "\n",
        "**Sarah***: Work on filling out project template as much as possible, Confusion Matrix per question 3\n",
        "**Thuy***: Split the files into X and Y, work on the SVM model per question 4\n",
        "SELF DUE DATE: APRIL 7TH, meet in person, in wells hall\n",
        "\n",
        "Both: Work on K-Fold and subset selection per question 5"
      ]
    },
    {
      "cell_type": "markdown",
      "metadata": {
        "id": "vKfBbqPCvI68"
      },
      "source": [
        "#### CMSE 381 Final Project\n",
        "### &#9989; Group members: Sarah Horan, Thuy Nguyen\n",
        "### &#9989; Section_001\n",
        "#### &#9989; 3/31/25"
      ]
    },
    {
      "cell_type": "markdown",
      "metadata": {
        "id": "oeIWlUG5vI6-"
      },
      "source": [
        "# ___PREDICTING FACE ORIETATION___"
      ]
    },
    {
      "cell_type": "markdown",
      "metadata": {
        "id": "DzmGiQyCvI7A"
      },
      "source": [
        "## Background and Motivation"
      ]
    },
    {
      "cell_type": "markdown",
      "metadata": {
        "id": "IVuVYLRrvI7B"
      },
      "source": [
        "How does the brain recognize not just who we’re looking at, but how they’re positioned in space? This question lies at the intersection of neuroscience and data science. In this project, we investigate how neurons in the anterior medial (AM) face patch of a macaque monkey respond when the animal views faces from different orientations. This brain region is known to be selective for facial features, and here we test whether its activity can reveal not just the presence of a face, but the **direction it's facing**.\n",
        "\n",
        "The dataset we’re using comes from a study where a monkey passively viewed face images from 25 individuals, each shown in 8 different head orientations. For each image, researchers recorded binary neural spike data across a short time window (0–400 ms) following the image onset.\n",
        "\n",
        "Our main goal is to explore whether we can **predict the orientation of a viewed face**—such as frontal, profile, or turned head—based on this neural activity alone. This is a classic example of a **neural decoding** task, where machine learning models are trained to extract meaning from complex biological signals.\n",
        "\n",
        "Specifically, we aim to answer:\n",
        "- **Can we classify face orientation based on patterns in neural spike data?**\n",
        "\n",
        "By addressing these questions, we hope to gain insight into how the brain encodes spatial information about faces—and demonstrate how data science tools can uncover patterns in neural data that may not be obvious at first glance.\n"
      ]
    },
    {
      "cell_type": "markdown",
      "metadata": {
        "id": "yAtFyCK9vI7D"
      },
      "source": [
        "## Methodology\n",
        "_(How did you go about answering your question(s)? You should wrote some code here to demonstrate what the data is like and how in principle your method works. You can leave the variations of the related to specific results to the results section.)_"
      ]
    },
    {
      "cell_type": "code",
      "execution_count": 2,
      "metadata": {
        "id": "6r3T98wXvI7F"
      },
      "outputs": [],
      "source": [
        "import pandas as pd\n",
        "import numpy as np\n",
        "import glob\n",
        "import zipfile\n",
        "import io\n",
        "import matplotlib.pyplot as plt\n",
        "%matplotlib inline\n",
        "import time\n",
        "import seaborn as sns\n",
        "from scipy.stats import uniform\n",
        "\n",
        "# ML imports we've used previously\n",
        "from sklearn.model_selection import train_test_split\n",
        "from sklearn.model_selection import cross_val_score\n",
        "\n",
        "from sklearn import tree\n",
        "from sklearn.tree import DecisionTreeClassifier\n",
        "from sklearn.ensemble import RandomForestClassifier\n",
        "from sklearn.preprocessing import LabelEncoder\n",
        "\n",
        "from sklearn.decomposition import PCA\n",
        "\n",
        "from sklearn.linear_model import LogisticRegression\n",
        "from sklearn.model_selection import train_test_split, cross_val_score\n",
        "from sklearn.metrics import accuracy_score, confusion_matrix, classification_report"
      ]
    },
    {
      "cell_type": "code",
      "source": [
        "from google.colab import drive\n",
        "drive.mount('/content/drive')"
      ],
      "metadata": {
        "colab": {
          "base_uri": "https://localhost:8080/"
        },
        "id": "_Htz9OXSvwRf",
        "outputId": "4d4be013-0134-4858-8951-4bac6ebfe649"
      },
      "execution_count": 3,
      "outputs": [
        {
          "output_type": "stream",
          "name": "stdout",
          "text": [
            "Drive already mounted at /content/drive; to attempt to forcibly remount, call drive.mount(\"/content/drive\", force_remount=True).\n"
          ]
        }
      ]
    },
    {
      "cell_type": "code",
      "source": [
        "!pip install PyWavelets\n",
        "!pip install focal-loss"
      ],
      "metadata": {
        "colab": {
          "base_uri": "https://localhost:8080/"
        },
        "id": "ogCh4W3gLUE6",
        "outputId": "5b3ca1a9-1a89-43d3-cf1f-8a32e896e117"
      },
      "execution_count": 4,
      "outputs": [
        {
          "output_type": "stream",
          "name": "stdout",
          "text": [
            "Requirement already satisfied: PyWavelets in /usr/local/lib/python3.11/dist-packages (1.8.0)\n",
            "Requirement already satisfied: numpy<3,>=1.23 in /usr/local/lib/python3.11/dist-packages (from PyWavelets) (2.0.2)\n",
            "Requirement already satisfied: focal-loss in /usr/local/lib/python3.11/dist-packages (0.0.7)\n",
            "Requirement already satisfied: tensorflow>=2.2 in /usr/local/lib/python3.11/dist-packages (from focal-loss) (2.18.0)\n",
            "Requirement already satisfied: absl-py>=1.0.0 in /usr/local/lib/python3.11/dist-packages (from tensorflow>=2.2->focal-loss) (1.4.0)\n",
            "Requirement already satisfied: astunparse>=1.6.0 in /usr/local/lib/python3.11/dist-packages (from tensorflow>=2.2->focal-loss) (1.6.3)\n",
            "Requirement already satisfied: flatbuffers>=24.3.25 in /usr/local/lib/python3.11/dist-packages (from tensorflow>=2.2->focal-loss) (25.2.10)\n",
            "Requirement already satisfied: gast!=0.5.0,!=0.5.1,!=0.5.2,>=0.2.1 in /usr/local/lib/python3.11/dist-packages (from tensorflow>=2.2->focal-loss) (0.6.0)\n",
            "Requirement already satisfied: google-pasta>=0.1.1 in /usr/local/lib/python3.11/dist-packages (from tensorflow>=2.2->focal-loss) (0.2.0)\n",
            "Requirement already satisfied: libclang>=13.0.0 in /usr/local/lib/python3.11/dist-packages (from tensorflow>=2.2->focal-loss) (18.1.1)\n",
            "Requirement already satisfied: opt-einsum>=2.3.2 in /usr/local/lib/python3.11/dist-packages (from tensorflow>=2.2->focal-loss) (3.4.0)\n",
            "Requirement already satisfied: packaging in /usr/local/lib/python3.11/dist-packages (from tensorflow>=2.2->focal-loss) (24.2)\n",
            "Requirement already satisfied: protobuf!=4.21.0,!=4.21.1,!=4.21.2,!=4.21.3,!=4.21.4,!=4.21.5,<6.0.0dev,>=3.20.3 in /usr/local/lib/python3.11/dist-packages (from tensorflow>=2.2->focal-loss) (5.29.4)\n",
            "Requirement already satisfied: requests<3,>=2.21.0 in /usr/local/lib/python3.11/dist-packages (from tensorflow>=2.2->focal-loss) (2.32.3)\n",
            "Requirement already satisfied: setuptools in /usr/local/lib/python3.11/dist-packages (from tensorflow>=2.2->focal-loss) (75.2.0)\n",
            "Requirement already satisfied: six>=1.12.0 in /usr/local/lib/python3.11/dist-packages (from tensorflow>=2.2->focal-loss) (1.17.0)\n",
            "Requirement already satisfied: termcolor>=1.1.0 in /usr/local/lib/python3.11/dist-packages (from tensorflow>=2.2->focal-loss) (3.0.1)\n",
            "Requirement already satisfied: typing-extensions>=3.6.6 in /usr/local/lib/python3.11/dist-packages (from tensorflow>=2.2->focal-loss) (4.13.1)\n",
            "Requirement already satisfied: wrapt>=1.11.0 in /usr/local/lib/python3.11/dist-packages (from tensorflow>=2.2->focal-loss) (1.17.2)\n",
            "Requirement already satisfied: grpcio<2.0,>=1.24.3 in /usr/local/lib/python3.11/dist-packages (from tensorflow>=2.2->focal-loss) (1.71.0)\n",
            "Requirement already satisfied: tensorboard<2.19,>=2.18 in /usr/local/lib/python3.11/dist-packages (from tensorflow>=2.2->focal-loss) (2.18.0)\n",
            "Requirement already satisfied: keras>=3.5.0 in /usr/local/lib/python3.11/dist-packages (from tensorflow>=2.2->focal-loss) (3.8.0)\n",
            "Requirement already satisfied: numpy<2.1.0,>=1.26.0 in /usr/local/lib/python3.11/dist-packages (from tensorflow>=2.2->focal-loss) (2.0.2)\n",
            "Requirement already satisfied: h5py>=3.11.0 in /usr/local/lib/python3.11/dist-packages (from tensorflow>=2.2->focal-loss) (3.13.0)\n",
            "Requirement already satisfied: ml-dtypes<0.5.0,>=0.4.0 in /usr/local/lib/python3.11/dist-packages (from tensorflow>=2.2->focal-loss) (0.4.1)\n",
            "Requirement already satisfied: tensorflow-io-gcs-filesystem>=0.23.1 in /usr/local/lib/python3.11/dist-packages (from tensorflow>=2.2->focal-loss) (0.37.1)\n",
            "Requirement already satisfied: wheel<1.0,>=0.23.0 in /usr/local/lib/python3.11/dist-packages (from astunparse>=1.6.0->tensorflow>=2.2->focal-loss) (0.45.1)\n",
            "Requirement already satisfied: rich in /usr/local/lib/python3.11/dist-packages (from keras>=3.5.0->tensorflow>=2.2->focal-loss) (13.9.4)\n",
            "Requirement already satisfied: namex in /usr/local/lib/python3.11/dist-packages (from keras>=3.5.0->tensorflow>=2.2->focal-loss) (0.0.8)\n",
            "Requirement already satisfied: optree in /usr/local/lib/python3.11/dist-packages (from keras>=3.5.0->tensorflow>=2.2->focal-loss) (0.14.1)\n",
            "Requirement already satisfied: charset-normalizer<4,>=2 in /usr/local/lib/python3.11/dist-packages (from requests<3,>=2.21.0->tensorflow>=2.2->focal-loss) (3.4.1)\n",
            "Requirement already satisfied: idna<4,>=2.5 in /usr/local/lib/python3.11/dist-packages (from requests<3,>=2.21.0->tensorflow>=2.2->focal-loss) (3.10)\n",
            "Requirement already satisfied: urllib3<3,>=1.21.1 in /usr/local/lib/python3.11/dist-packages (from requests<3,>=2.21.0->tensorflow>=2.2->focal-loss) (2.3.0)\n",
            "Requirement already satisfied: certifi>=2017.4.17 in /usr/local/lib/python3.11/dist-packages (from requests<3,>=2.21.0->tensorflow>=2.2->focal-loss) (2025.1.31)\n",
            "Requirement already satisfied: markdown>=2.6.8 in /usr/local/lib/python3.11/dist-packages (from tensorboard<2.19,>=2.18->tensorflow>=2.2->focal-loss) (3.7)\n",
            "Requirement already satisfied: tensorboard-data-server<0.8.0,>=0.7.0 in /usr/local/lib/python3.11/dist-packages (from tensorboard<2.19,>=2.18->tensorflow>=2.2->focal-loss) (0.7.2)\n",
            "Requirement already satisfied: werkzeug>=1.0.1 in /usr/local/lib/python3.11/dist-packages (from tensorboard<2.19,>=2.18->tensorflow>=2.2->focal-loss) (3.1.3)\n",
            "Requirement already satisfied: MarkupSafe>=2.1.1 in /usr/local/lib/python3.11/dist-packages (from werkzeug>=1.0.1->tensorboard<2.19,>=2.18->tensorflow>=2.2->focal-loss) (3.0.2)\n",
            "Requirement already satisfied: markdown-it-py>=2.2.0 in /usr/local/lib/python3.11/dist-packages (from rich->keras>=3.5.0->tensorflow>=2.2->focal-loss) (3.0.0)\n",
            "Requirement already satisfied: pygments<3.0.0,>=2.13.0 in /usr/local/lib/python3.11/dist-packages (from rich->keras>=3.5.0->tensorflow>=2.2->focal-loss) (2.18.0)\n",
            "Requirement already satisfied: mdurl~=0.1 in /usr/local/lib/python3.11/dist-packages (from markdown-it-py>=2.2.0->rich->keras>=3.5.0->tensorflow>=2.2->focal-loss) (0.1.2)\n"
          ]
        }
      ]
    },
    {
      "cell_type": "markdown",
      "metadata": {
        "vscode": {
          "languageId": "plaintext"
        },
        "id": "M_pmbr0svI7K"
      },
      "source": [
        "### Data\n",
        "* Describe the data you are using\n",
        "* What variables are you using?: time spike data\n",
        "    * What they mean?: the spike of AM when a part of the face showed up\n",
        "    * Why did you choose them?: want to predict the orientation of the face. Each face reacts differently (need citation)"
      ]
    },
    {
      "cell_type": "code",
      "execution_count": 5,
      "metadata": {
        "id": "QZ46lmV5vI7M"
      },
      "outputs": [],
      "source": [
        "zip_path = '/content/drive/MyDrive/Colab_Notebooks/Sec001_Freiwald_Tsao_faceviews_AM_data_csv.zip'\n",
        "\n",
        "X = []\n",
        "y = []\n",
        "with zipfile.ZipFile(zip_path, 'r') as zip_file:\n",
        "    csv_files = [f for f in zip_file.namelist() if f.endswith('.csv')]\n",
        "    spike_data = []\n",
        "    label_ref = []\n",
        "    for csv in csv_files:\n",
        "        with zip_file.open(csv) as file:\n",
        "            df = pd.read_csv(file)\n",
        "            spike_cols = [col for col in df.columns if col.startswith('time')]\n",
        "            spike_data.append(df[spike_cols])\n",
        "            label_ref.append(df[['labels.orientation']])\n",
        "X = pd.concat(spike_data)\n",
        "y = pd.concat(label_ref)"
      ]
    },
    {
      "cell_type": "code",
      "source": [
        "# drop NaN rows in X and reset index\n",
        "X = X.dropna().reset_index(drop=True)\n",
        "y = y.reset_index(drop=True)\n",
        "y = y.values.ravel()  # convert y to 1D array (y is currently a df)"
      ],
      "metadata": {
        "id": "uQlq0I7CzGbk"
      },
      "execution_count": 6,
      "outputs": []
    },
    {
      "cell_type": "code",
      "execution_count": 7,
      "metadata": {
        "id": "FUxVyGK5vI7O",
        "outputId": "f664f0f8-4726-4e73-b649-8c4dc02cd2c0",
        "colab": {
          "base_uri": "https://localhost:8080/",
          "height": 441
        }
      },
      "outputs": [
        {
          "output_type": "stream",
          "name": "stdout",
          "text": [
            "(206216, 800)\n"
          ]
        },
        {
          "output_type": "execute_result",
          "data": {
            "text/plain": [
              "        time.1_2  time.2_3  time.3_4  time.4_5  time.5_6  time.6_7  time.7_8  \\\n",
              "0              0         0         0         0         0         0         0   \n",
              "1              0         0         0         0         0         0         0   \n",
              "2              0         0         0         0         0         0         0   \n",
              "3              0         0         0         0         0         0         0   \n",
              "4              0         1         0         0         0         0         0   \n",
              "...          ...       ...       ...       ...       ...       ...       ...   \n",
              "206211         0         0         0         0         0         0         0   \n",
              "206212         0         0         0         0         0         0         0   \n",
              "206213         0         0         0         0         0         1         0   \n",
              "206214         0         0         0         0         0         0         0   \n",
              "206215         0         0         0         0         0         0         0   \n",
              "\n",
              "        time.8_9  time.9_10  time.10_11  ...  time.791_792  time.792_793  \\\n",
              "0              0          0           0  ...             0             0   \n",
              "1              1          0           0  ...             0             0   \n",
              "2              0          0           0  ...             0             0   \n",
              "3              0          0           0  ...             0             0   \n",
              "4              0          0           0  ...             0             0   \n",
              "...          ...        ...         ...  ...           ...           ...   \n",
              "206211         0          0           0  ...             0             0   \n",
              "206212         0          0           0  ...             0             0   \n",
              "206213         0          0           0  ...             0             0   \n",
              "206214         0          0           0  ...             0             0   \n",
              "206215         0          0           0  ...             0             0   \n",
              "\n",
              "        time.793_794  time.794_795  time.795_796  time.796_797  time.797_798  \\\n",
              "0                  0             0             0             0             0   \n",
              "1                  0             0             0             0             0   \n",
              "2                  0             0             0             0             0   \n",
              "3                  0             0             0             0             0   \n",
              "4                  0             0             0             0             0   \n",
              "...              ...           ...           ...           ...           ...   \n",
              "206211             0             0             0             0             0   \n",
              "206212             0             0             0             0             0   \n",
              "206213             0             0             0             0             0   \n",
              "206214             0             0             0             0             0   \n",
              "206215             0             0             0             0             0   \n",
              "\n",
              "        time.798_799  time.799_800  time.800_801  \n",
              "0                  0             1             0  \n",
              "1                  0             0             0  \n",
              "2                  0             0             0  \n",
              "3                  0             0             0  \n",
              "4                  0             0             0  \n",
              "...              ...           ...           ...  \n",
              "206211             0             0             0  \n",
              "206212             0             0             0  \n",
              "206213             0             0             0  \n",
              "206214             0             0             0  \n",
              "206215             0             0             0  \n",
              "\n",
              "[206216 rows x 800 columns]"
            ],
            "text/html": [
              "\n",
              "  <div id=\"df-c3a32ead-37ce-4055-b739-55eb38c6852d\" class=\"colab-df-container\">\n",
              "    <div>\n",
              "<style scoped>\n",
              "    .dataframe tbody tr th:only-of-type {\n",
              "        vertical-align: middle;\n",
              "    }\n",
              "\n",
              "    .dataframe tbody tr th {\n",
              "        vertical-align: top;\n",
              "    }\n",
              "\n",
              "    .dataframe thead th {\n",
              "        text-align: right;\n",
              "    }\n",
              "</style>\n",
              "<table border=\"1\" class=\"dataframe\">\n",
              "  <thead>\n",
              "    <tr style=\"text-align: right;\">\n",
              "      <th></th>\n",
              "      <th>time.1_2</th>\n",
              "      <th>time.2_3</th>\n",
              "      <th>time.3_4</th>\n",
              "      <th>time.4_5</th>\n",
              "      <th>time.5_6</th>\n",
              "      <th>time.6_7</th>\n",
              "      <th>time.7_8</th>\n",
              "      <th>time.8_9</th>\n",
              "      <th>time.9_10</th>\n",
              "      <th>time.10_11</th>\n",
              "      <th>...</th>\n",
              "      <th>time.791_792</th>\n",
              "      <th>time.792_793</th>\n",
              "      <th>time.793_794</th>\n",
              "      <th>time.794_795</th>\n",
              "      <th>time.795_796</th>\n",
              "      <th>time.796_797</th>\n",
              "      <th>time.797_798</th>\n",
              "      <th>time.798_799</th>\n",
              "      <th>time.799_800</th>\n",
              "      <th>time.800_801</th>\n",
              "    </tr>\n",
              "  </thead>\n",
              "  <tbody>\n",
              "    <tr>\n",
              "      <th>0</th>\n",
              "      <td>0</td>\n",
              "      <td>0</td>\n",
              "      <td>0</td>\n",
              "      <td>0</td>\n",
              "      <td>0</td>\n",
              "      <td>0</td>\n",
              "      <td>0</td>\n",
              "      <td>0</td>\n",
              "      <td>0</td>\n",
              "      <td>0</td>\n",
              "      <td>...</td>\n",
              "      <td>0</td>\n",
              "      <td>0</td>\n",
              "      <td>0</td>\n",
              "      <td>0</td>\n",
              "      <td>0</td>\n",
              "      <td>0</td>\n",
              "      <td>0</td>\n",
              "      <td>0</td>\n",
              "      <td>1</td>\n",
              "      <td>0</td>\n",
              "    </tr>\n",
              "    <tr>\n",
              "      <th>1</th>\n",
              "      <td>0</td>\n",
              "      <td>0</td>\n",
              "      <td>0</td>\n",
              "      <td>0</td>\n",
              "      <td>0</td>\n",
              "      <td>0</td>\n",
              "      <td>0</td>\n",
              "      <td>1</td>\n",
              "      <td>0</td>\n",
              "      <td>0</td>\n",
              "      <td>...</td>\n",
              "      <td>0</td>\n",
              "      <td>0</td>\n",
              "      <td>0</td>\n",
              "      <td>0</td>\n",
              "      <td>0</td>\n",
              "      <td>0</td>\n",
              "      <td>0</td>\n",
              "      <td>0</td>\n",
              "      <td>0</td>\n",
              "      <td>0</td>\n",
              "    </tr>\n",
              "    <tr>\n",
              "      <th>2</th>\n",
              "      <td>0</td>\n",
              "      <td>0</td>\n",
              "      <td>0</td>\n",
              "      <td>0</td>\n",
              "      <td>0</td>\n",
              "      <td>0</td>\n",
              "      <td>0</td>\n",
              "      <td>0</td>\n",
              "      <td>0</td>\n",
              "      <td>0</td>\n",
              "      <td>...</td>\n",
              "      <td>0</td>\n",
              "      <td>0</td>\n",
              "      <td>0</td>\n",
              "      <td>0</td>\n",
              "      <td>0</td>\n",
              "      <td>0</td>\n",
              "      <td>0</td>\n",
              "      <td>0</td>\n",
              "      <td>0</td>\n",
              "      <td>0</td>\n",
              "    </tr>\n",
              "    <tr>\n",
              "      <th>3</th>\n",
              "      <td>0</td>\n",
              "      <td>0</td>\n",
              "      <td>0</td>\n",
              "      <td>0</td>\n",
              "      <td>0</td>\n",
              "      <td>0</td>\n",
              "      <td>0</td>\n",
              "      <td>0</td>\n",
              "      <td>0</td>\n",
              "      <td>0</td>\n",
              "      <td>...</td>\n",
              "      <td>0</td>\n",
              "      <td>0</td>\n",
              "      <td>0</td>\n",
              "      <td>0</td>\n",
              "      <td>0</td>\n",
              "      <td>0</td>\n",
              "      <td>0</td>\n",
              "      <td>0</td>\n",
              "      <td>0</td>\n",
              "      <td>0</td>\n",
              "    </tr>\n",
              "    <tr>\n",
              "      <th>4</th>\n",
              "      <td>0</td>\n",
              "      <td>1</td>\n",
              "      <td>0</td>\n",
              "      <td>0</td>\n",
              "      <td>0</td>\n",
              "      <td>0</td>\n",
              "      <td>0</td>\n",
              "      <td>0</td>\n",
              "      <td>0</td>\n",
              "      <td>0</td>\n",
              "      <td>...</td>\n",
              "      <td>0</td>\n",
              "      <td>0</td>\n",
              "      <td>0</td>\n",
              "      <td>0</td>\n",
              "      <td>0</td>\n",
              "      <td>0</td>\n",
              "      <td>0</td>\n",
              "      <td>0</td>\n",
              "      <td>0</td>\n",
              "      <td>0</td>\n",
              "    </tr>\n",
              "    <tr>\n",
              "      <th>...</th>\n",
              "      <td>...</td>\n",
              "      <td>...</td>\n",
              "      <td>...</td>\n",
              "      <td>...</td>\n",
              "      <td>...</td>\n",
              "      <td>...</td>\n",
              "      <td>...</td>\n",
              "      <td>...</td>\n",
              "      <td>...</td>\n",
              "      <td>...</td>\n",
              "      <td>...</td>\n",
              "      <td>...</td>\n",
              "      <td>...</td>\n",
              "      <td>...</td>\n",
              "      <td>...</td>\n",
              "      <td>...</td>\n",
              "      <td>...</td>\n",
              "      <td>...</td>\n",
              "      <td>...</td>\n",
              "      <td>...</td>\n",
              "      <td>...</td>\n",
              "    </tr>\n",
              "    <tr>\n",
              "      <th>206211</th>\n",
              "      <td>0</td>\n",
              "      <td>0</td>\n",
              "      <td>0</td>\n",
              "      <td>0</td>\n",
              "      <td>0</td>\n",
              "      <td>0</td>\n",
              "      <td>0</td>\n",
              "      <td>0</td>\n",
              "      <td>0</td>\n",
              "      <td>0</td>\n",
              "      <td>...</td>\n",
              "      <td>0</td>\n",
              "      <td>0</td>\n",
              "      <td>0</td>\n",
              "      <td>0</td>\n",
              "      <td>0</td>\n",
              "      <td>0</td>\n",
              "      <td>0</td>\n",
              "      <td>0</td>\n",
              "      <td>0</td>\n",
              "      <td>0</td>\n",
              "    </tr>\n",
              "    <tr>\n",
              "      <th>206212</th>\n",
              "      <td>0</td>\n",
              "      <td>0</td>\n",
              "      <td>0</td>\n",
              "      <td>0</td>\n",
              "      <td>0</td>\n",
              "      <td>0</td>\n",
              "      <td>0</td>\n",
              "      <td>0</td>\n",
              "      <td>0</td>\n",
              "      <td>0</td>\n",
              "      <td>...</td>\n",
              "      <td>0</td>\n",
              "      <td>0</td>\n",
              "      <td>0</td>\n",
              "      <td>0</td>\n",
              "      <td>0</td>\n",
              "      <td>0</td>\n",
              "      <td>0</td>\n",
              "      <td>0</td>\n",
              "      <td>0</td>\n",
              "      <td>0</td>\n",
              "    </tr>\n",
              "    <tr>\n",
              "      <th>206213</th>\n",
              "      <td>0</td>\n",
              "      <td>0</td>\n",
              "      <td>0</td>\n",
              "      <td>0</td>\n",
              "      <td>0</td>\n",
              "      <td>1</td>\n",
              "      <td>0</td>\n",
              "      <td>0</td>\n",
              "      <td>0</td>\n",
              "      <td>0</td>\n",
              "      <td>...</td>\n",
              "      <td>0</td>\n",
              "      <td>0</td>\n",
              "      <td>0</td>\n",
              "      <td>0</td>\n",
              "      <td>0</td>\n",
              "      <td>0</td>\n",
              "      <td>0</td>\n",
              "      <td>0</td>\n",
              "      <td>0</td>\n",
              "      <td>0</td>\n",
              "    </tr>\n",
              "    <tr>\n",
              "      <th>206214</th>\n",
              "      <td>0</td>\n",
              "      <td>0</td>\n",
              "      <td>0</td>\n",
              "      <td>0</td>\n",
              "      <td>0</td>\n",
              "      <td>0</td>\n",
              "      <td>0</td>\n",
              "      <td>0</td>\n",
              "      <td>0</td>\n",
              "      <td>0</td>\n",
              "      <td>...</td>\n",
              "      <td>0</td>\n",
              "      <td>0</td>\n",
              "      <td>0</td>\n",
              "      <td>0</td>\n",
              "      <td>0</td>\n",
              "      <td>0</td>\n",
              "      <td>0</td>\n",
              "      <td>0</td>\n",
              "      <td>0</td>\n",
              "      <td>0</td>\n",
              "    </tr>\n",
              "    <tr>\n",
              "      <th>206215</th>\n",
              "      <td>0</td>\n",
              "      <td>0</td>\n",
              "      <td>0</td>\n",
              "      <td>0</td>\n",
              "      <td>0</td>\n",
              "      <td>0</td>\n",
              "      <td>0</td>\n",
              "      <td>0</td>\n",
              "      <td>0</td>\n",
              "      <td>0</td>\n",
              "      <td>...</td>\n",
              "      <td>0</td>\n",
              "      <td>0</td>\n",
              "      <td>0</td>\n",
              "      <td>0</td>\n",
              "      <td>0</td>\n",
              "      <td>0</td>\n",
              "      <td>0</td>\n",
              "      <td>0</td>\n",
              "      <td>0</td>\n",
              "      <td>0</td>\n",
              "    </tr>\n",
              "  </tbody>\n",
              "</table>\n",
              "<p>206216 rows × 800 columns</p>\n",
              "</div>\n",
              "    <div class=\"colab-df-buttons\">\n",
              "\n",
              "  <div class=\"colab-df-container\">\n",
              "    <button class=\"colab-df-convert\" onclick=\"convertToInteractive('df-c3a32ead-37ce-4055-b739-55eb38c6852d')\"\n",
              "            title=\"Convert this dataframe to an interactive table.\"\n",
              "            style=\"display:none;\">\n",
              "\n",
              "  <svg xmlns=\"http://www.w3.org/2000/svg\" height=\"24px\" viewBox=\"0 -960 960 960\">\n",
              "    <path d=\"M120-120v-720h720v720H120Zm60-500h600v-160H180v160Zm220 220h160v-160H400v160Zm0 220h160v-160H400v160ZM180-400h160v-160H180v160Zm440 0h160v-160H620v160ZM180-180h160v-160H180v160Zm440 0h160v-160H620v160Z\"/>\n",
              "  </svg>\n",
              "    </button>\n",
              "\n",
              "  <style>\n",
              "    .colab-df-container {\n",
              "      display:flex;\n",
              "      gap: 12px;\n",
              "    }\n",
              "\n",
              "    .colab-df-convert {\n",
              "      background-color: #E8F0FE;\n",
              "      border: none;\n",
              "      border-radius: 50%;\n",
              "      cursor: pointer;\n",
              "      display: none;\n",
              "      fill: #1967D2;\n",
              "      height: 32px;\n",
              "      padding: 0 0 0 0;\n",
              "      width: 32px;\n",
              "    }\n",
              "\n",
              "    .colab-df-convert:hover {\n",
              "      background-color: #E2EBFA;\n",
              "      box-shadow: 0px 1px 2px rgba(60, 64, 67, 0.3), 0px 1px 3px 1px rgba(60, 64, 67, 0.15);\n",
              "      fill: #174EA6;\n",
              "    }\n",
              "\n",
              "    .colab-df-buttons div {\n",
              "      margin-bottom: 4px;\n",
              "    }\n",
              "\n",
              "    [theme=dark] .colab-df-convert {\n",
              "      background-color: #3B4455;\n",
              "      fill: #D2E3FC;\n",
              "    }\n",
              "\n",
              "    [theme=dark] .colab-df-convert:hover {\n",
              "      background-color: #434B5C;\n",
              "      box-shadow: 0px 1px 3px 1px rgba(0, 0, 0, 0.15);\n",
              "      filter: drop-shadow(0px 1px 2px rgba(0, 0, 0, 0.3));\n",
              "      fill: #FFFFFF;\n",
              "    }\n",
              "  </style>\n",
              "\n",
              "    <script>\n",
              "      const buttonEl =\n",
              "        document.querySelector('#df-c3a32ead-37ce-4055-b739-55eb38c6852d button.colab-df-convert');\n",
              "      buttonEl.style.display =\n",
              "        google.colab.kernel.accessAllowed ? 'block' : 'none';\n",
              "\n",
              "      async function convertToInteractive(key) {\n",
              "        const element = document.querySelector('#df-c3a32ead-37ce-4055-b739-55eb38c6852d');\n",
              "        const dataTable =\n",
              "          await google.colab.kernel.invokeFunction('convertToInteractive',\n",
              "                                                    [key], {});\n",
              "        if (!dataTable) return;\n",
              "\n",
              "        const docLinkHtml = 'Like what you see? Visit the ' +\n",
              "          '<a target=\"_blank\" href=https://colab.research.google.com/notebooks/data_table.ipynb>data table notebook</a>'\n",
              "          + ' to learn more about interactive tables.';\n",
              "        element.innerHTML = '';\n",
              "        dataTable['output_type'] = 'display_data';\n",
              "        await google.colab.output.renderOutput(dataTable, element);\n",
              "        const docLink = document.createElement('div');\n",
              "        docLink.innerHTML = docLinkHtml;\n",
              "        element.appendChild(docLink);\n",
              "      }\n",
              "    </script>\n",
              "  </div>\n",
              "\n",
              "\n",
              "<div id=\"df-1b017686-4e19-404c-88c9-47d63a572000\">\n",
              "  <button class=\"colab-df-quickchart\" onclick=\"quickchart('df-1b017686-4e19-404c-88c9-47d63a572000')\"\n",
              "            title=\"Suggest charts\"\n",
              "            style=\"display:none;\">\n",
              "\n",
              "<svg xmlns=\"http://www.w3.org/2000/svg\" height=\"24px\"viewBox=\"0 0 24 24\"\n",
              "     width=\"24px\">\n",
              "    <g>\n",
              "        <path d=\"M19 3H5c-1.1 0-2 .9-2 2v14c0 1.1.9 2 2 2h14c1.1 0 2-.9 2-2V5c0-1.1-.9-2-2-2zM9 17H7v-7h2v7zm4 0h-2V7h2v10zm4 0h-2v-4h2v4z\"/>\n",
              "    </g>\n",
              "</svg>\n",
              "  </button>\n",
              "\n",
              "<style>\n",
              "  .colab-df-quickchart {\n",
              "      --bg-color: #E8F0FE;\n",
              "      --fill-color: #1967D2;\n",
              "      --hover-bg-color: #E2EBFA;\n",
              "      --hover-fill-color: #174EA6;\n",
              "      --disabled-fill-color: #AAA;\n",
              "      --disabled-bg-color: #DDD;\n",
              "  }\n",
              "\n",
              "  [theme=dark] .colab-df-quickchart {\n",
              "      --bg-color: #3B4455;\n",
              "      --fill-color: #D2E3FC;\n",
              "      --hover-bg-color: #434B5C;\n",
              "      --hover-fill-color: #FFFFFF;\n",
              "      --disabled-bg-color: #3B4455;\n",
              "      --disabled-fill-color: #666;\n",
              "  }\n",
              "\n",
              "  .colab-df-quickchart {\n",
              "    background-color: var(--bg-color);\n",
              "    border: none;\n",
              "    border-radius: 50%;\n",
              "    cursor: pointer;\n",
              "    display: none;\n",
              "    fill: var(--fill-color);\n",
              "    height: 32px;\n",
              "    padding: 0;\n",
              "    width: 32px;\n",
              "  }\n",
              "\n",
              "  .colab-df-quickchart:hover {\n",
              "    background-color: var(--hover-bg-color);\n",
              "    box-shadow: 0 1px 2px rgba(60, 64, 67, 0.3), 0 1px 3px 1px rgba(60, 64, 67, 0.15);\n",
              "    fill: var(--button-hover-fill-color);\n",
              "  }\n",
              "\n",
              "  .colab-df-quickchart-complete:disabled,\n",
              "  .colab-df-quickchart-complete:disabled:hover {\n",
              "    background-color: var(--disabled-bg-color);\n",
              "    fill: var(--disabled-fill-color);\n",
              "    box-shadow: none;\n",
              "  }\n",
              "\n",
              "  .colab-df-spinner {\n",
              "    border: 2px solid var(--fill-color);\n",
              "    border-color: transparent;\n",
              "    border-bottom-color: var(--fill-color);\n",
              "    animation:\n",
              "      spin 1s steps(1) infinite;\n",
              "  }\n",
              "\n",
              "  @keyframes spin {\n",
              "    0% {\n",
              "      border-color: transparent;\n",
              "      border-bottom-color: var(--fill-color);\n",
              "      border-left-color: var(--fill-color);\n",
              "    }\n",
              "    20% {\n",
              "      border-color: transparent;\n",
              "      border-left-color: var(--fill-color);\n",
              "      border-top-color: var(--fill-color);\n",
              "    }\n",
              "    30% {\n",
              "      border-color: transparent;\n",
              "      border-left-color: var(--fill-color);\n",
              "      border-top-color: var(--fill-color);\n",
              "      border-right-color: var(--fill-color);\n",
              "    }\n",
              "    40% {\n",
              "      border-color: transparent;\n",
              "      border-right-color: var(--fill-color);\n",
              "      border-top-color: var(--fill-color);\n",
              "    }\n",
              "    60% {\n",
              "      border-color: transparent;\n",
              "      border-right-color: var(--fill-color);\n",
              "    }\n",
              "    80% {\n",
              "      border-color: transparent;\n",
              "      border-right-color: var(--fill-color);\n",
              "      border-bottom-color: var(--fill-color);\n",
              "    }\n",
              "    90% {\n",
              "      border-color: transparent;\n",
              "      border-bottom-color: var(--fill-color);\n",
              "    }\n",
              "  }\n",
              "</style>\n",
              "\n",
              "  <script>\n",
              "    async function quickchart(key) {\n",
              "      const quickchartButtonEl =\n",
              "        document.querySelector('#' + key + ' button');\n",
              "      quickchartButtonEl.disabled = true;  // To prevent multiple clicks.\n",
              "      quickchartButtonEl.classList.add('colab-df-spinner');\n",
              "      try {\n",
              "        const charts = await google.colab.kernel.invokeFunction(\n",
              "            'suggestCharts', [key], {});\n",
              "      } catch (error) {\n",
              "        console.error('Error during call to suggestCharts:', error);\n",
              "      }\n",
              "      quickchartButtonEl.classList.remove('colab-df-spinner');\n",
              "      quickchartButtonEl.classList.add('colab-df-quickchart-complete');\n",
              "    }\n",
              "    (() => {\n",
              "      let quickchartButtonEl =\n",
              "        document.querySelector('#df-1b017686-4e19-404c-88c9-47d63a572000 button');\n",
              "      quickchartButtonEl.style.display =\n",
              "        google.colab.kernel.accessAllowed ? 'block' : 'none';\n",
              "    })();\n",
              "  </script>\n",
              "</div>\n",
              "\n",
              "  <div id=\"id_3a8d642c-7722-4342-bc0b-2a3aa5106e67\">\n",
              "    <style>\n",
              "      .colab-df-generate {\n",
              "        background-color: #E8F0FE;\n",
              "        border: none;\n",
              "        border-radius: 50%;\n",
              "        cursor: pointer;\n",
              "        display: none;\n",
              "        fill: #1967D2;\n",
              "        height: 32px;\n",
              "        padding: 0 0 0 0;\n",
              "        width: 32px;\n",
              "      }\n",
              "\n",
              "      .colab-df-generate:hover {\n",
              "        background-color: #E2EBFA;\n",
              "        box-shadow: 0px 1px 2px rgba(60, 64, 67, 0.3), 0px 1px 3px 1px rgba(60, 64, 67, 0.15);\n",
              "        fill: #174EA6;\n",
              "      }\n",
              "\n",
              "      [theme=dark] .colab-df-generate {\n",
              "        background-color: #3B4455;\n",
              "        fill: #D2E3FC;\n",
              "      }\n",
              "\n",
              "      [theme=dark] .colab-df-generate:hover {\n",
              "        background-color: #434B5C;\n",
              "        box-shadow: 0px 1px 3px 1px rgba(0, 0, 0, 0.15);\n",
              "        filter: drop-shadow(0px 1px 2px rgba(0, 0, 0, 0.3));\n",
              "        fill: #FFFFFF;\n",
              "      }\n",
              "    </style>\n",
              "    <button class=\"colab-df-generate\" onclick=\"generateWithVariable('X')\"\n",
              "            title=\"Generate code using this dataframe.\"\n",
              "            style=\"display:none;\">\n",
              "\n",
              "  <svg xmlns=\"http://www.w3.org/2000/svg\" height=\"24px\"viewBox=\"0 0 24 24\"\n",
              "       width=\"24px\">\n",
              "    <path d=\"M7,19H8.4L18.45,9,17,7.55,7,17.6ZM5,21V16.75L18.45,3.32a2,2,0,0,1,2.83,0l1.4,1.43a1.91,1.91,0,0,1,.58,1.4,1.91,1.91,0,0,1-.58,1.4L9.25,21ZM18.45,9,17,7.55Zm-12,3A5.31,5.31,0,0,0,4.9,8.1,5.31,5.31,0,0,0,1,6.5,5.31,5.31,0,0,0,4.9,4.9,5.31,5.31,0,0,0,6.5,1,5.31,5.31,0,0,0,8.1,4.9,5.31,5.31,0,0,0,12,6.5,5.46,5.46,0,0,0,6.5,12Z\"/>\n",
              "  </svg>\n",
              "    </button>\n",
              "    <script>\n",
              "      (() => {\n",
              "      const buttonEl =\n",
              "        document.querySelector('#id_3a8d642c-7722-4342-bc0b-2a3aa5106e67 button.colab-df-generate');\n",
              "      buttonEl.style.display =\n",
              "        google.colab.kernel.accessAllowed ? 'block' : 'none';\n",
              "\n",
              "      buttonEl.onclick = () => {\n",
              "        google.colab.notebook.generateWithVariable('X');\n",
              "      }\n",
              "      })();\n",
              "    </script>\n",
              "  </div>\n",
              "\n",
              "    </div>\n",
              "  </div>\n"
            ],
            "application/vnd.google.colaboratory.intrinsic+json": {
              "type": "dataframe",
              "variable_name": "X"
            }
          },
          "metadata": {},
          "execution_count": 7
        }
      ],
      "source": [
        "print(X.shape)\n",
        "X"
      ]
    },
    {
      "cell_type": "code",
      "execution_count": 8,
      "metadata": {
        "id": "jWl-6lUxvI7T",
        "outputId": "39a306d0-ef91-4ab6-83fe-243baa35faf3",
        "colab": {
          "base_uri": "https://localhost:8080/"
        }
      },
      "outputs": [
        {
          "output_type": "stream",
          "name": "stdout",
          "text": [
            "(206216,)\n"
          ]
        },
        {
          "output_type": "execute_result",
          "data": {
            "text/plain": [
              "array(['back', 'down', 'front', 'left 3/4', 'left profile', 'right 3/4',\n",
              "       'right profile', 'up'], dtype=object)"
            ]
          },
          "metadata": {},
          "execution_count": 8
        }
      ],
      "source": [
        "print(y.shape)\n",
        "np.unique(y)"
      ]
    },
    {
      "cell_type": "code",
      "source": [
        "y_series = pd.Series(y)\n",
        "\n",
        "# labels similar orientation into new groups\n",
        "def convert_orientation(orientation):\n",
        "    if 'left' in orientation:\n",
        "        return 'left'\n",
        "    elif 'right' in orientation:\n",
        "        return 'right'\n",
        "    elif orientation in ['front', 'back']:\n",
        "        return 'frontal'\n",
        "    else:\n",
        "        return 'vertical'\n",
        "\n",
        "y = y_series.apply(convert_orientation)\n",
        "\n",
        "from collections import Counter\n",
        "print(Counter(y))"
      ],
      "metadata": {
        "colab": {
          "base_uri": "https://localhost:8080/"
        },
        "id": "NfGaNf3V5R4S",
        "outputId": "0c330b67-cdc2-46c9-cf1b-76ad6fb1b3fb"
      },
      "execution_count": 9,
      "outputs": [
        {
          "output_type": "stream",
          "name": "stdout",
          "text": [
            "Counter({'right': 51818, 'frontal': 51715, 'left': 51346, 'vertical': 51337})\n"
          ]
        }
      ]
    },
    {
      "cell_type": "markdown",
      "metadata": {
        "id": "oi4C3v4yvI7X"
      },
      "source": [
        "### Pre-processing\n",
        "\n",
        "The Short-Time Fourier Transform (STFT), Discrete Wavelet Transform (DWT), and Wavelet\n",
        "Transform (WT) and are time-frequency-based techniques have been used for feature\n",
        "extraction [65]. These techniques help accurately classify signals by extracting relevant\n",
        "information. DWT is used to statistically evaluate the frequency bands of medical brain waves,\n",
        "disclosing signal characteristics in both temporal and frequency domains [67]. The outcome\n",
        "also demonstrates that most algorithms have performed better when dealing with feature sets\n",
        "produced by wavelets [2]. Furthermore, Fast Fourier Transform (FFT) focuses primarily on\n",
        "filtering techniques and divides the time domain into four frequency bands called alpha, beta,\n",
        "gamma, and delta. It can transform time-domain signals into frequency-domain impulses as\n",
        "well [68].\n",
        "\n",
        "Although the methods mentioned can be helpful in most datasets, recent research papers have\n",
        "indicated that with bigger data sets, Principal Component Analysis (PCA) has a slight\n",
        "advantage [2]. PCA is considered a feature extraction technique and a dimensionality reduction\n",
        "method. It will be introduced in the dimensionality reduction section."
      ]
    },
    {
      "cell_type": "code",
      "source": [
        "import pywt\n",
        "\n",
        "# wavelet and decomposition level\n",
        "wavelet = 'db4'   # wavelet Daubechies 4 – good for spike data\n",
        "level = 4         # decomposition level\n",
        "\n",
        "# apply DWT row-by-row, flatten coefficients into 1D feature vector\n",
        "X_dwt = np.array([\n",
        "    np.hstack(pywt.wavedec(row, wavelet=wavelet, level=level))\n",
        "    for row in X.values\n",
        "])\n",
        "\n",
        "print(\"Original X shape:\", X.shape)\n",
        "print(\"DWT-transformed X shape:\", X_dwt.shape)"
      ],
      "metadata": {
        "id": "UjH6zCiC9Gv5",
        "colab": {
          "base_uri": "https://localhost:8080/"
        },
        "outputId": "bc17481d-04cb-4198-96d1-3ff7b7cbf5f5"
      },
      "execution_count": 10,
      "outputs": [
        {
          "output_type": "stream",
          "name": "stdout",
          "text": [
            "Original X shape: (206216, 800)\n",
            "DWT-transformed X shape: (206216, 826)\n"
          ]
        }
      ]
    },
    {
      "cell_type": "code",
      "source": [
        "from scipy.signal import stft\n",
        "\n",
        "# Apply STFT to one row — we'll batch this below\n",
        "f, t, Zxx = stft(X.iloc[0], nperseg=64)\n",
        "\n",
        "# Convert magnitude to feature vector\n",
        "stft_features = np.abs(Zxx).flatten()\n",
        "print(\"STFT features (1 sample):\", stft_features.shape)\n",
        "\n",
        "X_stft = np.array([\n",
        "    np.abs(stft(row, nperseg=64)[2]).flatten()\n",
        "    for row in X.values\n",
        "])\n",
        "print(\"STFT-transformed shape:\", X_stft.shape)"
      ],
      "metadata": {
        "id": "_3kpcSQKHPO0",
        "colab": {
          "base_uri": "https://localhost:8080/"
        },
        "outputId": "57ca8171-e253-463b-b2f9-2a26a499a6c8"
      },
      "execution_count": 11,
      "outputs": [
        {
          "output_type": "stream",
          "name": "stdout",
          "text": [
            "STFT features (1 sample): (858,)\n",
            "STFT-transformed shape: (206216, 858)\n"
          ]
        }
      ]
    },
    {
      "cell_type": "code",
      "source": [
        "# reduce each first before combining\n",
        "# X_dwt_pca = PCA(n_components=100).fit_transform(X_dwt)\n",
        "# X_stft_pca = PCA(n_components=100).fit_transform(X_stft)\n",
        "\n",
        "X_features = np.hstack([X_dwt, X_stft])\n",
        "X_features.shape"
      ],
      "metadata": {
        "id": "p5rR9jcbIsgD",
        "colab": {
          "base_uri": "https://localhost:8080/"
        },
        "outputId": "fee2c6bd-5aee-4976-ad31-533d376f1bfd"
      },
      "execution_count": 12,
      "outputs": [
        {
          "output_type": "execute_result",
          "data": {
            "text/plain": [
              "(206216, 1684)"
            ]
          },
          "metadata": {},
          "execution_count": 12
        }
      ]
    },
    {
      "cell_type": "code",
      "source": [
        "# pca = PCA(n_components=400)\n",
        "# X_features = pca.fit_transform(X)\n",
        "\n",
        "# print(\"Explained variance ratio:\", pca.explained_variance_ratio_.sum())"
      ],
      "metadata": {
        "id": "Rb5Iea00crhV"
      },
      "execution_count": null,
      "outputs": []
    },
    {
      "cell_type": "code",
      "source": [
        "X_train, X_test, y_train, y_test = train_test_split(X_features, y, test_size=0.3, random_state=42)\n",
        "\n",
        "from sklearn.preprocessing import StandardScaler\n",
        "scaler = StandardScaler()\n",
        "X_train_scale = scaler.fit_transform(X_train)\n",
        "X_test_scale = scaler.transform(X_test)"
      ],
      "metadata": {
        "id": "hA6f9m3Z-3hm"
      },
      "execution_count": 13,
      "outputs": []
    },
    {
      "cell_type": "markdown",
      "metadata": {
        "id": "WhXQqCNavI7d"
      },
      "source": [
        "### Models for classification _(if applicable)_\n",
        "_(What models will you be using for classification? Why did you choose to use them? What questions would you answer with them? How would you evaluate if each model? What cross-validation method did you use?)_"
      ]
    },
    {
      "cell_type": "code",
      "execution_count": 23,
      "metadata": {
        "id": "xgOvrqkEvI7f",
        "outputId": "1c9bd4a4-2244-4f80-9acb-28ae0c85ee0f",
        "colab": {
          "base_uri": "https://localhost:8080/",
          "height": 663
        }
      },
      "outputs": [
        {
          "output_type": "stream",
          "name": "stdout",
          "text": [
            "n_components=20, Mean CV Accuracy=0.2616\n",
            "n_components=50, Mean CV Accuracy=0.2625\n",
            "n_components=100, Mean CV Accuracy=0.2619\n",
            "n_components=200, Mean CV Accuracy=0.2601\n",
            "n_components=300, Mean CV Accuracy=0.26\n",
            "n_components=400, Mean CV Accuracy=0.2585\n",
            "n_components=500, Mean CV Accuracy=0.2581\n",
            "n_components=600, Mean CV Accuracy=0.2581\n",
            "n_components=700, Mean CV Accuracy=0.2571\n",
            "n_components=800, Mean CV Accuracy=0.2568\n"
          ]
        },
        {
          "output_type": "display_data",
          "data": {
            "text/plain": [
              "<Figure size 640x480 with 1 Axes>"
            ],
            "image/png": "[encoded data removed]"
          },
          "metadata": {}
        },
        {
          "output_type": "stream",
          "name": "stdout",
          "text": [
            "Best n_components = 50 with CV accuracy = 0.2625\n"
          ]
        }
      ],
      "source": [
        "from sklearn.pipeline import Pipeline\n",
        "\n",
        "n_components_list = [20, 50, 100, 200, 300, 400, 500, 600, 700, 800]\n",
        "\n",
        "mean_scores = []\n",
        "\n",
        "for n in n_components_list:\n",
        "    pipeline = Pipeline([\n",
        "        ('pca', PCA(n_components=n)),\n",
        "        ('logreg', LogisticRegression(max_iter=1000, solver='lbfgs'))\n",
        "    ])\n",
        "\n",
        "    scores = cross_val_score(pipeline, X_train_scale, y_train, cv=5, n_jobs=-1)\n",
        "    mean_score = scores.mean()\n",
        "    mean_scores.append(mean_score)\n",
        "    print(f'n_components={n}, Mean CV Accuracy={round(mean_score, 4)}')\n",
        "\n",
        "# Plot\n",
        "plt.plot(n_components_list, mean_scores, marker='o')\n",
        "plt.xlabel(\"n_components\")\n",
        "plt.ylabel(\"Accuracy\")\n",
        "plt.title(\"PCA for Logistic Regression\")\n",
        "plt.show()\n",
        "\n",
        "# Pick best\n",
        "best_n = n_components_list[np.argmax(mean_scores)]\n",
        "print(f\"Best n_components = {best_n} with CV accuracy = {round(max(mean_scores), 4)}\")"
      ]
    },
    {
      "cell_type": "code",
      "source": [
        "pca = PCA(n_components=best_n)\n",
        "X_train_pca = pca.fit_transform(X_train_scale)\n",
        "X_test_pca = pca.transform(X_test_scale)\n",
        "\n",
        "print(\"Explained variance ratio:\", pca.explained_variance_ratio_.sum())\n",
        "\n",
        "logreg = LogisticRegression(max_iter=1000, solver='lbfgs').fit(X_train_pca, y_train)\n",
        "y_pred = logreg.predict(X_test_pca)\n",
        "\n",
        "# print(\"Cross-validation scores:\", cv_scores)\n",
        "# print(\"Average CV accuracy:\", np.mean(cv_scores))\n",
        "test_acc = accuracy_score(y_test, y_pred)\n",
        "print(\"Testing accuracy:\", test_acc)\n",
        "\n",
        "from sklearn.metrics import top_k_accuracy_score\n",
        "\n",
        "# Get class probabilities from the model\n",
        "y_proba = logreg.predict_proba(X_test_pca)\n",
        "top1 = top_k_accuracy_score(y_test, y_proba, k=1)\n",
        "top3 = top_k_accuracy_score(y_test, y_proba, k=3)\n",
        "\n",
        "print(\"Logistic Regression Top-1 Accuracy:\", round(top1, 4))\n",
        "print(\"Logistic Regression Top-3 Accuracy:\", round(top3, 4))\n",
        "\n",
        "print(\"Classification Report:\\n\", classification_report(y_test, y_pred))"
      ],
      "metadata": {
        "colab": {
          "base_uri": "https://localhost:8080/"
        },
        "id": "Qb_RUJSe8ED1",
        "outputId": "6466a433-1e1c-47db-f32b-e4218a9d1759"
      },
      "execution_count": 24,
      "outputs": [
        {
          "output_type": "stream",
          "name": "stdout",
          "text": [
            "Explained variance ratio: 0.5167322270034062\n",
            "Testing accuracy: 0.263606239392225\n",
            "Logistic Regression Top-1 Accuracy: 0.2636\n",
            "Logistic Regression Top-3 Accuracy: 0.7641\n",
            "Classification Report:\n",
            "               precision    recall  f1-score   support\n",
            "\n",
            "     frontal       0.26      0.23      0.25     15424\n",
            "        left       0.26      0.13      0.17     15476\n",
            "       right       0.26      0.42      0.32     15586\n",
            "    vertical       0.28      0.27      0.28     15379\n",
            "\n",
            "    accuracy                           0.26     61865\n",
            "   macro avg       0.26      0.26      0.25     61865\n",
            "weighted avg       0.26      0.26      0.25     61865\n",
            "\n"
          ]
        }
      ]
    },
    {
      "cell_type": "code",
      "execution_count": 25,
      "metadata": {
        "id": "2L4Wzn4nvI7h",
        "colab": {
          "base_uri": "https://localhost:8080/",
          "height": 487
        },
        "outputId": "8c7280a7-9f9f-4d1f-a3c7-3d42f88d43a9"
      },
      "outputs": [
        {
          "output_type": "display_data",
          "data": {
            "text/plain": [
              "<Figure size 640x480 with 1 Axes>"
            ],
            "image/png": "[encoded data removed]"
          },
          "metadata": {}
        }
      ],
      "source": [
        "# #Plots\n",
        "# plt.figure(figsize=(8, 4))\n",
        "# plt.bar(range(1, 6), cv_scores, color='lightseagreen')\n",
        "# plt.ylim(0, 1)\n",
        "# plt.title(\"Logistic Regression Cross-Validation Accuracy\")\n",
        "# plt.xlabel(\"Fold\")\n",
        "# plt.ylabel(\"Accuracy\")\n",
        "# plt.grid(axis='y', linestyle='--', alpha=0.5)\n",
        "# plt.tight_layout()\n",
        "# plt.show()\n",
        "\n",
        "# Confusion matrix\n",
        "cm = confusion_matrix(y_test, y_pred)\n",
        "sns.heatmap(cm, annot=True, fmt='d', cmap='Blues', cbar=False)\n",
        "plt.title(\"Confusion Matrix (Logistic Regression - Test Set)\")\n",
        "plt.xlabel(\"Predicted\")\n",
        "plt.ylabel(\"True\")\n",
        "plt.tight_layout()\n",
        "plt.show()"
      ]
    },
    {
      "cell_type": "markdown",
      "metadata": {
        "id": "yOw6iKkevI7i"
      },
      "source": [
        "### Other methods used _(if applicable)_"
      ]
    },
    {
      "cell_type": "code",
      "source": [
        "import tensorflow as tf\n",
        "print(\"TensorFlow version:\", tf.__version__)\n",
        "print(\"GPU available:\", tf.config.list_physical_devices('GPU'))"
      ],
      "metadata": {
        "colab": {
          "base_uri": "https://localhost:8080/"
        },
        "id": "wDRxEP9cw9NE",
        "outputId": "2e230dd9-12b0-40b8-cd31-29215585b467"
      },
      "execution_count": 14,
      "outputs": [
        {
          "output_type": "stream",
          "name": "stdout",
          "text": [
            "TensorFlow version: 2.18.0\n",
            "GPU available: [PhysicalDevice(name='/physical_device:GPU:0', device_type='GPU')]\n"
          ]
        }
      ]
    },
    {
      "cell_type": "code",
      "source": [
        "# from sklearn.preprocessing import LabelEncoder\n",
        "# from tensorflow.keras.utils import to_categorical\n",
        "\n",
        "# # Encode string labels to integers\n",
        "# le = LabelEncoder()\n",
        "# y_train_encoded = le.fit_transform(y_train)\n",
        "# y_test_encoded = le.transform(y_test)\n",
        "\n",
        "# # Now apply one-hot encoding\n",
        "# y_train_cat = to_categorical(y_train_encoded, num_classes=4)\n",
        "# y_test_cat = to_categorical(y_test_encoded, num_classes=4)\n",
        "\n",
        "from sklearn.preprocessing import LabelEncoder\n",
        "\n",
        "le = LabelEncoder()\n",
        "y_train_encoded = le.fit_transform(y_train)  # This transforms labels to integers (0 to N-1)\n",
        "y_test_encoded = le.transform(y_test)\n",
        "\n",
        "# Make sure the labels are integer-encoded\n",
        "print(np.unique(y_train_encoded))  # [0, 1, 2, 3] for 4 classes"
      ],
      "metadata": {
        "id": "6vhiHXIDxKL3",
        "colab": {
          "base_uri": "https://localhost:8080/"
        },
        "outputId": "fd70c871-bdf0-46d6-c9f8-106e206f5b45"
      },
      "execution_count": 15,
      "outputs": [
        {
          "output_type": "stream",
          "name": "stdout",
          "text": [
            "[0 1 2 3]\n"
          ]
        }
      ]
    },
    {
      "cell_type": "code",
      "source": [
        "import tensorflow as tf\n",
        "from tensorflow.keras.utils import to_categorical\n",
        "from sklearn.preprocessing import StandardScaler\n",
        "\n",
        "# Scale input features\n",
        "scaler = StandardScaler()\n",
        "X_train_scaled = scaler.fit_transform(X_train)\n",
        "X_test_scaled = scaler.transform(X_test)"
      ],
      "metadata": {
        "id": "DOgCTJMPvQ1T"
      },
      "execution_count": 16,
      "outputs": []
    },
    {
      "cell_type": "code",
      "source": [
        "from tensorflow.keras.models import Sequential\n",
        "from tensorflow.keras.layers import Conv1D, MaxPooling1D, GlobalAvgPool1D, BatchNormalization, Dropout, Dense\n",
        "from tensorflow.keras.regularizers import l2\n",
        "from tensorflow.keras.callbacks import EarlyStopping, ReduceLROnPlateau\n",
        "from sklearn.utils import class_weight\n",
        "from tensorflow.keras.optimizers.schedules import CosineDecay\n",
        "from tensorflow.keras.metrics import SparseTopKCategoricalAccuracy\n",
        "from focal_loss import SparseCategoricalFocalLoss\n",
        "\n",
        "def ffn_model(input_dim, output_dim=4):\n",
        "  model = Sequential([\n",
        "      Dense(512, activation='relu', input_shape=(input_dim,), kernel_regularizer=l2(0.001)),\n",
        "      BatchNormalization(),\n",
        "      Dropout(0.4),\n",
        "\n",
        "      Dense(256, activation='relu'),\n",
        "      BatchNormalization(),\n",
        "      Dropout(0.3),\n",
        "\n",
        "      Dense(128, activation='relu'),\n",
        "      BatchNormalization(),\n",
        "\n",
        "      Dense(64, activation='relu'),\n",
        "      Dropout(0.2),\n",
        "\n",
        "      Dense(output_dim, activation='softmax')\n",
        "  ])\n",
        "\n",
        "  # Learning rate schedule\n",
        "  lr_schedule = CosineDecay(initial_learning_rate=0.001, decay_steps=10000)\n",
        "\n",
        "  # Optimizer\n",
        "  optimizer = tf.keras.optimizers.Adam(learning_rate=lr_schedule)\n",
        "\n",
        "  # Metrics\n",
        "  top3_acc = SparseTopKCategoricalAccuracy(k=3, name=\"top_3_accuracy\")\n",
        "\n",
        "  # Compile model\n",
        "  model.compile(\n",
        "      optimizer=optimizer,\n",
        "      loss=SparseCategoricalFocalLoss(gamma=2),\n",
        "      metrics=[\n",
        "          tf.keras.metrics.SparseCategoricalAccuracy(name='accuracy'),\n",
        "          top3_acc\n",
        "      ]\n",
        "  )\n",
        "  return model\n",
        "\n",
        "# Callbacks\n",
        "callbacks = [\n",
        "    EarlyStopping(monitor='val_accuracy', mode='max', patience=6, restore_best_weights=True),\n",
        "    ReduceLROnPlateau(monitor='val_loss', factor=0.2, patience=3, min_lr=1e-6)\n",
        "]\n",
        "\n",
        "# Class weights\n",
        "class_weights = class_weight.compute_class_weight(\n",
        "    class_weight='balanced',\n",
        "    classes=np.unique(y_train_encoded),\n",
        "    y=y_train_encoded\n",
        ")\n",
        "class_weights_dict = dict(enumerate(class_weights))"
      ],
      "metadata": {
        "id": "Lqkm14EIvSHm"
      },
      "execution_count": 17,
      "outputs": []
    },
    {
      "cell_type": "code",
      "source": [
        "no_pca_model = ffn_model(input_dim=X_train_scaled.shape[1]) # input_dim=1068, output_dim=4\n",
        "# Fit model\n",
        "history = no_pca_model.fit(\n",
        "    X_train_scaled, y_train_encoded,\n",
        "    validation_split=0.2,\n",
        "    epochs=50,\n",
        "    batch_size=64,\n",
        "    callbacks=callbacks,\n",
        "    class_weight=class_weights_dict\n",
        ")"
      ],
      "metadata": {
        "id": "RUjn6CCWvX6z",
        "colab": {
          "base_uri": "https://localhost:8080/"
        },
        "outputId": "760d2941-3468-4a78-da46-c24bbd5ca66d"
      },
      "execution_count": 26,
      "outputs": [
        {
          "output_type": "stream",
          "name": "stdout",
          "text": [
            "Epoch 1/50\n",
            "\u001b[1m1805/1805\u001b[0m \u001b[32m━━━━━━━━━━━━━━━━━━━━\u001b[0m\u001b[37m\u001b[0m \u001b[1m17s\u001b[0m 6ms/step - accuracy: 0.2517 - loss: 1.4327 - top_3_accuracy: 0.7507 - val_accuracy: 0.2616 - val_loss: 0.8318 - val_top_3_accuracy: 0.7613 - learning_rate: 9.2174e-04\n",
            "Epoch 2/50\n",
            "\u001b[1m1805/1805\u001b[0m \u001b[32m━━━━━━━━━━━━━━━━━━━━\u001b[0m\u001b[37m\u001b[0m \u001b[1m6s\u001b[0m 3ms/step - accuracy: 0.2550 - loss: 0.8167 - top_3_accuracy: 0.7553 - val_accuracy: 0.2469 - val_loss: 0.8058 - val_top_3_accuracy: 0.7540 - learning_rate: 7.1147e-04\n",
            "Epoch 3/50\n",
            "\u001b[1m1805/1805\u001b[0m \u001b[32m━━━━━━━━━━━━━━━━━━━━\u001b[0m\u001b[37m\u001b[0m \u001b[1m6s\u001b[0m 3ms/step - accuracy: 0.2569 - loss: 0.8029 - top_3_accuracy: 0.7567 - val_accuracy: 0.2563 - val_loss: 0.7962 - val_top_3_accuracy: 0.7623 - learning_rate: 4.3500e-04\n",
            "Epoch 4/50\n",
            "\u001b[1m1805/1805\u001b[0m \u001b[32m━━━━━━━━━━━━━━━━━━━━\u001b[0m\u001b[37m\u001b[0m \u001b[1m6s\u001b[0m 3ms/step - accuracy: 0.2594 - loss: 0.7937 - top_3_accuracy: 0.7616 - val_accuracy: 0.2672 - val_loss: 0.7886 - val_top_3_accuracy: 0.7655 - learning_rate: 1.7887e-04\n",
            "Epoch 5/50\n",
            "\u001b[1m1805/1805\u001b[0m \u001b[32m━━━━━━━━━━━━━━━━━━━━\u001b[0m\u001b[37m\u001b[0m \u001b[1m6s\u001b[0m 3ms/step - accuracy: 0.2615 - loss: 0.7879 - top_3_accuracy: 0.7629 - val_accuracy: 0.2647 - val_loss: 0.7841 - val_top_3_accuracy: 0.7699 - learning_rate: 2.3273e-05\n",
            "Epoch 6/50\n",
            "\u001b[1m1805/1805\u001b[0m \u001b[32m━━━━━━━━━━━━━━━━━━━━\u001b[0m\u001b[37m\u001b[0m \u001b[1m6s\u001b[0m 3ms/step - accuracy: 0.2751 - loss: 0.7829 - top_3_accuracy: 0.7713 - val_accuracy: 0.2629 - val_loss: 0.7836 - val_top_3_accuracy: 0.7701 - learning_rate: 0.0000e+00\n",
            "Epoch 7/50\n",
            "\u001b[1m1805/1805\u001b[0m \u001b[32m━━━━━━━━━━━━━━━━━━━━\u001b[0m\u001b[37m\u001b[0m \u001b[1m6s\u001b[0m 3ms/step - accuracy: 0.2755 - loss: 0.7822 - top_3_accuracy: 0.7699 - val_accuracy: 0.2627 - val_loss: 0.7836 - val_top_3_accuracy: 0.7703 - learning_rate: 0.0000e+00\n",
            "Epoch 8/50\n",
            "\u001b[1m1805/1805\u001b[0m \u001b[32m━━━━━━━━━━━━━━━━━━━━\u001b[0m\u001b[37m\u001b[0m \u001b[1m6s\u001b[0m 3ms/step - accuracy: 0.2714 - loss: 0.7822 - top_3_accuracy: 0.7723 - val_accuracy: 0.2628 - val_loss: 0.7836 - val_top_3_accuracy: 0.7698 - learning_rate: 0.0000e+00\n",
            "Epoch 9/50\n",
            "\u001b[1m1805/1805\u001b[0m \u001b[32m━━━━━━━━━━━━━━━━━━━━\u001b[0m\u001b[37m\u001b[0m \u001b[1m6s\u001b[0m 3ms/step - accuracy: 0.2723 - loss: 0.7826 - top_3_accuracy: 0.7720 - val_accuracy: 0.2630 - val_loss: 0.7836 - val_top_3_accuracy: 0.7699 - learning_rate: 0.0000e+00\n",
            "Epoch 10/50\n",
            "\u001b[1m1805/1805\u001b[0m \u001b[32m━━━━━━━━━━━━━━━━━━━━\u001b[0m\u001b[37m\u001b[0m \u001b[1m6s\u001b[0m 3ms/step - accuracy: 0.2732 - loss: 0.7823 - top_3_accuracy: 0.7723 - val_accuracy: 0.2628 - val_loss: 0.7836 - val_top_3_accuracy: 0.7699 - learning_rate: 0.0000e+00\n"
          ]
        }
      ]
    },
    {
      "cell_type": "code",
      "source": [
        "test_loss, test_acc, test_top3_acc = no_pca_model.evaluate(X_test_scaled, y_test_encoded)\n",
        "print(\"No PCA:\")\n",
        "print(\"Test Loss:\", round(test_loss, 4))\n",
        "print(\"Top-1 Accuracy:\", round(test_acc, 4))\n",
        "print(\"Top-3 Accuracy:\", round(test_top3_acc, 4))\n",
        "\n",
        "plt.plot(history.history['accuracy'], label='Train Accuracy')\n",
        "plt.plot(history.history['val_accuracy'], label='Val Accuracy')\n",
        "plt.xlabel(\"Epoch\")\n",
        "plt.ylabel(\"Accuracy\")\n",
        "plt.legend()\n",
        "plt.title(\"FNN Accuracy over Epochs (No PCA)\")\n",
        "plt.show()"
      ],
      "metadata": {
        "colab": {
          "base_uri": "https://localhost:8080/",
          "height": 559
        },
        "id": "fN7ZNQ_R15dm",
        "outputId": "471389a2-a473-483d-dcc2-8360ce23845e"
      },
      "execution_count": 27,
      "outputs": [
        {
          "output_type": "stream",
          "name": "stdout",
          "text": [
            "\u001b[1m1934/1934\u001b[0m \u001b[32m━━━━━━━━━━━━━━━━━━━━\u001b[0m\u001b[37m\u001b[0m \u001b[1m5s\u001b[0m 2ms/step - accuracy: 0.2656 - loss: 0.7883 - top_3_accuracy: 0.7686\n",
            "No PCA:\n",
            "Test Loss: 0.7885\n",
            "Top-1 Accuracy: 0.2636\n",
            "Top-3 Accuracy: 0.7674\n"
          ]
        },
        {
          "output_type": "display_data",
          "data": {
            "text/plain": [
              "<Figure size 640x480 with 1 Axes>"
            ],
            "image/png": "[encoded data removed]"
          },
          "metadata": {}
        }
      ]
    },
    {
      "cell_type": "code",
      "source": [
        "from sklearn.metrics import confusion_matrix, ConfusionMatrixDisplay\n",
        "y_pred_indices = np.argmax(no_pca_model.predict(X_test_scaled), axis=1)\n",
        "\n",
        "# Map those indices back to labels (if needed)\n",
        "index_to_label = ['frontal', 'left', 'right', 'vertical']\n",
        "y_pred_labels = [index_to_label[i] for i in y_pred_indices]\n",
        "\n",
        "print(classification_report(y_test, y_pred_labels, target_names=le.classes_))\n",
        "\n",
        "cm = confusion_matrix(y_test, y_pred_labels, labels=['frontal', 'left', 'right', 'vertical'])\n",
        "disp = ConfusionMatrixDisplay(confusion_matrix=cm, display_labels=['frontal', 'left', 'right', 'vertical'])\n",
        "disp.plot(cmap='Blues')"
      ],
      "metadata": {
        "colab": {
          "base_uri": "https://localhost:8080/",
          "height": 674
        },
        "id": "E05iOgV-7GSc",
        "outputId": "56dd3e04-d25b-41b4-cf23-5095de39de49"
      },
      "execution_count": 28,
      "outputs": [
        {
          "output_type": "stream",
          "name": "stdout",
          "text": [
            "\u001b[1m1934/1934\u001b[0m \u001b[32m━━━━━━━━━━━━━━━━━━━━\u001b[0m\u001b[37m\u001b[0m \u001b[1m3s\u001b[0m 2ms/step\n",
            "              precision    recall  f1-score   support\n",
            "\n",
            "     frontal       0.26      0.53      0.35     15424\n",
            "        left       0.25      0.18      0.21     15476\n",
            "       right       0.26      0.05      0.08     15586\n",
            "    vertical       0.28      0.30      0.29     15379\n",
            "\n",
            "    accuracy                           0.26     61865\n",
            "   macro avg       0.26      0.26      0.23     61865\n",
            "weighted avg       0.26      0.26      0.23     61865\n",
            "\n"
          ]
        },
        {
          "output_type": "execute_result",
          "data": {
            "text/plain": [
              "<sklearn.metrics._plot.confusion_matrix.ConfusionMatrixDisplay at 0x78926daeb210>"
            ]
          },
          "metadata": {},
          "execution_count": 28
        },
        {
          "output_type": "display_data",
          "data": {
            "text/plain": [
              "<Figure size 640x480 with 2 Axes>"
            ],
            "image/png": "[encoded data removed]"
          },
          "metadata": {}
        }
      ]
    },
    {
      "cell_type": "markdown",
      "source": [
        "#### With PCA (n_components = 50)"
      ],
      "metadata": {
        "id": "A_Qw8_0JYyux"
      }
    },
    {
      "cell_type": "code",
      "source": [
        "from sklearn.model_selection import KFold\n",
        "from tensorflow.keras import backend as K\n",
        "import warnings\n",
        "warnings.filterwarnings(\"ignore\", category=UserWarning)\n",
        "\n",
        "n_components_list = [20, 50, 100, 200, 300]\n",
        "mean_scores = []\n",
        "\n",
        "kf = KFold(n_splits=3, shuffle=True, random_state=42)\n",
        "\n",
        "for n in n_components_list:\n",
        "    print(f\"n_components = {n}\")\n",
        "    pca = PCA(n_components=n)\n",
        "    X_train_pca = pca.fit_transform(X_train_scaled)\n",
        "\n",
        "    fold_accuracies = []\n",
        "\n",
        "    for train_idx, val_idx in kf.split(X_train_pca, y_train_encoded):\n",
        "        X_tr, X_val = X_train_pca[train_idx], X_train_pca[val_idx]\n",
        "        y_tr, y_val = y_train_encoded[train_idx], y_train_encoded[val_idx]\n",
        "\n",
        "        model = ffn_model(input_dim=X_train_pca.shape[1], output_dim=4)\n",
        "        # Callbacks\n",
        "        callbacks = [\n",
        "            EarlyStopping(monitor='val_accuracy', mode='max', patience=6, restore_best_weights=True),\n",
        "            ReduceLROnPlateau(monitor='val_loss', factor=0.2, patience=3, min_lr=1e-6)\n",
        "        ]\n",
        "\n",
        "        # Class weights\n",
        "        class_weights = class_weight.compute_class_weight(\n",
        "            class_weight='balanced',\n",
        "            classes=np.unique(y_tr),\n",
        "            y=y_tr\n",
        "        )\n",
        "        class_weights_dict = dict(enumerate(class_weights))\n",
        "        model.fit(X_tr, y_tr, validation_data=(X_val, y_val),\n",
        "                  epochs=20, batch_size=32, verbose=0, callbacks=callbacks) # no output during training\n",
        "\n",
        "        _, acc, _ = model.evaluate(X_val, y_val, verbose=0)\n",
        "        fold_accuracies.append(acc)\n",
        "\n",
        "    avg_acc = np.mean(fold_accuracies)\n",
        "    mean_scores.append((n, avg_acc))\n",
        "    print(f'n_components={n}, Mean CV Accuracy={round(avg_acc, 4)}')\n",
        "    K.clear_session()\n",
        "\n",
        "# Best PCA size\n",
        "mean_scores.sort(key=lambda x: x[1], reverse=True)\n",
        "print(\"PCA component setting:\", mean_scores[0])"
      ],
      "metadata": {
        "colab": {
          "base_uri": "https://localhost:8080/"
        },
        "id": "xk3iNGl4YxsA",
        "outputId": "5c9708e1-e091-48d2-ca13-0f830be7e004"
      },
      "execution_count": 18,
      "outputs": [
        {
          "output_type": "stream",
          "name": "stdout",
          "text": [
            "n_components = 20\n",
            "n_components=20, Mean CV Accuracy=0.265\n",
            "n_components = 50\n",
            "n_components=50, Mean CV Accuracy=0.2661\n",
            "n_components = 100\n",
            "n_components=100, Mean CV Accuracy=0.2656\n",
            "n_components = 200\n",
            "n_components=200, Mean CV Accuracy=0.265\n",
            "n_components = 300\n",
            "n_components=300, Mean CV Accuracy=0.2648\n",
            "PCA component setting: (50, np.float64(0.2660667300224304))\n"
          ]
        }
      ]
    },
    {
      "cell_type": "code",
      "source": [
        "pca = PCA(n_components=50)\n",
        "X_train_pca = pca.fit_transform(X_train_scaled)\n",
        "X_test_pca = pca.transform(X_test_scaled)\n",
        "\n",
        "pca_model = ffn_model(input_dim=X_train_pca.shape[1], output_dim=4) # input_dim=50, output_dim=4\n",
        "history_pca = pca_model.fit(X_train_pca, y_train_encoded,\n",
        "                            validation_split=0.2,\n",
        "                            epochs=50,\n",
        "                            batch_size=64,\n",
        "                            callbacks=callbacks)\n",
        "\n",
        "test_loss, test_acc, test_top3_acc = pca_model.evaluate(X_test_pca, y_test_encoded)\n",
        "print(\"PCA (n-components=50):\")\n",
        "print(\"Test Loss:\", round(test_loss, 4))\n",
        "print(\"Top-1 Accuracy:\", round(test_acc, 4))\n",
        "print(\"Top-3 Accuracy:\", round(test_top3_acc, 4))\n",
        "\n",
        "plt.plot(history_pca.history['accuracy'], label='Train Accuracy')\n",
        "plt.plot(history_pca.history['val_accuracy'], label='Val Accuracy')\n",
        "plt.xlabel(\"Epoch\")\n",
        "plt.ylabel(\"Accuracy\")\n",
        "plt.legend()\n",
        "plt.title(\"FNN Accuracy over Epochs (PCA - n-components=50)\")\n",
        "plt.show()"
      ],
      "metadata": {
        "colab": {
          "base_uri": "https://localhost:8080/",
          "height": 940
        },
        "id": "DoxAJLQPaMIx",
        "outputId": "0675b61d-1d16-4593-fbc8-58c4b9d114f0"
      },
      "execution_count": 19,
      "outputs": [
        {
          "output_type": "stream",
          "name": "stdout",
          "text": [
            "Epoch 1/50\n",
            "\u001b[1m1805/1805\u001b[0m \u001b[32m━━━━━━━━━━━━━━━━━━━━\u001b[0m\u001b[37m\u001b[0m \u001b[1m16s\u001b[0m 6ms/step - accuracy: 0.2507 - loss: 0.9652 - top_3_accuracy: 0.7520 - val_accuracy: 0.2594 - val_loss: 0.8084 - val_top_3_accuracy: 0.7618 - learning_rate: 9.2174e-04\n",
            "Epoch 2/50\n",
            "\u001b[1m1805/1805\u001b[0m \u001b[32m━━━━━━━━━━━━━━━━━━━━\u001b[0m\u001b[37m\u001b[0m \u001b[1m6s\u001b[0m 3ms/step - accuracy: 0.2594 - loss: 0.8006 - top_3_accuracy: 0.7583 - val_accuracy: 0.2575 - val_loss: 0.7865 - val_top_3_accuracy: 0.7523 - learning_rate: 7.1147e-04\n",
            "Epoch 3/50\n",
            "\u001b[1m1805/1805\u001b[0m \u001b[32m━━━━━━━━━━━━━━━━━━━━\u001b[0m\u001b[37m\u001b[0m \u001b[1m6s\u001b[0m 3ms/step - accuracy: 0.2604 - loss: 0.7848 - top_3_accuracy: 0.7604 - val_accuracy: 0.2640 - val_loss: 0.7817 - val_top_3_accuracy: 0.7652 - learning_rate: 4.3500e-04\n",
            "Epoch 4/50\n",
            "\u001b[1m1805/1805\u001b[0m \u001b[32m━━━━━━━━━━━━━━━━━━━━\u001b[0m\u001b[37m\u001b[0m \u001b[1m6s\u001b[0m 3ms/step - accuracy: 0.2644 - loss: 0.7818 - top_3_accuracy: 0.7672 - val_accuracy: 0.2622 - val_loss: 0.7809 - val_top_3_accuracy: 0.7664 - learning_rate: 1.7887e-04\n",
            "Epoch 5/50\n",
            "\u001b[1m1805/1805\u001b[0m \u001b[32m━━━━━━━━━━━━━━━━━━━━\u001b[0m\u001b[37m\u001b[0m \u001b[1m6s\u001b[0m 3ms/step - accuracy: 0.2686 - loss: 0.7805 - top_3_accuracy: 0.7677 - val_accuracy: 0.2652 - val_loss: 0.7801 - val_top_3_accuracy: 0.7677 - learning_rate: 2.3273e-05\n",
            "Epoch 6/50\n",
            "\u001b[1m1805/1805\u001b[0m \u001b[32m━━━━━━━━━━━━━━━━━━━━\u001b[0m\u001b[37m\u001b[0m \u001b[1m6s\u001b[0m 3ms/step - accuracy: 0.2712 - loss: 0.7796 - top_3_accuracy: 0.7710 - val_accuracy: 0.2639 - val_loss: 0.7801 - val_top_3_accuracy: 0.7674 - learning_rate: 0.0000e+00\n",
            "Epoch 7/50\n",
            "\u001b[1m1805/1805\u001b[0m \u001b[32m━━━━━━━━━━━━━━━━━━━━\u001b[0m\u001b[37m\u001b[0m \u001b[1m6s\u001b[0m 3ms/step - accuracy: 0.2677 - loss: 0.7793 - top_3_accuracy: 0.7669 - val_accuracy: 0.2643 - val_loss: 0.7801 - val_top_3_accuracy: 0.7682 - learning_rate: 0.0000e+00\n",
            "Epoch 8/50\n",
            "\u001b[1m1805/1805\u001b[0m \u001b[32m━━━━━━━━━━━━━━━━━━━━\u001b[0m\u001b[37m\u001b[0m \u001b[1m6s\u001b[0m 3ms/step - accuracy: 0.2719 - loss: 0.7793 - top_3_accuracy: 0.7700 - val_accuracy: 0.2644 - val_loss: 0.7801 - val_top_3_accuracy: 0.7680 - learning_rate: 0.0000e+00\n",
            "Epoch 9/50\n",
            "\u001b[1m1805/1805\u001b[0m \u001b[32m━━━━━━━━━━━━━━━━━━━━\u001b[0m\u001b[37m\u001b[0m \u001b[1m6s\u001b[0m 3ms/step - accuracy: 0.2716 - loss: 0.7796 - top_3_accuracy: 0.7674 - val_accuracy: 0.2643 - val_loss: 0.7801 - val_top_3_accuracy: 0.7679 - learning_rate: 0.0000e+00\n",
            "Epoch 10/50\n",
            "\u001b[1m1805/1805\u001b[0m \u001b[32m━━━━━━━━━━━━━━━━━━━━\u001b[0m\u001b[37m\u001b[0m \u001b[1m6s\u001b[0m 3ms/step - accuracy: 0.2692 - loss: 0.7794 - top_3_accuracy: 0.7694 - val_accuracy: 0.2648 - val_loss: 0.7801 - val_top_3_accuracy: 0.7680 - learning_rate: 0.0000e+00\n",
            "Epoch 11/50\n",
            "\u001b[1m1805/1805\u001b[0m \u001b[32m━━━━━━━━━━━━━━━━━━━━\u001b[0m\u001b[37m\u001b[0m \u001b[1m6s\u001b[0m 3ms/step - accuracy: 0.2718 - loss: 0.7792 - top_3_accuracy: 0.7688 - val_accuracy: 0.2642 - val_loss: 0.7801 - val_top_3_accuracy: 0.7686 - learning_rate: 0.0000e+00\n",
            "\u001b[1m1934/1934\u001b[0m \u001b[32m━━━━━━━━━━━━━━━━━━━━\u001b[0m\u001b[37m\u001b[0m \u001b[1m5s\u001b[0m 2ms/step - accuracy: 0.2700 - loss: 0.7803 - top_3_accuracy: 0.7663\n",
            "PCA (n-components=50):\n",
            "Test Loss: 0.7805\n",
            "Top-1 Accuracy: 0.2679\n",
            "Top-3 Accuracy: 0.7664\n"
          ]
        },
        {
          "output_type": "display_data",
          "data": {
            "text/plain": [
              "<Figure size 640x480 with 1 Axes>"
            ],
            "image/png": "[encoded data removed]"
          },
          "metadata": {}
        }
      ]
    },
    {
      "cell_type": "code",
      "source": [
        "from sklearn.metrics import confusion_matrix, ConfusionMatrixDisplay\n",
        "y_pred_indices = np.argmax(pca_model.predict(X_test_pca), axis=1)\n",
        "\n",
        "# Map those indices back to labels (if needed)\n",
        "index_to_label = ['frontal', 'left', 'right', 'vertical']\n",
        "y_pred_labels = [index_to_label[i] for i in y_pred_indices]\n",
        "\n",
        "print(classification_report(y_test, y_pred_labels, target_names=le.classes_))\n",
        "\n",
        "cm = confusion_matrix(y_test, y_pred_labels, labels=['frontal', 'left', 'right', 'vertical'])\n",
        "disp = ConfusionMatrixDisplay(confusion_matrix=cm, display_labels=['frontal', 'left', 'right', 'vertical'])\n",
        "disp.plot(cmap='Blues')"
      ],
      "metadata": {
        "colab": {
          "base_uri": "https://localhost:8080/",
          "height": 674
        },
        "id": "yI6jSpilthDp",
        "outputId": "4961e12c-a038-49a7-c4e2-72b8aab86698"
      },
      "execution_count": 21,
      "outputs": [
        {
          "output_type": "stream",
          "name": "stdout",
          "text": [
            "\u001b[1m1934/1934\u001b[0m \u001b[32m━━━━━━━━━━━━━━━━━━━━\u001b[0m\u001b[37m\u001b[0m \u001b[1m3s\u001b[0m 1ms/step\n",
            "              precision    recall  f1-score   support\n",
            "\n",
            "     frontal       0.27      0.26      0.27     15424\n",
            "        left       0.26      0.38      0.31     15476\n",
            "       right       0.26      0.12      0.16     15586\n",
            "    vertical       0.28      0.31      0.30     15379\n",
            "\n",
            "    accuracy                           0.27     61865\n",
            "   macro avg       0.27      0.27      0.26     61865\n",
            "weighted avg       0.27      0.27      0.26     61865\n",
            "\n"
          ]
        },
        {
          "output_type": "execute_result",
          "data": {
            "text/plain": [
              "<sklearn.metrics._plot.confusion_matrix.ConfusionMatrixDisplay at 0x788ce07bc5d0>"
            ]
          },
          "metadata": {},
          "execution_count": 21
        },
        {
          "output_type": "display_data",
          "data": {
            "text/plain": [
              "<Figure size 640x480 with 2 Axes>"
            ],
            "image/png": "[encoded data removed]"
          },
          "metadata": {}
        }
      ]
    },
    {
      "cell_type": "markdown",
      "metadata": {
        "id": "NLDFsVTSvI7p"
      },
      "source": [
        "# you may add some code here to show how the model works in principle"
      ]
    },
    {
      "cell_type": "markdown",
      "metadata": {
        "id": "GsV1QBVBvI7q"
      },
      "source": [
        "## Results"
      ]
    },
    {
      "cell_type": "markdown",
      "metadata": {
        "id": "vYpruXuUvI7s"
      },
      "source": [
        "_(What did you find when you carried out your methods? Some of your code related to\n",
        "presenting results/figures/data may be replicated from the methods section or may only be present in\n",
        "this section. All of the plots that you plan on using for your presentation should be present in this\n",
        "section)_"
      ]
    },
    {
      "cell_type": "markdown",
      "metadata": {
        "id": "tGykWTP_vI7y"
      },
      "source": [
        "### classification results\n",
        "_(What are you trying to do here?)_"
      ]
    },
    {
      "cell_type": "code",
      "execution_count": null,
      "metadata": {
        "id": "4SP_nT-qvI7z"
      },
      "outputs": [],
      "source": [
        "# how did you do it"
      ]
    },
    {
      "cell_type": "markdown",
      "metadata": {
        "id": "NQtd_FwtvI7z"
      },
      "source": [
        "_(How do you interpret what you see?)_\n",
        "\n",
        "_(What are you doing next?)_"
      ]
    },
    {
      "cell_type": "code",
      "execution_count": null,
      "metadata": {
        "id": "6FuAG1StvI7z"
      },
      "outputs": [],
      "source": [
        "# how did you do it (etc. etc.)"
      ]
    },
    {
      "cell_type": "markdown",
      "metadata": {
        "id": "8fmLBLAIvI70"
      },
      "source": [
        "_(How do you interpret what you see?)_\n",
        "\n",
        "_(What are you doing next?)_"
      ]
    },
    {
      "cell_type": "code",
      "execution_count": null,
      "metadata": {
        "id": "2750seFFvI70"
      },
      "outputs": [],
      "source": [
        "# how did you do it (etc. etc.)"
      ]
    },
    {
      "cell_type": "markdown",
      "metadata": {
        "id": "TnNvclRrvI72"
      },
      "source": [
        "### other results\n",
        "_(What are you trying to do here?)_"
      ]
    },
    {
      "cell_type": "code",
      "execution_count": null,
      "metadata": {
        "id": "T_gsykK0vI72",
        "outputId": "f9244206-e1d2-4f26-8be9-0922a2e487b3"
      },
      "outputs": [
        {
          "data": {
            "image/png": "[encoded data removed]",
            "text/plain": [
              "<Figure size 640x480 with 1 Axes>"
            ]
          },
          "metadata": {},
          "output_type": "display_data"
        }
      ],
      "source": [
        "# If your code above works, below you'll get a plot of the different choices of m\n",
        "colors = ['orange','blue','green']\n",
        "labels = ['sqrt(p)', 'p/2', 'p']\n",
        "\n",
        "for i in range(3):\n",
        "    M_error = Errors[i]\n",
        "    plt.plot(n_tree_list, M_error, label = labels[i], color = colors[i])\n",
        "\n",
        "plt.legend()\n",
        "plt.title('Error in random forest for different values of max features')\n",
        "plt.xlabel(\"n_estimators\")\n",
        "plt.ylabel(\"Error\")\n",
        "plt.show()"
      ]
    },
    {
      "cell_type": "markdown",
      "metadata": {
        "id": "40ba-9nkvI75"
      },
      "source": [
        "_(How do you interpret what you see?)_\n",
        "\n",
        "_(What are you doing next?)_"
      ]
    },
    {
      "cell_type": "code",
      "execution_count": null,
      "metadata": {
        "id": "-1QB0JOXvI76"
      },
      "outputs": [],
      "source": [
        "# how did you do it (etc. etc.)"
      ]
    },
    {
      "cell_type": "markdown",
      "metadata": {
        "id": "2hSCKBUTvI8F"
      },
      "source": [
        "## Discussion and Conclusion"
      ]
    },
    {
      "cell_type": "markdown",
      "metadata": {
        "id": "6D6_AAXWvI8G"
      },
      "source": [
        "_(What did you learn from your results? What obstacles did you run into? What would you do differently next time? Clearly provide quantitative answers to your question(s)?  At least one of your questions should be answered with numbers.  That is, it is not sufficient to answer \"yes\" or \"no\", but rather to say something quantitative such as variable 1 increased roughly 10% for every 1 year increase in variable 2.)_"
      ]
    },
    {
      "cell_type": "markdown",
      "metadata": {
        "id": "MdZSUgt6vI8G"
      },
      "source": [
        "### discussion on the classification results"
      ]
    },
    {
      "cell_type": "markdown",
      "metadata": {
        "id": "oY_Bia8XvI8I"
      },
      "source": [
        "### discussion on the regression results"
      ]
    },
    {
      "cell_type": "markdown",
      "metadata": {
        "id": "WW79d7tkvI8J"
      },
      "source": [
        "### discussion on the other results"
      ]
    },
    {
      "cell_type": "markdown",
      "metadata": {
        "id": "ulKO_KxKvI8L"
      },
      "source": [
        "### conclusion and future steps"
      ]
    },
    {
      "cell_type": "markdown",
      "metadata": {
        "id": "koYgE18vvI8M"
      },
      "source": [
        "## Author contribution\n",
        "\n",
        "_(Please describe the contribution of each member of group)._"
      ]
    },
    {
      "cell_type": "markdown",
      "metadata": {
        "id": "VuJrIrKTvI8N"
      },
      "source": [
        "## References"
      ]
    },
    {
      "cell_type": "markdown",
      "metadata": {
        "id": "3ulozYkWvI8N"
      },
      "source": [
        "_(List the source(s) for any data and/or literature cited in your project.  Ideally, this should be formatted using a formal citation format (MLA or APA or other, your choice!).   Multiple free online citation generators are available such as <a href=\"http://www.easybib.com/style\">http://www.easybib.com/style</a>. **Important:** if you use **any** code that you find on the internet for your project you **must** cite it or you risk losing most/all of the points for you project.)_"
      ]
    }
  ],
  "metadata": {
    "kernelspec": {
      "display_name": "Python 3",
      "name": "python3"
    },
    "language_info": {
      "codemirror_mode": {
        "name": "ipython",
        "version": 3
      },
      "file_extension": ".py",
      "mimetype": "text/x-python",
      "name": "python",
      "nbconvert_exporter": "python",
      "pygments_lexer": "ipython3",
      "version": "3.11.5"
    },
    "colab": {
      "provenance": [],
      "machine_shape": "hm",
      "gpuType": "L4",
      "include_colab_link": true
    },
    "accelerator": "GPU"
  },
  "nbformat": 4,
  "nbformat_minor": 0
}