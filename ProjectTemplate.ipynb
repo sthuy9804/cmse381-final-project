{
  "cells": [
    {
      "cell_type": "markdown",
      "metadata": {
        "id": "view-in-github",
        "colab_type": "text"
      },
      "source": [
        "<a href=\"https://colab.research.google.com/github/sthuy9804/cmse381-final-project/blob/main/ProjectTemplate.ipynb\" target=\"_parent\"><img src=\"https://colab.research.google.com/assets/colab-badge.svg\" alt=\"Open In Colab\"/></a>"
      ]
    },
    {
      "cell_type": "markdown",
      "metadata": {
        "id": "ML6kL8_MvI6k"
      },
      "source": [
        "# CMSE 381 Final Project Template"
      ]
    },
    {
      "cell_type": "markdown",
      "metadata": {
        "id": "i1Z15x26vI64"
      },
      "source": [
        "**INSTRUCTIONS**: This is a template to help organize your project.  All projects should include the 5 major sections below (you do not need to use this template file).  If you use this file, complete your work below and remove content in parentheses. Also, remove this current cell.  \n",
        "\n",
        "**Sarah***: Work on filling out project template as much as possible, Confusion Matrix per question 3\n",
        "**Thuy***: Split the files into X and Y, work on the SVM model per question 4\n",
        "SELF DUE DATE: APRIL 7TH, meet in person, in wells hall\n",
        "\n",
        "Both: Work on K-Fold and subset selection per question 5"
      ]
    },
    {
      "cell_type": "markdown",
      "metadata": {
        "id": "vKfBbqPCvI68"
      },
      "source": [
        "#### CMSE 381 Final Project\n",
        "### &#9989; Group members: Sarah Horan, Thuy Nguyen\n",
        "### &#9989; Section_001\n",
        "#### &#9989; 3/31/25"
      ]
    },
    {
      "cell_type": "markdown",
      "metadata": {
        "id": "oeIWlUG5vI6-"
      },
      "source": [
        "# ___PREDICTING FACE ORIETATION___"
      ]
    },
    {
      "cell_type": "markdown",
      "metadata": {
        "id": "DzmGiQyCvI7A"
      },
      "source": [
        "## Background and Motivation"
      ]
    },
    {
      "cell_type": "markdown",
      "metadata": {
        "id": "IVuVYLRrvI7B"
      },
      "source": [
        "How does the brain recognize not just who we’re looking at, but how they’re positioned in space? This question lies at the intersection of neuroscience and data science. In this project, we investigate how neurons in the anterior medial (AM) face patch of a macaque monkey respond when the animal views faces from different orientations. This brain region is known to be selective for facial features, and here we test whether its activity can reveal not just the presence of a face, but the **direction it's facing**.\n",
        "\n",
        "The dataset we’re using comes from a study where a monkey passively viewed face images from 25 individuals, each shown in 8 different head orientations. For each image, researchers recorded binary neural spike data across a short time window (0–400 ms) following the image onset.\n",
        "\n",
        "Our main goal is to explore whether we can **predict the orientation of a viewed face**—such as frontal, profile, or turned head—based on this neural activity alone. This is a classic example of a **neural decoding** task, where machine learning models are trained to extract meaning from complex biological signals.\n",
        "\n",
        "Specifically, we aim to answer:\n",
        "- **Can we classify face orientation based on patterns in neural spike data?**\n",
        "\n",
        "By addressing these questions, we hope to gain insight into how the brain encodes spatial information about faces—and demonstrate how data science tools can uncover patterns in neural data that may not be obvious at first glance.\n"
      ]
    },
    {
      "cell_type": "markdown",
      "metadata": {
        "id": "yAtFyCK9vI7D"
      },
      "source": [
        "## Methodology\n",
        "_(How did you go about answering your question(s)? You should wrote some code here to demonstrate what the data is like and how in principle your method works. You can leave the variations of the related to specific results to the results section.)_"
      ]
    },
    {
      "cell_type": "code",
      "execution_count": 1,
      "metadata": {
        "id": "6r3T98wXvI7F"
      },
      "outputs": [],
      "source": [
        "import pandas as pd\n",
        "import numpy as np\n",
        "import glob\n",
        "import zipfile\n",
        "import io\n",
        "import matplotlib.pyplot as plt\n",
        "%matplotlib inline\n",
        "import time\n",
        "import seaborn as sns\n",
        "from scipy.stats import uniform\n",
        "\n",
        "# ML imports we've used previously\n",
        "from sklearn.model_selection import train_test_split\n",
        "from sklearn.model_selection import cross_val_score\n",
        "from sklearn.preprocessing import StandardScaler, LabelEncoder\n",
        "from sklearn.decomposition import PCA\n",
        "\n",
        "from sklearn.linear_model import LogisticRegression\n",
        "from sklearn.model_selection import train_test_split, cross_val_score\n",
        "from sklearn.metrics import accuracy_score, confusion_matrix, classification_report, ConfusionMatrixDisplay\n",
        "\n",
        "import torch\n",
        "import torch.nn as nn\n",
        "import torch.nn.functional as F\n",
        "import torch.optim as optim\n",
        "from torch.utils.data import DataLoader, TensorDataset, random_split\n",
        "import matplotlib.pyplot as plt\n",
        "import numpy as np"
      ]
    },
    {
      "cell_type": "code",
      "source": [
        "from google.colab import drive\n",
        "drive.mount('/content/drive')"
      ],
      "metadata": {
        "colab": {
          "base_uri": "https://localhost:8080/"
        },
        "id": "_Htz9OXSvwRf",
        "outputId": "baadd8f2-1a7e-429c-a1ed-54a2c048a22d"
      },
      "execution_count": 2,
      "outputs": [
        {
          "output_type": "stream",
          "name": "stdout",
          "text": [
            "Mounted at /content/drive\n"
          ]
        }
      ]
    },
    {
      "cell_type": "code",
      "source": [
        "!pip install PyWavelets\n",
        "!pip install focal-loss"
      ],
      "metadata": {
        "colab": {
          "base_uri": "https://localhost:8080/"
        },
        "id": "ogCh4W3gLUE6",
        "outputId": "d04acf78-f991-40cf-a418-22bda7bed52d"
      },
      "execution_count": 3,
      "outputs": [
        {
          "output_type": "stream",
          "name": "stdout",
          "text": [
            "Collecting PyWavelets\n",
            "  Downloading pywavelets-1.8.0-cp311-cp311-manylinux_2_17_x86_64.manylinux2014_x86_64.whl.metadata (9.0 kB)\n",
            "Requirement already satisfied: numpy<3,>=1.23 in /usr/local/lib/python3.11/dist-packages (from PyWavelets) (2.0.2)\n",
            "Downloading pywavelets-1.8.0-cp311-cp311-manylinux_2_17_x86_64.manylinux2014_x86_64.whl (4.5 MB)\n",
            "\u001b[?25l   \u001b[90m━━━━━━━━━━━━━━━━━━━━━━━━━━━━━━━━━━━━━━━━\u001b[0m \u001b[32m0.0/4.5 MB\u001b[0m \u001b[31m?\u001b[0m eta \u001b[36m-:--:--\u001b[0m\r\u001b[2K   \u001b[91m━━━━━━━━━━━━━━━━━━━━━━━━━━━━━━━━━━━━━━━\u001b[0m\u001b[91m╸\u001b[0m \u001b[32m4.5/4.5 MB\u001b[0m \u001b[31m171.3 MB/s\u001b[0m eta \u001b[36m0:00:01\u001b[0m\r\u001b[2K   \u001b[90m━━━━━━━━━━━━━━━━━━━━━━━━━━━━━━━━━━━━━━━━\u001b[0m \u001b[32m4.5/4.5 MB\u001b[0m \u001b[31m94.1 MB/s\u001b[0m eta \u001b[36m0:00:00\u001b[0m\n",
            "\u001b[?25hInstalling collected packages: PyWavelets\n",
            "Successfully installed PyWavelets-1.8.0\n",
            "Collecting focal-loss\n",
            "  Downloading focal_loss-0.0.7-py3-none-any.whl.metadata (5.1 kB)\n",
            "Requirement already satisfied: tensorflow>=2.2 in /usr/local/lib/python3.11/dist-packages (from focal-loss) (2.18.0)\n",
            "Requirement already satisfied: absl-py>=1.0.0 in /usr/local/lib/python3.11/dist-packages (from tensorflow>=2.2->focal-loss) (1.4.0)\n",
            "Requirement already satisfied: astunparse>=1.6.0 in /usr/local/lib/python3.11/dist-packages (from tensorflow>=2.2->focal-loss) (1.6.3)\n",
            "Requirement already satisfied: flatbuffers>=24.3.25 in /usr/local/lib/python3.11/dist-packages (from tensorflow>=2.2->focal-loss) (25.2.10)\n",
            "Requirement already satisfied: gast!=0.5.0,!=0.5.1,!=0.5.2,>=0.2.1 in /usr/local/lib/python3.11/dist-packages (from tensorflow>=2.2->focal-loss) (0.6.0)\n",
            "Requirement already satisfied: google-pasta>=0.1.1 in /usr/local/lib/python3.11/dist-packages (from tensorflow>=2.2->focal-loss) (0.2.0)\n",
            "Requirement already satisfied: libclang>=13.0.0 in /usr/local/lib/python3.11/dist-packages (from tensorflow>=2.2->focal-loss) (18.1.1)\n",
            "Requirement already satisfied: opt-einsum>=2.3.2 in /usr/local/lib/python3.11/dist-packages (from tensorflow>=2.2->focal-loss) (3.4.0)\n",
            "Requirement already satisfied: packaging in /usr/local/lib/python3.11/dist-packages (from tensorflow>=2.2->focal-loss) (24.2)\n",
            "Requirement already satisfied: protobuf!=4.21.0,!=4.21.1,!=4.21.2,!=4.21.3,!=4.21.4,!=4.21.5,<6.0.0dev,>=3.20.3 in /usr/local/lib/python3.11/dist-packages (from tensorflow>=2.2->focal-loss) (5.29.4)\n",
            "Requirement already satisfied: requests<3,>=2.21.0 in /usr/local/lib/python3.11/dist-packages (from tensorflow>=2.2->focal-loss) (2.32.3)\n",
            "Requirement already satisfied: setuptools in /usr/local/lib/python3.11/dist-packages (from tensorflow>=2.2->focal-loss) (75.2.0)\n",
            "Requirement already satisfied: six>=1.12.0 in /usr/local/lib/python3.11/dist-packages (from tensorflow>=2.2->focal-loss) (1.17.0)\n",
            "Requirement already satisfied: termcolor>=1.1.0 in /usr/local/lib/python3.11/dist-packages (from tensorflow>=2.2->focal-loss) (3.0.1)\n",
            "Requirement already satisfied: typing-extensions>=3.6.6 in /usr/local/lib/python3.11/dist-packages (from tensorflow>=2.2->focal-loss) (4.13.1)\n",
            "Requirement already satisfied: wrapt>=1.11.0 in /usr/local/lib/python3.11/dist-packages (from tensorflow>=2.2->focal-loss) (1.17.2)\n",
            "Requirement already satisfied: grpcio<2.0,>=1.24.3 in /usr/local/lib/python3.11/dist-packages (from tensorflow>=2.2->focal-loss) (1.71.0)\n",
            "Requirement already satisfied: tensorboard<2.19,>=2.18 in /usr/local/lib/python3.11/dist-packages (from tensorflow>=2.2->focal-loss) (2.18.0)\n",
            "Requirement already satisfied: keras>=3.5.0 in /usr/local/lib/python3.11/dist-packages (from tensorflow>=2.2->focal-loss) (3.8.0)\n",
            "Requirement already satisfied: numpy<2.1.0,>=1.26.0 in /usr/local/lib/python3.11/dist-packages (from tensorflow>=2.2->focal-loss) (2.0.2)\n",
            "Requirement already satisfied: h5py>=3.11.0 in /usr/local/lib/python3.11/dist-packages (from tensorflow>=2.2->focal-loss) (3.13.0)\n",
            "Requirement already satisfied: ml-dtypes<0.5.0,>=0.4.0 in /usr/local/lib/python3.11/dist-packages (from tensorflow>=2.2->focal-loss) (0.4.1)\n",
            "Requirement already satisfied: tensorflow-io-gcs-filesystem>=0.23.1 in /usr/local/lib/python3.11/dist-packages (from tensorflow>=2.2->focal-loss) (0.37.1)\n",
            "Requirement already satisfied: wheel<1.0,>=0.23.0 in /usr/local/lib/python3.11/dist-packages (from astunparse>=1.6.0->tensorflow>=2.2->focal-loss) (0.45.1)\n",
            "Requirement already satisfied: rich in /usr/local/lib/python3.11/dist-packages (from keras>=3.5.0->tensorflow>=2.2->focal-loss) (13.9.4)\n",
            "Requirement already satisfied: namex in /usr/local/lib/python3.11/dist-packages (from keras>=3.5.0->tensorflow>=2.2->focal-loss) (0.0.8)\n",
            "Requirement already satisfied: optree in /usr/local/lib/python3.11/dist-packages (from keras>=3.5.0->tensorflow>=2.2->focal-loss) (0.14.1)\n",
            "Requirement already satisfied: charset-normalizer<4,>=2 in /usr/local/lib/python3.11/dist-packages (from requests<3,>=2.21.0->tensorflow>=2.2->focal-loss) (3.4.1)\n",
            "Requirement already satisfied: idna<4,>=2.5 in /usr/local/lib/python3.11/dist-packages (from requests<3,>=2.21.0->tensorflow>=2.2->focal-loss) (3.10)\n",
            "Requirement already satisfied: urllib3<3,>=1.21.1 in /usr/local/lib/python3.11/dist-packages (from requests<3,>=2.21.0->tensorflow>=2.2->focal-loss) (2.3.0)\n",
            "Requirement already satisfied: certifi>=2017.4.17 in /usr/local/lib/python3.11/dist-packages (from requests<3,>=2.21.0->tensorflow>=2.2->focal-loss) (2025.1.31)\n",
            "Requirement already satisfied: markdown>=2.6.8 in /usr/local/lib/python3.11/dist-packages (from tensorboard<2.19,>=2.18->tensorflow>=2.2->focal-loss) (3.7)\n",
            "Requirement already satisfied: tensorboard-data-server<0.8.0,>=0.7.0 in /usr/local/lib/python3.11/dist-packages (from tensorboard<2.19,>=2.18->tensorflow>=2.2->focal-loss) (0.7.2)\n",
            "Requirement already satisfied: werkzeug>=1.0.1 in /usr/local/lib/python3.11/dist-packages (from tensorboard<2.19,>=2.18->tensorflow>=2.2->focal-loss) (3.1.3)\n",
            "Requirement already satisfied: MarkupSafe>=2.1.1 in /usr/local/lib/python3.11/dist-packages (from werkzeug>=1.0.1->tensorboard<2.19,>=2.18->tensorflow>=2.2->focal-loss) (3.0.2)\n",
            "Requirement already satisfied: markdown-it-py>=2.2.0 in /usr/local/lib/python3.11/dist-packages (from rich->keras>=3.5.0->tensorflow>=2.2->focal-loss) (3.0.0)\n",
            "Requirement already satisfied: pygments<3.0.0,>=2.13.0 in /usr/local/lib/python3.11/dist-packages (from rich->keras>=3.5.0->tensorflow>=2.2->focal-loss) (2.18.0)\n",
            "Requirement already satisfied: mdurl~=0.1 in /usr/local/lib/python3.11/dist-packages (from markdown-it-py>=2.2.0->rich->keras>=3.5.0->tensorflow>=2.2->focal-loss) (0.1.2)\n",
            "Downloading focal_loss-0.0.7-py3-none-any.whl (19 kB)\n",
            "Installing collected packages: focal-loss\n",
            "Successfully installed focal-loss-0.0.7\n"
          ]
        }
      ]
    },
    {
      "cell_type": "markdown",
      "metadata": {
        "vscode": {
          "languageId": "plaintext"
        },
        "id": "M_pmbr0svI7K"
      },
      "source": [
        "### Data\n",
        "* Describe the data you are using\n",
        "* What variables are you using?: time spike data\n",
        "    * What they mean?: the spike of AM when a part of the face showed up\n",
        "    * Why did you choose them?: want to predict the orientation of the face. Each face reacts differently (need citation)"
      ]
    },
    {
      "cell_type": "code",
      "execution_count": 4,
      "metadata": {
        "id": "QZ46lmV5vI7M"
      },
      "outputs": [],
      "source": [
        "zip_path = '/content/drive/MyDrive/Colab_Notebooks/Sec001_Freiwald_Tsao_faceviews_AM_data_csv.zip'\n",
        "\n",
        "X = []\n",
        "y = []\n",
        "with zipfile.ZipFile(zip_path, 'r') as zip_file:\n",
        "    csv_files = [f for f in zip_file.namelist() if f.endswith('.csv')]\n",
        "    spike_data = []\n",
        "    label_ref = []\n",
        "    for csv in csv_files:\n",
        "        with zip_file.open(csv) as file:\n",
        "            df = pd.read_csv(file)\n",
        "            spike_cols = [col for col in df.columns if col.startswith('time')]\n",
        "            spike_data.append(df[spike_cols])\n",
        "            label_ref.append(df[['labels.orientation']])\n",
        "X = pd.concat(spike_data)\n",
        "y = pd.concat(label_ref)"
      ]
    },
    {
      "cell_type": "code",
      "source": [
        "# drop NaN rows in X and reset index\n",
        "X = X.dropna().reset_index(drop=True)\n",
        "y = y.reset_index(drop=True)\n",
        "y = y.values.ravel()  # convert y to 1D array (y is currently a df)"
      ],
      "metadata": {
        "id": "uQlq0I7CzGbk"
      },
      "execution_count": 5,
      "outputs": []
    },
    {
      "cell_type": "code",
      "execution_count": 6,
      "metadata": {
        "id": "FUxVyGK5vI7O",
        "outputId": "fbbaa8fb-ed76-4559-b7e1-c09334b719fb",
        "colab": {
          "base_uri": "https://localhost:8080/",
          "height": 461
        }
      },
      "outputs": [
        {
          "output_type": "stream",
          "name": "stdout",
          "text": [
            "(206216, 800)\n"
          ]
        },
        {
          "output_type": "execute_result",
          "data": {
            "text/plain": [
              "        time.1_2  time.2_3  time.3_4  time.4_5  time.5_6  time.6_7  time.7_8  \\\n",
              "0              0         0         0         0         0         0         0   \n",
              "1              0         0         0         0         0         0         0   \n",
              "2              0         0         0         0         0         0         0   \n",
              "3              0         0         0         0         0         0         0   \n",
              "4              0         1         0         0         0         0         0   \n",
              "...          ...       ...       ...       ...       ...       ...       ...   \n",
              "206211         0         0         0         0         0         0         0   \n",
              "206212         0         0         0         0         0         0         0   \n",
              "206213         0         0         0         0         0         1         0   \n",
              "206214         0         0         0         0         0         0         0   \n",
              "206215         0         0         0         0         0         0         0   \n",
              "\n",
              "        time.8_9  time.9_10  time.10_11  ...  time.791_792  time.792_793  \\\n",
              "0              0          0           0  ...             0             0   \n",
              "1              1          0           0  ...             0             0   \n",
              "2              0          0           0  ...             0             0   \n",
              "3              0          0           0  ...             0             0   \n",
              "4              0          0           0  ...             0             0   \n",
              "...          ...        ...         ...  ...           ...           ...   \n",
              "206211         0          0           0  ...             0             0   \n",
              "206212         0          0           0  ...             0             0   \n",
              "206213         0          0           0  ...             0             0   \n",
              "206214         0          0           0  ...             0             0   \n",
              "206215         0          0           0  ...             0             0   \n",
              "\n",
              "        time.793_794  time.794_795  time.795_796  time.796_797  time.797_798  \\\n",
              "0                  0             0             0             0             0   \n",
              "1                  0             0             0             0             0   \n",
              "2                  0             0             0             0             0   \n",
              "3                  0             0             0             0             0   \n",
              "4                  0             0             0             0             0   \n",
              "...              ...           ...           ...           ...           ...   \n",
              "206211             0             0             0             0             0   \n",
              "206212             0             0             0             0             0   \n",
              "206213             0             0             0             0             0   \n",
              "206214             0             0             0             0             0   \n",
              "206215             0             0             0             0             0   \n",
              "\n",
              "        time.798_799  time.799_800  time.800_801  \n",
              "0                  0             1             0  \n",
              "1                  0             0             0  \n",
              "2                  0             0             0  \n",
              "3                  0             0             0  \n",
              "4                  0             0             0  \n",
              "...              ...           ...           ...  \n",
              "206211             0             0             0  \n",
              "206212             0             0             0  \n",
              "206213             0             0             0  \n",
              "206214             0             0             0  \n",
              "206215             0             0             0  \n",
              "\n",
              "[206216 rows x 800 columns]"
            ],
            "text/html": [
              "\n",
              "  <div id=\"df-ae81db8b-2a92-4260-9ff4-eb707ce5f0c1\" class=\"colab-df-container\">\n",
              "    <div>\n",
              "<style scoped>\n",
              "    .dataframe tbody tr th:only-of-type {\n",
              "        vertical-align: middle;\n",
              "    }\n",
              "\n",
              "    .dataframe tbody tr th {\n",
              "        vertical-align: top;\n",
              "    }\n",
              "\n",
              "    .dataframe thead th {\n",
              "        text-align: right;\n",
              "    }\n",
              "</style>\n",
              "<table border=\"1\" class=\"dataframe\">\n",
              "  <thead>\n",
              "    <tr style=\"text-align: right;\">\n",
              "      <th></th>\n",
              "      <th>time.1_2</th>\n",
              "      <th>time.2_3</th>\n",
              "      <th>time.3_4</th>\n",
              "      <th>time.4_5</th>\n",
              "      <th>time.5_6</th>\n",
              "      <th>time.6_7</th>\n",
              "      <th>time.7_8</th>\n",
              "      <th>time.8_9</th>\n",
              "      <th>time.9_10</th>\n",
              "      <th>time.10_11</th>\n",
              "      <th>...</th>\n",
              "      <th>time.791_792</th>\n",
              "      <th>time.792_793</th>\n",
              "      <th>time.793_794</th>\n",
              "      <th>time.794_795</th>\n",
              "      <th>time.795_796</th>\n",
              "      <th>time.796_797</th>\n",
              "      <th>time.797_798</th>\n",
              "      <th>time.798_799</th>\n",
              "      <th>time.799_800</th>\n",
              "      <th>time.800_801</th>\n",
              "    </tr>\n",
              "  </thead>\n",
              "  <tbody>\n",
              "    <tr>\n",
              "      <th>0</th>\n",
              "      <td>0</td>\n",
              "      <td>0</td>\n",
              "      <td>0</td>\n",
              "      <td>0</td>\n",
              "      <td>0</td>\n",
              "      <td>0</td>\n",
              "      <td>0</td>\n",
              "      <td>0</td>\n",
              "      <td>0</td>\n",
              "      <td>0</td>\n",
              "      <td>...</td>\n",
              "      <td>0</td>\n",
              "      <td>0</td>\n",
              "      <td>0</td>\n",
              "      <td>0</td>\n",
              "      <td>0</td>\n",
              "      <td>0</td>\n",
              "      <td>0</td>\n",
              "      <td>0</td>\n",
              "      <td>1</td>\n",
              "      <td>0</td>\n",
              "    </tr>\n",
              "    <tr>\n",
              "      <th>1</th>\n",
              "      <td>0</td>\n",
              "      <td>0</td>\n",
              "      <td>0</td>\n",
              "      <td>0</td>\n",
              "      <td>0</td>\n",
              "      <td>0</td>\n",
              "      <td>0</td>\n",
              "      <td>1</td>\n",
              "      <td>0</td>\n",
              "      <td>0</td>\n",
              "      <td>...</td>\n",
              "      <td>0</td>\n",
              "      <td>0</td>\n",
              "      <td>0</td>\n",
              "      <td>0</td>\n",
              "      <td>0</td>\n",
              "      <td>0</td>\n",
              "      <td>0</td>\n",
              "      <td>0</td>\n",
              "      <td>0</td>\n",
              "      <td>0</td>\n",
              "    </tr>\n",
              "    <tr>\n",
              "      <th>2</th>\n",
              "      <td>0</td>\n",
              "      <td>0</td>\n",
              "      <td>0</td>\n",
              "      <td>0</td>\n",
              "      <td>0</td>\n",
              "      <td>0</td>\n",
              "      <td>0</td>\n",
              "      <td>0</td>\n",
              "      <td>0</td>\n",
              "      <td>0</td>\n",
              "      <td>...</td>\n",
              "      <td>0</td>\n",
              "      <td>0</td>\n",
              "      <td>0</td>\n",
              "      <td>0</td>\n",
              "      <td>0</td>\n",
              "      <td>0</td>\n",
              "      <td>0</td>\n",
              "      <td>0</td>\n",
              "      <td>0</td>\n",
              "      <td>0</td>\n",
              "    </tr>\n",
              "    <tr>\n",
              "      <th>3</th>\n",
              "      <td>0</td>\n",
              "      <td>0</td>\n",
              "      <td>0</td>\n",
              "      <td>0</td>\n",
              "      <td>0</td>\n",
              "      <td>0</td>\n",
              "      <td>0</td>\n",
              "      <td>0</td>\n",
              "      <td>0</td>\n",
              "      <td>0</td>\n",
              "      <td>...</td>\n",
              "      <td>0</td>\n",
              "      <td>0</td>\n",
              "      <td>0</td>\n",
              "      <td>0</td>\n",
              "      <td>0</td>\n",
              "      <td>0</td>\n",
              "      <td>0</td>\n",
              "      <td>0</td>\n",
              "      <td>0</td>\n",
              "      <td>0</td>\n",
              "    </tr>\n",
              "    <tr>\n",
              "      <th>4</th>\n",
              "      <td>0</td>\n",
              "      <td>1</td>\n",
              "      <td>0</td>\n",
              "      <td>0</td>\n",
              "      <td>0</td>\n",
              "      <td>0</td>\n",
              "      <td>0</td>\n",
              "      <td>0</td>\n",
              "      <td>0</td>\n",
              "      <td>0</td>\n",
              "      <td>...</td>\n",
              "      <td>0</td>\n",
              "      <td>0</td>\n",
              "      <td>0</td>\n",
              "      <td>0</td>\n",
              "      <td>0</td>\n",
              "      <td>0</td>\n",
              "      <td>0</td>\n",
              "      <td>0</td>\n",
              "      <td>0</td>\n",
              "      <td>0</td>\n",
              "    </tr>\n",
              "    <tr>\n",
              "      <th>...</th>\n",
              "      <td>...</td>\n",
              "      <td>...</td>\n",
              "      <td>...</td>\n",
              "      <td>...</td>\n",
              "      <td>...</td>\n",
              "      <td>...</td>\n",
              "      <td>...</td>\n",
              "      <td>...</td>\n",
              "      <td>...</td>\n",
              "      <td>...</td>\n",
              "      <td>...</td>\n",
              "      <td>...</td>\n",
              "      <td>...</td>\n",
              "      <td>...</td>\n",
              "      <td>...</td>\n",
              "      <td>...</td>\n",
              "      <td>...</td>\n",
              "      <td>...</td>\n",
              "      <td>...</td>\n",
              "      <td>...</td>\n",
              "      <td>...</td>\n",
              "    </tr>\n",
              "    <tr>\n",
              "      <th>206211</th>\n",
              "      <td>0</td>\n",
              "      <td>0</td>\n",
              "      <td>0</td>\n",
              "      <td>0</td>\n",
              "      <td>0</td>\n",
              "      <td>0</td>\n",
              "      <td>0</td>\n",
              "      <td>0</td>\n",
              "      <td>0</td>\n",
              "      <td>0</td>\n",
              "      <td>...</td>\n",
              "      <td>0</td>\n",
              "      <td>0</td>\n",
              "      <td>0</td>\n",
              "      <td>0</td>\n",
              "      <td>0</td>\n",
              "      <td>0</td>\n",
              "      <td>0</td>\n",
              "      <td>0</td>\n",
              "      <td>0</td>\n",
              "      <td>0</td>\n",
              "    </tr>\n",
              "    <tr>\n",
              "      <th>206212</th>\n",
              "      <td>0</td>\n",
              "      <td>0</td>\n",
              "      <td>0</td>\n",
              "      <td>0</td>\n",
              "      <td>0</td>\n",
              "      <td>0</td>\n",
              "      <td>0</td>\n",
              "      <td>0</td>\n",
              "      <td>0</td>\n",
              "      <td>0</td>\n",
              "      <td>...</td>\n",
              "      <td>0</td>\n",
              "      <td>0</td>\n",
              "      <td>0</td>\n",
              "      <td>0</td>\n",
              "      <td>0</td>\n",
              "      <td>0</td>\n",
              "      <td>0</td>\n",
              "      <td>0</td>\n",
              "      <td>0</td>\n",
              "      <td>0</td>\n",
              "    </tr>\n",
              "    <tr>\n",
              "      <th>206213</th>\n",
              "      <td>0</td>\n",
              "      <td>0</td>\n",
              "      <td>0</td>\n",
              "      <td>0</td>\n",
              "      <td>0</td>\n",
              "      <td>1</td>\n",
              "      <td>0</td>\n",
              "      <td>0</td>\n",
              "      <td>0</td>\n",
              "      <td>0</td>\n",
              "      <td>...</td>\n",
              "      <td>0</td>\n",
              "      <td>0</td>\n",
              "      <td>0</td>\n",
              "      <td>0</td>\n",
              "      <td>0</td>\n",
              "      <td>0</td>\n",
              "      <td>0</td>\n",
              "      <td>0</td>\n",
              "      <td>0</td>\n",
              "      <td>0</td>\n",
              "    </tr>\n",
              "    <tr>\n",
              "      <th>206214</th>\n",
              "      <td>0</td>\n",
              "      <td>0</td>\n",
              "      <td>0</td>\n",
              "      <td>0</td>\n",
              "      <td>0</td>\n",
              "      <td>0</td>\n",
              "      <td>0</td>\n",
              "      <td>0</td>\n",
              "      <td>0</td>\n",
              "      <td>0</td>\n",
              "      <td>...</td>\n",
              "      <td>0</td>\n",
              "      <td>0</td>\n",
              "      <td>0</td>\n",
              "      <td>0</td>\n",
              "      <td>0</td>\n",
              "      <td>0</td>\n",
              "      <td>0</td>\n",
              "      <td>0</td>\n",
              "      <td>0</td>\n",
              "      <td>0</td>\n",
              "    </tr>\n",
              "    <tr>\n",
              "      <th>206215</th>\n",
              "      <td>0</td>\n",
              "      <td>0</td>\n",
              "      <td>0</td>\n",
              "      <td>0</td>\n",
              "      <td>0</td>\n",
              "      <td>0</td>\n",
              "      <td>0</td>\n",
              "      <td>0</td>\n",
              "      <td>0</td>\n",
              "      <td>0</td>\n",
              "      <td>...</td>\n",
              "      <td>0</td>\n",
              "      <td>0</td>\n",
              "      <td>0</td>\n",
              "      <td>0</td>\n",
              "      <td>0</td>\n",
              "      <td>0</td>\n",
              "      <td>0</td>\n",
              "      <td>0</td>\n",
              "      <td>0</td>\n",
              "      <td>0</td>\n",
              "    </tr>\n",
              "  </tbody>\n",
              "</table>\n",
              "<p>206216 rows × 800 columns</p>\n",
              "</div>\n",
              "    <div class=\"colab-df-buttons\">\n",
              "\n",
              "  <div class=\"colab-df-container\">\n",
              "    <button class=\"colab-df-convert\" onclick=\"convertToInteractive('df-ae81db8b-2a92-4260-9ff4-eb707ce5f0c1')\"\n",
              "            title=\"Convert this dataframe to an interactive table.\"\n",
              "            style=\"display:none;\">\n",
              "\n",
              "  <svg xmlns=\"http://www.w3.org/2000/svg\" height=\"24px\" viewBox=\"0 -960 960 960\">\n",
              "    <path d=\"M120-120v-720h720v720H120Zm60-500h600v-160H180v160Zm220 220h160v-160H400v160Zm0 220h160v-160H400v160ZM180-400h160v-160H180v160Zm440 0h160v-160H620v160ZM180-180h160v-160H180v160Zm440 0h160v-160H620v160Z\"/>\n",
              "  </svg>\n",
              "    </button>\n",
              "\n",
              "  <style>\n",
              "    .colab-df-container {\n",
              "      display:flex;\n",
              "      gap: 12px;\n",
              "    }\n",
              "\n",
              "    .colab-df-convert {\n",
              "      background-color: #E8F0FE;\n",
              "      border: none;\n",
              "      border-radius: 50%;\n",
              "      cursor: pointer;\n",
              "      display: none;\n",
              "      fill: #1967D2;\n",
              "      height: 32px;\n",
              "      padding: 0 0 0 0;\n",
              "      width: 32px;\n",
              "    }\n",
              "\n",
              "    .colab-df-convert:hover {\n",
              "      background-color: #E2EBFA;\n",
              "      box-shadow: 0px 1px 2px rgba(60, 64, 67, 0.3), 0px 1px 3px 1px rgba(60, 64, 67, 0.15);\n",
              "      fill: #174EA6;\n",
              "    }\n",
              "\n",
              "    .colab-df-buttons div {\n",
              "      margin-bottom: 4px;\n",
              "    }\n",
              "\n",
              "    [theme=dark] .colab-df-convert {\n",
              "      background-color: #3B4455;\n",
              "      fill: #D2E3FC;\n",
              "    }\n",
              "\n",
              "    [theme=dark] .colab-df-convert:hover {\n",
              "      background-color: #434B5C;\n",
              "      box-shadow: 0px 1px 3px 1px rgba(0, 0, 0, 0.15);\n",
              "      filter: drop-shadow(0px 1px 2px rgba(0, 0, 0, 0.3));\n",
              "      fill: #FFFFFF;\n",
              "    }\n",
              "  </style>\n",
              "\n",
              "    <script>\n",
              "      const buttonEl =\n",
              "        document.querySelector('#df-ae81db8b-2a92-4260-9ff4-eb707ce5f0c1 button.colab-df-convert');\n",
              "      buttonEl.style.display =\n",
              "        google.colab.kernel.accessAllowed ? 'block' : 'none';\n",
              "\n",
              "      async function convertToInteractive(key) {\n",
              "        const element = document.querySelector('#df-ae81db8b-2a92-4260-9ff4-eb707ce5f0c1');\n",
              "        const dataTable =\n",
              "          await google.colab.kernel.invokeFunction('convertToInteractive',\n",
              "                                                    [key], {});\n",
              "        if (!dataTable) return;\n",
              "\n",
              "        const docLinkHtml = 'Like what you see? Visit the ' +\n",
              "          '<a target=\"_blank\" href=https://colab.research.google.com/notebooks/data_table.ipynb>data table notebook</a>'\n",
              "          + ' to learn more about interactive tables.';\n",
              "        element.innerHTML = '';\n",
              "        dataTable['output_type'] = 'display_data';\n",
              "        await google.colab.output.renderOutput(dataTable, element);\n",
              "        const docLink = document.createElement('div');\n",
              "        docLink.innerHTML = docLinkHtml;\n",
              "        element.appendChild(docLink);\n",
              "      }\n",
              "    </script>\n",
              "  </div>\n",
              "\n",
              "\n",
              "<div id=\"df-f5938d86-24dc-4904-a716-e46a28ff85cc\">\n",
              "  <button class=\"colab-df-quickchart\" onclick=\"quickchart('df-f5938d86-24dc-4904-a716-e46a28ff85cc')\"\n",
              "            title=\"Suggest charts\"\n",
              "            style=\"display:none;\">\n",
              "\n",
              "<svg xmlns=\"http://www.w3.org/2000/svg\" height=\"24px\"viewBox=\"0 0 24 24\"\n",
              "     width=\"24px\">\n",
              "    <g>\n",
              "        <path d=\"M19 3H5c-1.1 0-2 .9-2 2v14c0 1.1.9 2 2 2h14c1.1 0 2-.9 2-2V5c0-1.1-.9-2-2-2zM9 17H7v-7h2v7zm4 0h-2V7h2v10zm4 0h-2v-4h2v4z\"/>\n",
              "    </g>\n",
              "</svg>\n",
              "  </button>\n",
              "\n",
              "<style>\n",
              "  .colab-df-quickchart {\n",
              "      --bg-color: #E8F0FE;\n",
              "      --fill-color: #1967D2;\n",
              "      --hover-bg-color: #E2EBFA;\n",
              "      --hover-fill-color: #174EA6;\n",
              "      --disabled-fill-color: #AAA;\n",
              "      --disabled-bg-color: #DDD;\n",
              "  }\n",
              "\n",
              "  [theme=dark] .colab-df-quickchart {\n",
              "      --bg-color: #3B4455;\n",
              "      --fill-color: #D2E3FC;\n",
              "      --hover-bg-color: #434B5C;\n",
              "      --hover-fill-color: #FFFFFF;\n",
              "      --disabled-bg-color: #3B4455;\n",
              "      --disabled-fill-color: #666;\n",
              "  }\n",
              "\n",
              "  .colab-df-quickchart {\n",
              "    background-color: var(--bg-color);\n",
              "    border: none;\n",
              "    border-radius: 50%;\n",
              "    cursor: pointer;\n",
              "    display: none;\n",
              "    fill: var(--fill-color);\n",
              "    height: 32px;\n",
              "    padding: 0;\n",
              "    width: 32px;\n",
              "  }\n",
              "\n",
              "  .colab-df-quickchart:hover {\n",
              "    background-color: var(--hover-bg-color);\n",
              "    box-shadow: 0 1px 2px rgba(60, 64, 67, 0.3), 0 1px 3px 1px rgba(60, 64, 67, 0.15);\n",
              "    fill: var(--button-hover-fill-color);\n",
              "  }\n",
              "\n",
              "  .colab-df-quickchart-complete:disabled,\n",
              "  .colab-df-quickchart-complete:disabled:hover {\n",
              "    background-color: var(--disabled-bg-color);\n",
              "    fill: var(--disabled-fill-color);\n",
              "    box-shadow: none;\n",
              "  }\n",
              "\n",
              "  .colab-df-spinner {\n",
              "    border: 2px solid var(--fill-color);\n",
              "    border-color: transparent;\n",
              "    border-bottom-color: var(--fill-color);\n",
              "    animation:\n",
              "      spin 1s steps(1) infinite;\n",
              "  }\n",
              "\n",
              "  @keyframes spin {\n",
              "    0% {\n",
              "      border-color: transparent;\n",
              "      border-bottom-color: var(--fill-color);\n",
              "      border-left-color: var(--fill-color);\n",
              "    }\n",
              "    20% {\n",
              "      border-color: transparent;\n",
              "      border-left-color: var(--fill-color);\n",
              "      border-top-color: var(--fill-color);\n",
              "    }\n",
              "    30% {\n",
              "      border-color: transparent;\n",
              "      border-left-color: var(--fill-color);\n",
              "      border-top-color: var(--fill-color);\n",
              "      border-right-color: var(--fill-color);\n",
              "    }\n",
              "    40% {\n",
              "      border-color: transparent;\n",
              "      border-right-color: var(--fill-color);\n",
              "      border-top-color: var(--fill-color);\n",
              "    }\n",
              "    60% {\n",
              "      border-color: transparent;\n",
              "      border-right-color: var(--fill-color);\n",
              "    }\n",
              "    80% {\n",
              "      border-color: transparent;\n",
              "      border-right-color: var(--fill-color);\n",
              "      border-bottom-color: var(--fill-color);\n",
              "    }\n",
              "    90% {\n",
              "      border-color: transparent;\n",
              "      border-bottom-color: var(--fill-color);\n",
              "    }\n",
              "  }\n",
              "</style>\n",
              "\n",
              "  <script>\n",
              "    async function quickchart(key) {\n",
              "      const quickchartButtonEl =\n",
              "        document.querySelector('#' + key + ' button');\n",
              "      quickchartButtonEl.disabled = true;  // To prevent multiple clicks.\n",
              "      quickchartButtonEl.classList.add('colab-df-spinner');\n",
              "      try {\n",
              "        const charts = await google.colab.kernel.invokeFunction(\n",
              "            'suggestCharts', [key], {});\n",
              "      } catch (error) {\n",
              "        console.error('Error during call to suggestCharts:', error);\n",
              "      }\n",
              "      quickchartButtonEl.classList.remove('colab-df-spinner');\n",
              "      quickchartButtonEl.classList.add('colab-df-quickchart-complete');\n",
              "    }\n",
              "    (() => {\n",
              "      let quickchartButtonEl =\n",
              "        document.querySelector('#df-f5938d86-24dc-4904-a716-e46a28ff85cc button');\n",
              "      quickchartButtonEl.style.display =\n",
              "        google.colab.kernel.accessAllowed ? 'block' : 'none';\n",
              "    })();\n",
              "  </script>\n",
              "</div>\n",
              "\n",
              "  <div id=\"id_cb2d6383-549d-4948-9b94-a112e3ecd277\">\n",
              "    <style>\n",
              "      .colab-df-generate {\n",
              "        background-color: #E8F0FE;\n",
              "        border: none;\n",
              "        border-radius: 50%;\n",
              "        cursor: pointer;\n",
              "        display: none;\n",
              "        fill: #1967D2;\n",
              "        height: 32px;\n",
              "        padding: 0 0 0 0;\n",
              "        width: 32px;\n",
              "      }\n",
              "\n",
              "      .colab-df-generate:hover {\n",
              "        background-color: #E2EBFA;\n",
              "        box-shadow: 0px 1px 2px rgba(60, 64, 67, 0.3), 0px 1px 3px 1px rgba(60, 64, 67, 0.15);\n",
              "        fill: #174EA6;\n",
              "      }\n",
              "\n",
              "      [theme=dark] .colab-df-generate {\n",
              "        background-color: #3B4455;\n",
              "        fill: #D2E3FC;\n",
              "      }\n",
              "\n",
              "      [theme=dark] .colab-df-generate:hover {\n",
              "        background-color: #434B5C;\n",
              "        box-shadow: 0px 1px 3px 1px rgba(0, 0, 0, 0.15);\n",
              "        filter: drop-shadow(0px 1px 2px rgba(0, 0, 0, 0.3));\n",
              "        fill: #FFFFFF;\n",
              "      }\n",
              "    </style>\n",
              "    <button class=\"colab-df-generate\" onclick=\"generateWithVariable('X')\"\n",
              "            title=\"Generate code using this dataframe.\"\n",
              "            style=\"display:none;\">\n",
              "\n",
              "  <svg xmlns=\"http://www.w3.org/2000/svg\" height=\"24px\"viewBox=\"0 0 24 24\"\n",
              "       width=\"24px\">\n",
              "    <path d=\"M7,19H8.4L18.45,9,17,7.55,7,17.6ZM5,21V16.75L18.45,3.32a2,2,0,0,1,2.83,0l1.4,1.43a1.91,1.91,0,0,1,.58,1.4,1.91,1.91,0,0,1-.58,1.4L9.25,21ZM18.45,9,17,7.55Zm-12,3A5.31,5.31,0,0,0,4.9,8.1,5.31,5.31,0,0,0,1,6.5,5.31,5.31,0,0,0,4.9,4.9,5.31,5.31,0,0,0,6.5,1,5.31,5.31,0,0,0,8.1,4.9,5.31,5.31,0,0,0,12,6.5,5.46,5.46,0,0,0,6.5,12Z\"/>\n",
              "  </svg>\n",
              "    </button>\n",
              "    <script>\n",
              "      (() => {\n",
              "      const buttonEl =\n",
              "        document.querySelector('#id_cb2d6383-549d-4948-9b94-a112e3ecd277 button.colab-df-generate');\n",
              "      buttonEl.style.display =\n",
              "        google.colab.kernel.accessAllowed ? 'block' : 'none';\n",
              "\n",
              "      buttonEl.onclick = () => {\n",
              "        google.colab.notebook.generateWithVariable('X');\n",
              "      }\n",
              "      })();\n",
              "    </script>\n",
              "  </div>\n",
              "\n",
              "    </div>\n",
              "  </div>\n"
            ],
            "application/vnd.google.colaboratory.intrinsic+json": {
              "type": "dataframe",
              "variable_name": "X"
            }
          },
          "metadata": {},
          "execution_count": 6
        }
      ],
      "source": [
        "print(X.shape)\n",
        "X"
      ]
    },
    {
      "cell_type": "code",
      "execution_count": 7,
      "metadata": {
        "id": "jWl-6lUxvI7T",
        "outputId": "aff2bfc3-ff75-4900-a366-0c6d9cf2ac85",
        "colab": {
          "base_uri": "https://localhost:8080/"
        }
      },
      "outputs": [
        {
          "output_type": "stream",
          "name": "stdout",
          "text": [
            "(206216,)\n"
          ]
        },
        {
          "output_type": "execute_result",
          "data": {
            "text/plain": [
              "array(['back', 'down', 'front', 'left 3/4', 'left profile', 'right 3/4',\n",
              "       'right profile', 'up'], dtype=object)"
            ]
          },
          "metadata": {},
          "execution_count": 7
        }
      ],
      "source": [
        "print(y.shape)\n",
        "np.unique(y)"
      ]
    },
    {
      "cell_type": "code",
      "source": [
        "y_series = pd.Series(y)\n",
        "\n",
        "# labels similar orientation into new groups\n",
        "def convert_orientation(orientation):\n",
        "    if 'left' in orientation:\n",
        "        return 'left'\n",
        "    elif 'right' in orientation:\n",
        "        return 'right'\n",
        "    elif orientation in ['front', 'back']:\n",
        "        return 'frontal'\n",
        "    else:\n",
        "        return 'vertical'\n",
        "\n",
        "y = y_series.apply(convert_orientation)\n",
        "\n",
        "from collections import Counter\n",
        "print(Counter(y))"
      ],
      "metadata": {
        "colab": {
          "base_uri": "https://localhost:8080/"
        },
        "id": "NfGaNf3V5R4S",
        "outputId": "ae870c4f-b309-47fc-8252-a4880ff1b319"
      },
      "execution_count": 8,
      "outputs": [
        {
          "output_type": "stream",
          "name": "stdout",
          "text": [
            "Counter({'right': 51818, 'frontal': 51715, 'left': 51346, 'vertical': 51337})\n"
          ]
        }
      ]
    },
    {
      "cell_type": "markdown",
      "metadata": {
        "id": "oi4C3v4yvI7X"
      },
      "source": [
        "### Pre-processing\n",
        "\n",
        "The Short-Time Fourier Transform (STFT), Discrete Wavelet Transform (DWT), and Wavelet\n",
        "Transform (WT) and are time-frequency-based techniques have been used for feature\n",
        "extraction [65]. These techniques help accurately classify signals by extracting relevant\n",
        "information. DWT is used to statistically evaluate the frequency bands of medical brain waves,\n",
        "disclosing signal characteristics in both temporal and frequency domains [67]. The outcome\n",
        "also demonstrates that most algorithms have performed better when dealing with feature sets\n",
        "produced by wavelets [2]. Furthermore, Fast Fourier Transform (FFT) focuses primarily on\n",
        "filtering techniques and divides the time domain into four frequency bands called alpha, beta,\n",
        "gamma, and delta. It can transform time-domain signals into frequency-domain impulses as\n",
        "well [68].\n",
        "\n",
        "Although the methods mentioned can be helpful in most datasets, recent research papers have\n",
        "indicated that with bigger data sets, Principal Component Analysis (PCA) has a slight\n",
        "advantage [2]. PCA is considered a feature extraction technique and a dimensionality reduction\n",
        "method. It will be introduced in the dimensionality reduction section."
      ]
    },
    {
      "cell_type": "code",
      "source": [
        "import pywt\n",
        "\n",
        "# wavelet and decomposition level\n",
        "wavelet = 'db4'   # wavelet Daubechies 4 – good for spike data\n",
        "level = 4         # decomposition level\n",
        "\n",
        "# apply DWT row-by-row, flatten coefficients into 1D feature vector\n",
        "X_dwt = np.array([\n",
        "    np.hstack(pywt.wavedec(row, wavelet=wavelet, level=level))\n",
        "    for row in X.values\n",
        "])\n",
        "\n",
        "print(\"Original X shape:\", X.shape)\n",
        "print(\"DWT-transformed X shape:\", X_dwt.shape)"
      ],
      "metadata": {
        "id": "UjH6zCiC9Gv5",
        "colab": {
          "base_uri": "https://localhost:8080/"
        },
        "outputId": "ea1b1de3-8ea2-4ae2-8991-4bfbd8e1b19d"
      },
      "execution_count": 9,
      "outputs": [
        {
          "output_type": "stream",
          "name": "stdout",
          "text": [
            "Original X shape: (206216, 800)\n",
            "DWT-transformed X shape: (206216, 826)\n"
          ]
        }
      ]
    },
    {
      "cell_type": "code",
      "source": [
        "from scipy.signal import stft\n",
        "\n",
        "# Apply STFT to one row — we'll batch this below\n",
        "f, t, Zxx = stft(X.iloc[0], nperseg=64)\n",
        "\n",
        "# Convert magnitude to feature vector\n",
        "stft_features = np.abs(Zxx).flatten()\n",
        "print(\"STFT features (1 sample):\", stft_features.shape)\n",
        "\n",
        "X_stft = np.array([\n",
        "    np.abs(stft(row, nperseg=64)[2]).flatten()\n",
        "    for row in X.values\n",
        "])\n",
        "print(\"STFT-transformed shape:\", X_stft.shape)"
      ],
      "metadata": {
        "id": "_3kpcSQKHPO0",
        "colab": {
          "base_uri": "https://localhost:8080/"
        },
        "outputId": "e8f07316-e3f6-4fcd-c7a9-4405ef3921a3"
      },
      "execution_count": 10,
      "outputs": [
        {
          "output_type": "stream",
          "name": "stdout",
          "text": [
            "STFT features (1 sample): (858,)\n",
            "STFT-transformed shape: (206216, 858)\n"
          ]
        }
      ]
    },
    {
      "cell_type": "code",
      "source": [
        "# reduce each first before combining\n",
        "# X_dwt_pca = PCA(n_components=100).fit_transform(X_dwt)\n",
        "# X_stft_pca = PCA(n_components=100).fit_transform(X_stft)\n",
        "\n",
        "X_features = np.hstack([X_dwt, X_stft])\n",
        "X_features.shape"
      ],
      "metadata": {
        "id": "p5rR9jcbIsgD",
        "colab": {
          "base_uri": "https://localhost:8080/"
        },
        "outputId": "296e8210-7647-4e28-b323-aa4ca9469428"
      },
      "execution_count": 11,
      "outputs": [
        {
          "output_type": "execute_result",
          "data": {
            "text/plain": [
              "(206216, 1684)"
            ]
          },
          "metadata": {},
          "execution_count": 11
        }
      ]
    },
    {
      "cell_type": "code",
      "source": [
        "X_train, X_test, y_train, y_test = train_test_split(X_features, y, test_size=0.3, random_state=42)\n",
        "\n",
        "from sklearn.preprocessing import StandardScaler\n",
        "scaler = StandardScaler()\n",
        "X_train_scale = scaler.fit_transform(X_train)\n",
        "X_test_scale = scaler.transform(X_test)"
      ],
      "metadata": {
        "id": "hA6f9m3Z-3hm"
      },
      "execution_count": 12,
      "outputs": []
    },
    {
      "cell_type": "markdown",
      "metadata": {
        "id": "WhXQqCNavI7d"
      },
      "source": [
        "### Models for classification _(if applicable)_\n",
        "_(What models will you be using for classification? Why did you choose to use them? What questions would you answer with them? How would you evaluate if each model? What cross-validation method did you use?)_"
      ]
    },
    {
      "cell_type": "code",
      "execution_count": 13,
      "metadata": {
        "id": "xgOvrqkEvI7f",
        "outputId": "3dd85ca4-8e23-4803-f425-79236c19155b",
        "colab": {
          "base_uri": "https://localhost:8080/",
          "height": 663
        }
      },
      "outputs": [
        {
          "output_type": "stream",
          "name": "stdout",
          "text": [
            "n_components=20, Mean CV Accuracy=0.2616\n",
            "n_components=50, Mean CV Accuracy=0.2621\n",
            "n_components=100, Mean CV Accuracy=0.2624\n",
            "n_components=200, Mean CV Accuracy=0.2593\n",
            "n_components=300, Mean CV Accuracy=0.2593\n",
            "n_components=400, Mean CV Accuracy=0.2571\n",
            "n_components=500, Mean CV Accuracy=0.2589\n",
            "n_components=600, Mean CV Accuracy=0.2571\n",
            "n_components=700, Mean CV Accuracy=0.2577\n",
            "n_components=800, Mean CV Accuracy=0.2568\n"
          ]
        },
        {
          "output_type": "display_data",
          "data": {
            "text/plain": [
              "<Figure size 640x480 with 1 Axes>"
            ],
            "image/png": "[encoded data removed]"
          },
          "metadata": {}
        },
        {
          "output_type": "stream",
          "name": "stdout",
          "text": [
            "Best n_components = 100 with CV accuracy = 0.2624\n"
          ]
        }
      ],
      "source": [
        "from sklearn.pipeline import Pipeline\n",
        "\n",
        "n_components_list = [20, 50, 100, 200, 300, 400, 500, 600, 700, 800]\n",
        "\n",
        "mean_scores = []\n",
        "\n",
        "for n in n_components_list:\n",
        "    pipeline = Pipeline([\n",
        "        ('pca', PCA(n_components=n)),\n",
        "        ('logreg', LogisticRegression(max_iter=1000, solver='lbfgs'))\n",
        "    ])\n",
        "\n",
        "    scores = cross_val_score(pipeline, X_train_scale, y_train, cv=5, n_jobs=-1)\n",
        "    mean_score = scores.mean()\n",
        "    mean_scores.append(mean_score)\n",
        "    print(f'n_components={n}, Mean CV Accuracy={round(mean_score, 4)}')\n",
        "\n",
        "# Plot\n",
        "plt.plot(n_components_list, mean_scores, marker='o')\n",
        "plt.xlabel(\"n_components\")\n",
        "plt.ylabel(\"Accuracy\")\n",
        "plt.title(\"PCA for Logistic Regression\")\n",
        "plt.show()\n",
        "\n",
        "# Pick best\n",
        "best_n = n_components_list[np.argmax(mean_scores)]\n",
        "print(f\"Best n_components = {best_n} with CV accuracy = {round(max(mean_scores), 4)}\")"
      ]
    },
    {
      "cell_type": "code",
      "source": [
        "pca = PCA(n_components=best_n)\n",
        "X_train_pca = pca.fit_transform(X_train_scale)\n",
        "X_test_pca = pca.transform(X_test_scale)\n",
        "\n",
        "print(\"Explained variance ratio:\", pca.explained_variance_ratio_.sum())\n",
        "\n",
        "logreg = LogisticRegression(max_iter=1000, solver='lbfgs').fit(X_train_pca, y_train)\n",
        "y_pred = logreg.predict(X_test_pca)\n",
        "\n",
        "# print(\"Cross-validation scores:\", cv_scores)\n",
        "# print(\"Average CV accuracy:\", np.mean(cv_scores))\n",
        "test_acc = accuracy_score(y_test, y_pred)\n",
        "print(\"Testing accuracy:\", test_acc)\n",
        "\n",
        "from sklearn.metrics import top_k_accuracy_score\n",
        "\n",
        "# Get class probabilities from the model\n",
        "y_proba = logreg.predict_proba(X_test_pca)\n",
        "top1 = top_k_accuracy_score(y_test, y_proba, k=1)\n",
        "top3 = top_k_accuracy_score(y_test, y_proba, k=3)\n",
        "\n",
        "print(\"Logistic Regression Top-1 Accuracy:\", round(top1, 4))\n",
        "print(\"Logistic Regression Top-3 Accuracy:\", round(top3, 4))\n",
        "\n",
        "print(\"Classification Report:\\n\", classification_report(y_test, y_pred))"
      ],
      "metadata": {
        "colab": {
          "base_uri": "https://localhost:8080/"
        },
        "id": "Qb_RUJSe8ED1",
        "outputId": "95f3a740-3c6d-4e90-b498-5126dc63b2a7"
      },
      "execution_count": 14,
      "outputs": [
        {
          "output_type": "stream",
          "name": "stdout",
          "text": [
            "Explained variance ratio: 0.5527388328782191\n",
            "Testing accuracy: 0.26213529459306556\n",
            "Logistic Regression Top-1 Accuracy: 0.2621\n",
            "Logistic Regression Top-3 Accuracy: 0.7628\n",
            "Classification Report:\n",
            "               precision    recall  f1-score   support\n",
            "\n",
            "     frontal       0.26      0.22      0.24     15424\n",
            "        left       0.25      0.14      0.18     15476\n",
            "       right       0.25      0.43      0.32     15586\n",
            "    vertical       0.28      0.26      0.27     15379\n",
            "\n",
            "    accuracy                           0.26     61865\n",
            "   macro avg       0.26      0.26      0.25     61865\n",
            "weighted avg       0.26      0.26      0.25     61865\n",
            "\n"
          ]
        }
      ]
    },
    {
      "cell_type": "code",
      "execution_count": 15,
      "metadata": {
        "id": "2L4Wzn4nvI7h",
        "colab": {
          "base_uri": "https://localhost:8080/",
          "height": 487
        },
        "outputId": "535d5122-c656-47af-e580-984c02d3cc26"
      },
      "outputs": [
        {
          "output_type": "display_data",
          "data": {
            "text/plain": [
              "<Figure size 640x480 with 1 Axes>"
            ],
            "image/png": "[encoded data removed]"
          },
          "metadata": {}
        }
      ],
      "source": [
        "# Confusion matrix\n",
        "cm = confusion_matrix(y_test, y_pred)\n",
        "sns.heatmap(cm, annot=True, fmt='d', cmap='Blues', cbar=False)\n",
        "plt.title(\"Confusion Matrix (Logistic Regression - Test Set)\")\n",
        "plt.xlabel(\"Predicted\")\n",
        "plt.ylabel(\"True\")\n",
        "plt.tight_layout()\n",
        "plt.show()"
      ]
    },
    {
      "cell_type": "markdown",
      "metadata": {
        "id": "yOw6iKkevI7i"
      },
      "source": [
        "### Other methods used _(if applicable)_"
      ]
    },
    {
      "cell_type": "code",
      "source": [
        "print(torch.__version__)\n",
        "device = torch.device(\"cuda\" if torch.cuda.is_available() else \"cpu\")\n",
        "print(f\"Using device: {device}\")"
      ],
      "metadata": {
        "colab": {
          "base_uri": "https://localhost:8080/"
        },
        "id": "wDRxEP9cw9NE",
        "outputId": "eaddae8b-1de3-4d51-82b1-9c0f96a164c5"
      },
      "execution_count": 16,
      "outputs": [
        {
          "output_type": "stream",
          "name": "stdout",
          "text": [
            "2.6.0+cu124\n",
            "Using device: cuda\n"
          ]
        }
      ]
    },
    {
      "cell_type": "code",
      "source": [
        "def data_tensor(X_train, X_test, y_train, y_test, n_component=50, use_pca=False):\n",
        "  # convert to PyTorch tensors\n",
        "  y_train_tens = torch.tensor(y_train_encoded, dtype=torch.long)\n",
        "  y_test_tens = torch.tensor(y_test_encoded, dtype=torch.long)\n",
        "\n",
        "  if use_pca:\n",
        "    pca = PCA(n_components=n_component)\n",
        "    X_train = pca.fit_transform(X_train)\n",
        "    X_test = pca.transform(X_test)\n",
        "\n",
        "  # convert to tensors\n",
        "  X_train_tens = torch.tensor(X_train, dtype=torch.float32)\n",
        "  X_test_tens = torch.tensor(X_test, dtype=torch.float32)\n",
        "\n",
        "  # make dataset and dataloader\n",
        "  train_data = TensorDataset(X_train_tens, y_train_tens)\n",
        "  test_data = TensorDataset(X_test_tens, y_test_tens)\n",
        "  train_loader = DataLoader(train_data, batch_size=64, shuffle=True)\n",
        "  test_loader = DataLoader(test_data, batch_size=64)\n",
        "\n",
        "  return train_data, test_data, train_loader, test_loader"
      ],
      "metadata": {
        "id": "mmreXv6qnOj0"
      },
      "execution_count": 27,
      "outputs": []
    },
    {
      "cell_type": "code",
      "source": [
        "# change text label to numerical format\n",
        "le = LabelEncoder()\n",
        "y_train_encoded = le.fit_transform(y_train)\n",
        "y_test_encoded = le.transform(y_test)\n",
        "\n",
        "print(np.unique(y_train_encoded))  # [0, 1, 2, 3] - 4 classes"
      ],
      "metadata": {
        "id": "6vhiHXIDxKL3",
        "colab": {
          "base_uri": "https://localhost:8080/"
        },
        "outputId": "09854e47-9a47-4819-c1f4-e32994386151"
      },
      "execution_count": 18,
      "outputs": [
        {
          "output_type": "stream",
          "name": "stdout",
          "text": [
            "[0 1 2 3]\n"
          ]
        }
      ]
    },
    {
      "cell_type": "code",
      "source": [
        "# Scale input features\n",
        "scaler = StandardScaler()\n",
        "X_train_scaled = scaler.fit_transform(X_train)\n",
        "X_test_scaled = scaler.transform(X_test)"
      ],
      "metadata": {
        "id": "DOgCTJMPvQ1T"
      },
      "execution_count": 19,
      "outputs": []
    },
    {
      "cell_type": "code",
      "source": [
        "# Generate Dataset and Dataloader\n",
        "# PCA - n_components = best_n calculated above\n",
        "train_data_pca, test_data_pca, train_loader_pca, test_loader_pca = data_tensor(X_train_scaled, X_test_scaled, y_train_encoded, y_test_encoded, n_component=best_n, use_pca=True)\n",
        "\n",
        "# No PCA\n",
        "train_data, test_data, train_loader, test_loader = data_tensor(X_train_scaled, X_test_scaled, y_train_encoded, y_test_encoded)"
      ],
      "metadata": {
        "id": "EXZC41HHmPqR"
      },
      "execution_count": 28,
      "outputs": []
    },
    {
      "cell_type": "code",
      "source": [
        "# define Feedforward NN model class\n",
        "class FNN(nn.Module):\n",
        "    def __init__(self, input_dim, output_dim):\n",
        "        super(FNN, self).__init__()\n",
        "        self.model = nn.Sequential(\n",
        "            nn.Linear(input_dim, 1024),\n",
        "            nn.ReLU(),\n",
        "            nn.BatchNorm1d(1024),\n",
        "            nn.Dropout(0.5),\n",
        "\n",
        "            nn.Linear(1024, 512),\n",
        "            nn.ReLU(),\n",
        "            nn.BatchNorm1d(512),\n",
        "            nn.Dropout(0.4),\n",
        "\n",
        "            nn.Linear(512, 256),\n",
        "            nn.ReLU(),\n",
        "            nn.BatchNorm1d(256),\n",
        "            nn.Dropout(0.3),\n",
        "\n",
        "            nn.Linear(256, 128),\n",
        "            nn.ReLU(),\n",
        "            nn.BatchNorm1d(128),\n",
        "            nn.Dropout(0.2),\n",
        "\n",
        "            nn.Linear(128, output_dim)\n",
        "        )\n",
        "\n",
        "    def forward(self, x):\n",
        "        return self.model(x)\n",
        "\n",
        "output_size = 4 # 4 classes"
      ],
      "metadata": {
        "id": "Lqkm14EIvSHm"
      },
      "execution_count": 48,
      "outputs": []
    },
    {
      "cell_type": "code",
      "source": [
        "# Source: https://stackoverflow.com/questions/71998978/early-stopping-in-pytorch\n",
        "class EarlyStopper:\n",
        "    def __init__(self, patience=1, min_delta=0):\n",
        "        self.patience = patience\n",
        "        self.min_delta = min_delta\n",
        "        self.counter = 0\n",
        "        self.min_validation_loss = float('inf')\n",
        "\n",
        "    def early_stop(self, validation_loss):\n",
        "        if validation_loss < self.min_validation_loss:\n",
        "            self.min_validation_loss = validation_loss\n",
        "            self.counter = 0\n",
        "        elif validation_loss > (self.min_validation_loss + self.min_delta):\n",
        "            self.counter += 1\n",
        "            if self.counter >= self.patience:\n",
        "                return True\n",
        "        return False"
      ],
      "metadata": {
        "id": "FGWfQKbl5qQn"
      },
      "execution_count": 41,
      "outputs": []
    },
    {
      "cell_type": "markdown",
      "source": [
        "### No PCA (standard scaled model)"
      ],
      "metadata": {
        "id": "k9rb6g1FqjqH"
      }
    },
    {
      "cell_type": "code",
      "source": [
        "input_size = X_train_scaled.shape[1] # input_dim=1068, output_dim=4\n",
        "\n",
        "model_scaled = FNN(input_dim=input_size, output_dim=output_size).to(device)\n",
        "criterion = nn.CrossEntropyLoss(label_smoothing=0.1)\n",
        "optimizer = torch.optim.Adam(model_scaled.parameters(), lr=0.001, weight_decay=1e-4)\n",
        "scheduler = torch.optim.lr_scheduler.ReduceLROnPlateau(optimizer, mode='min', factor=0.5, patience=3)\n",
        "\n",
        "# Early stopping\n",
        "early_stopper = EarlyStopper(patience=5, min_delta=1e-4)\n",
        "\n",
        "train_losses_scaled, val_losses_scaled = [], []\n",
        "train_accuracies_scaled, val_accuracies_scaled = [], []\n",
        "\n",
        "for epoch in range(30):\n",
        "    model_scaled.train()\n",
        "    running_train_loss = 0\n",
        "    correct_train = 0\n",
        "\n",
        "    # Train\n",
        "    for X_batch, y_batch in train_loader:\n",
        "        X_batch, y_batch = X_batch.to(device), y_batch.to(device)\n",
        "        optimizer.zero_grad()\n",
        "        outputs = model_scaled(X_batch)\n",
        "        loss = criterion(outputs, y_batch)\n",
        "        loss.backward()\n",
        "        optimizer.step()\n",
        "\n",
        "        running_train_loss += loss.item()\n",
        "        correct_train += (outputs.argmax(dim=1) == y_batch).sum().item()\n",
        "\n",
        "    avg_train_loss = running_train_loss / len(train_loader)\n",
        "    train_acc = correct_train / len(train_loader.dataset)\n",
        "    train_losses_scaled.append(avg_train_loss)\n",
        "    train_accuracies_scaled.append(train_acc)\n",
        "\n",
        "    # Validation\n",
        "    model_scaled.eval()\n",
        "    running_val_loss = 0\n",
        "    correct_val = 0\n",
        "\n",
        "    with torch.no_grad():\n",
        "        for X_batch, y_batch in test_loader:\n",
        "            X_batch, y_batch = X_batch.to(device), y_batch.to(device)\n",
        "            outputs = model_scaled(X_batch)\n",
        "            loss = criterion(outputs, y_batch)\n",
        "\n",
        "            running_val_loss += loss.item()\n",
        "            correct_val += (outputs.argmax(dim=1) == y_batch).sum().item()\n",
        "\n",
        "    avg_val_loss = running_val_loss / len(test_loader)\n",
        "    scheduler.step(avg_val_loss)\n",
        "    val_acc = correct_val / len(test_loader.dataset)\n",
        "    val_losses_scaled.append(avg_val_loss)\n",
        "    val_accuracies_scaled.append(val_acc)\n",
        "\n",
        "    print(f\"Epoch {epoch+1}: Train Loss = {avg_train_loss:.4f}, Val Loss = {avg_val_loss:.4f}, Val Acc = {val_acc:.4f}\")\n",
        "\n",
        "    # Early stopping check\n",
        "    if early_stopper.early_stop(avg_val_loss):\n",
        "        print(f\"Early stopping\")\n",
        "        break"
      ],
      "metadata": {
        "id": "RUjn6CCWvX6z",
        "colab": {
          "base_uri": "https://localhost:8080/"
        },
        "outputId": "8afb2fc3-76eb-4b01-ea41-f4613fe847aa"
      },
      "execution_count": 49,
      "outputs": [
        {
          "output_type": "stream",
          "name": "stdout",
          "text": [
            "Epoch 1: Train Loss = 1.3965, Val Loss = 1.3903, Val Acc = 0.2554\n",
            "Epoch 2: Train Loss = 1.3890, Val Loss = 1.3872, Val Acc = 0.2625\n",
            "Epoch 3: Train Loss = 1.3871, Val Loss = 1.3860, Val Acc = 0.2617\n",
            "Epoch 4: Train Loss = 1.3860, Val Loss = 1.3855, Val Acc = 0.2605\n",
            "Epoch 5: Train Loss = 1.3856, Val Loss = 1.3854, Val Acc = 0.2624\n",
            "Epoch 6: Train Loss = 1.3855, Val Loss = 1.3856, Val Acc = 0.2604\n",
            "Epoch 7: Train Loss = 1.3857, Val Loss = 1.3855, Val Acc = 0.2610\n",
            "Epoch 8: Train Loss = 1.3855, Val Loss = 1.3851, Val Acc = 0.2643\n",
            "Epoch 9: Train Loss = 1.3856, Val Loss = 1.3855, Val Acc = 0.2628\n",
            "Epoch 10: Train Loss = 1.3856, Val Loss = 1.3856, Val Acc = 0.2625\n",
            "Epoch 11: Train Loss = 1.3855, Val Loss = 1.3862, Val Acc = 0.2572\n",
            "Epoch 12: Train Loss = 1.3855, Val Loss = 1.3857, Val Acc = 0.2600\n",
            "Epoch 13: Train Loss = 1.3851, Val Loss = 1.3854, Val Acc = 0.2605\n",
            "Early stopping\n"
          ]
        }
      ]
    },
    {
      "cell_type": "code",
      "source": [
        "model_scaled.eval()\n",
        "y_pred_scaled = []\n",
        "y_proba_scaled = []\n",
        "true_labels_scaled = []\n",
        "\n",
        "with torch.no_grad():\n",
        "    for X_batch, y_batch in test_loader:\n",
        "        X_batch = X_batch.to(device)\n",
        "        outputs = model_scaled(X_batch)\n",
        "\n",
        "        y_proba_scaled.extend(outputs.cpu().numpy())               # top-3\n",
        "        y_pred_scaled.extend(outputs.argmax(dim=1).cpu().numpy())  # top-1\n",
        "        true_labels_scaled.extend(y_batch.numpy())\n",
        "\n",
        "y_proba_scaled = np.array(y_proba_scaled)\n",
        "y_pred_scaled = np.array(y_pred_scaled)\n",
        "true_labels_scaled = np.array(true_labels_scaled)\n",
        "\n",
        "print(\"No PCA:\")\n",
        "print(\"Top-1 Accuracy:\", round(top_k_accuracy_score(true_labels_scaled, y_proba_scaled, k=1), 4))\n",
        "print(\"Top-3 Accuracy:\", round(top_k_accuracy_score(true_labels_scaled, y_proba_scaled, k=3), 4))\n",
        "print(classification_report(y_test_encoded, y_pred_scaled, target_names=le.classes_))\n",
        "\n",
        "cm = confusion_matrix(y_test_encoded, y_pred_scaled)\n",
        "ConfusionMatrixDisplay(confusion_matrix=cm, display_labels=le.classes_).plot(cmap=\"Blues\")\n",
        "plt.show()\n",
        "\n",
        "plt.plot(train_accuracies_scaled, label='Train Accuracy')\n",
        "plt.plot(val_accuracies_scaled, label='Val Accuracy')\n",
        "plt.xlabel(\"Epoch\")\n",
        "plt.ylabel(\"Accuracy\")\n",
        "plt.legend()\n",
        "plt.title(\"FNN Accuracy over Epochs (No PCA)\")\n",
        "plt.show()"
      ],
      "metadata": {
        "colab": {
          "base_uri": "https://localhost:8080/",
          "height": 1000
        },
        "id": "fN7ZNQ_R15dm",
        "outputId": "b22ee427-aad0-4191-95f8-b4af7c021368"
      },
      "execution_count": 50,
      "outputs": [
        {
          "output_type": "stream",
          "name": "stdout",
          "text": [
            "No PCA:\n",
            "Top-1 Accuracy: 0.2605\n",
            "Top-3 Accuracy: 0.7601\n",
            "              precision    recall  f1-score   support\n",
            "\n",
            "     frontal       0.31      0.01      0.01     15424\n",
            "        left       0.25      0.34      0.29     15476\n",
            "       right       0.25      0.46      0.33     15586\n",
            "    vertical       0.29      0.24      0.26     15379\n",
            "\n",
            "    accuracy                           0.26     61865\n",
            "   macro avg       0.28      0.26      0.22     61865\n",
            "weighted avg       0.28      0.26      0.22     61865\n",
            "\n"
          ]
        },
        {
          "output_type": "display_data",
          "data": {
            "text/plain": [
              "<Figure size 640x480 with 2 Axes>"
            ],
            "image/png": "[encoded data removed]"
          },
          "metadata": {}
        },
        {
          "output_type": "display_data",
          "data": {
            "text/plain": [
              "<Figure size 640x480 with 1 Axes>"
            ],
            "image/png": "[encoded data removed]"
          },
          "metadata": {}
        }
      ]
    },
    {
      "cell_type": "markdown",
      "source": [
        "#### With PCA (n_components = best_n)"
      ],
      "metadata": {
        "id": "A_Qw8_0JYyux"
      }
    },
    {
      "cell_type": "code",
      "source": [
        "input_size = X_train_pca.shape[1]\n",
        "\n",
        "model_pca = FNN(input_dim=input_size, output_dim=output_size).to(device)\n",
        "criterion = nn.CrossEntropyLoss(label_smoothing=0.1)\n",
        "optimizer = torch.optim.Adam(model_pca.parameters(), lr=0.001, weight_decay=1e-4)\n",
        "scheduler = torch.optim.lr_scheduler.ReduceLROnPlateau(optimizer, mode='min', factor=0.5, patience=3)\n",
        "\n",
        "# Early stopping\n",
        "early_stopper = EarlyStopper(patience=5, min_delta=1e-4)\n",
        "\n",
        "train_losses_pca, val_losses_pca = [], []\n",
        "train_accuracies_pca, val_accuracies_pca = [], []\n",
        "\n",
        "for epoch in range(30):\n",
        "    model_pca.train()\n",
        "    running_train_loss = 0\n",
        "    correct_train = 0\n",
        "\n",
        "    # Train\n",
        "    for X_batch, y_batch in train_loader_pca:\n",
        "        X_batch, y_batch = X_batch.to(device), y_batch.to(device)\n",
        "        optimizer.zero_grad()\n",
        "        outputs = model_pca(X_batch)\n",
        "        loss = criterion(outputs, y_batch)\n",
        "        loss.backward()\n",
        "        optimizer.step()\n",
        "\n",
        "        running_train_loss += loss.item()\n",
        "        correct_train += (outputs.argmax(dim=1) == y_batch).sum().item()\n",
        "\n",
        "    avg_train_loss = running_train_loss / len(train_loader)\n",
        "    train_acc = correct_train / len(train_loader.dataset)\n",
        "    train_losses_pca.append(avg_train_loss)\n",
        "    train_accuracies_pca.append(train_acc)\n",
        "\n",
        "    # Validation\n",
        "    model_pca.eval()\n",
        "    running_val_loss = 0\n",
        "    correct_val = 0\n",
        "\n",
        "    with torch.no_grad():\n",
        "        for X_batch, y_batch in test_loader_pca:\n",
        "            X_batch, y_batch = X_batch.to(device), y_batch.to(device)\n",
        "            outputs = model_pca(X_batch)\n",
        "            loss = criterion(outputs, y_batch)\n",
        "\n",
        "            running_val_loss += loss.item()\n",
        "            correct_val += (outputs.argmax(dim=1) == y_batch).sum().item()\n",
        "\n",
        "    avg_val_loss = running_val_loss / len(test_loader)\n",
        "    scheduler.step(avg_val_loss)\n",
        "    val_acc = correct_val / len(test_loader.dataset)\n",
        "    val_losses_pca.append(avg_val_loss)\n",
        "    val_accuracies_pca.append(val_acc)\n",
        "\n",
        "    print(f\"Epoch {epoch+1}: Train Loss = {avg_train_loss:.4f}, Val Loss = {avg_val_loss:.4f}, Val Acc = {val_acc:.4f}\")\n",
        "\n",
        "    # Early stopping check\n",
        "    if early_stopper.early_stop(avg_val_loss):\n",
        "        print(f\"Early stopping\")\n",
        "        break"
      ],
      "metadata": {
        "colab": {
          "base_uri": "https://localhost:8080/"
        },
        "id": "xk3iNGl4YxsA",
        "outputId": "b4438bf1-ed64-41a2-a339-ab36ef694c1a"
      },
      "execution_count": 51,
      "outputs": [
        {
          "output_type": "stream",
          "name": "stdout",
          "text": [
            "Epoch 1: Train Loss = 1.3969, Val Loss = 1.3881, Val Acc = 0.2620\n",
            "Epoch 2: Train Loss = 1.3883, Val Loss = 1.3862, Val Acc = 0.2654\n",
            "Epoch 3: Train Loss = 1.3867, Val Loss = 1.3864, Val Acc = 0.2570\n",
            "Epoch 4: Train Loss = 1.3858, Val Loss = 1.3852, Val Acc = 0.2637\n",
            "Epoch 5: Train Loss = 1.3853, Val Loss = 1.3851, Val Acc = 0.2623\n",
            "Epoch 6: Train Loss = 1.3853, Val Loss = 1.3852, Val Acc = 0.2638\n",
            "Epoch 7: Train Loss = 1.3852, Val Loss = 1.3852, Val Acc = 0.2652\n",
            "Epoch 8: Train Loss = 1.3852, Val Loss = 1.3853, Val Acc = 0.2645\n",
            "Epoch 9: Train Loss = 1.3852, Val Loss = 1.3853, Val Acc = 0.2643\n",
            "Epoch 10: Train Loss = 1.3849, Val Loss = 1.3849, Val Acc = 0.2664\n",
            "Epoch 11: Train Loss = 1.3848, Val Loss = 1.3848, Val Acc = 0.2663\n",
            "Epoch 12: Train Loss = 1.3848, Val Loss = 1.3849, Val Acc = 0.2648\n",
            "Epoch 13: Train Loss = 1.3847, Val Loss = 1.3850, Val Acc = 0.2680\n",
            "Epoch 14: Train Loss = 1.3846, Val Loss = 1.3850, Val Acc = 0.2646\n",
            "Epoch 15: Train Loss = 1.3846, Val Loss = 1.3851, Val Acc = 0.2645\n",
            "Epoch 16: Train Loss = 1.3843, Val Loss = 1.3848, Val Acc = 0.2658\n",
            "Epoch 17: Train Loss = 1.3840, Val Loss = 1.3848, Val Acc = 0.2652\n",
            "Epoch 18: Train Loss = 1.3840, Val Loss = 1.3849, Val Acc = 0.2650\n",
            "Epoch 19: Train Loss = 1.3839, Val Loss = 1.3849, Val Acc = 0.2670\n",
            "Epoch 20: Train Loss = 1.3834, Val Loss = 1.3847, Val Acc = 0.2649\n",
            "Epoch 21: Train Loss = 1.3831, Val Loss = 1.3850, Val Acc = 0.2665\n",
            "Epoch 22: Train Loss = 1.3828, Val Loss = 1.3849, Val Acc = 0.2648\n",
            "Epoch 23: Train Loss = 1.3828, Val Loss = 1.3849, Val Acc = 0.2653\n",
            "Epoch 24: Train Loss = 1.3825, Val Loss = 1.3850, Val Acc = 0.2639\n",
            "Epoch 25: Train Loss = 1.3819, Val Loss = 1.3853, Val Acc = 0.2631\n",
            "Early stopping\n"
          ]
        }
      ]
    },
    {
      "cell_type": "code",
      "source": [
        "model_scaled.eval()\n",
        "y_pred_pca = []\n",
        "y_proba_pca = []\n",
        "true_labels_pca = []\n",
        "\n",
        "with torch.no_grad():\n",
        "    for X_batch, y_batch in test_loader_pca:\n",
        "        X_batch = X_batch.to(device)\n",
        "        outputs = model_pca(X_batch)\n",
        "\n",
        "        y_proba_pca.extend(outputs.cpu().numpy())               # top-3\n",
        "        y_pred_pca.extend(outputs.argmax(dim=1).cpu().numpy())  # top-1\n",
        "        true_labels_pca.extend(y_batch.numpy())\n",
        "\n",
        "y_proba_pca = np.array(y_proba_pca)\n",
        "y_pred_pca = np.array(y_pred_pca)\n",
        "true_labels_pca = np.array(true_labels_pca)\n",
        "\n",
        "print(f\"With PCA: n_components={best_n}\")\n",
        "print(\"Top-1 Accuracy:\", round(top_k_accuracy_score(true_labels_pca, y_proba_pca, k=1), 4))\n",
        "print(\"Top-3 Accuracy:\", round(top_k_accuracy_score(true_labels_pca, y_proba_pca, k=3), 4))\n",
        "print(classification_report(y_test_encoded, y_pred_pca, target_names=le.classes_))\n",
        "\n",
        "cm = confusion_matrix(y_test_encoded, y_pred_pca)\n",
        "ConfusionMatrixDisplay(confusion_matrix=cm, display_labels=le.classes_).plot(cmap=\"Blues\")\n",
        "plt.show()\n",
        "\n",
        "plt.plot(train_accuracies_pca, label='Train Accuracy')\n",
        "plt.plot(val_accuracies_pca, label='Val Accuracy')\n",
        "plt.xlabel(\"Epoch\")\n",
        "plt.ylabel(\"Accuracy\")\n",
        "plt.legend()\n",
        "plt.title(\"FNN Accuracy over Epochs (PCA)\")\n",
        "plt.show()"
      ],
      "metadata": {
        "colab": {
          "base_uri": "https://localhost:8080/",
          "height": 1000
        },
        "id": "DoxAJLQPaMIx",
        "outputId": "eb069869-ece1-4c9e-c479-e3945ad004cc"
      },
      "execution_count": 52,
      "outputs": [
        {
          "output_type": "stream",
          "name": "stdout",
          "text": [
            "With PCA: n_components=100\n",
            "Top-1 Accuracy: 0.2631\n",
            "Top-3 Accuracy: 0.7666\n",
            "              precision    recall  f1-score   support\n",
            "\n",
            "     frontal       0.26      0.34      0.29     15424\n",
            "        left       0.26      0.07      0.10     15476\n",
            "       right       0.25      0.40      0.31     15586\n",
            "    vertical       0.28      0.25      0.27     15379\n",
            "\n",
            "    accuracy                           0.26     61865\n",
            "   macro avg       0.26      0.26      0.24     61865\n",
            "weighted avg       0.26      0.26      0.24     61865\n",
            "\n"
          ]
        },
        {
          "output_type": "display_data",
          "data": {
            "text/plain": [
              "<Figure size 640x480 with 2 Axes>"
            ],
            "image/png": "[encoded data removed]"
          },
          "metadata": {}
        },
        {
          "output_type": "display_data",
          "data": {
            "text/plain": [
              "<Figure size 640x480 with 1 Axes>"
            ],
            "image/png": "[encoded data removed]"
          },
          "metadata": {}
        }
      ]
    },
    {
      "cell_type": "markdown",
      "metadata": {
        "id": "NLDFsVTSvI7p"
      },
      "source": [
        "# you may add some code here to show how the model works in principle"
      ]
    },
    {
      "cell_type": "markdown",
      "metadata": {
        "id": "GsV1QBVBvI7q"
      },
      "source": [
        "## Results"
      ]
    },
    {
      "cell_type": "markdown",
      "metadata": {
        "id": "vYpruXuUvI7s"
      },
      "source": [
        "_(What did you find when you carried out your methods? Some of your code related to\n",
        "presenting results/figures/data may be replicated from the methods section or may only be present in\n",
        "this section. All of the plots that you plan on using for your presentation should be present in this\n",
        "section)_"
      ]
    },
    {
      "cell_type": "markdown",
      "metadata": {
        "id": "tGykWTP_vI7y"
      },
      "source": [
        "### classification results\n",
        "_(What are you trying to do here?)_"
      ]
    },
    {
      "cell_type": "code",
      "execution_count": null,
      "metadata": {
        "id": "4SP_nT-qvI7z"
      },
      "outputs": [],
      "source": [
        "# how did you do it"
      ]
    },
    {
      "cell_type": "markdown",
      "metadata": {
        "id": "NQtd_FwtvI7z"
      },
      "source": [
        "_(How do you interpret what you see?)_\n",
        "\n",
        "_(What are you doing next?)_"
      ]
    },
    {
      "cell_type": "code",
      "execution_count": null,
      "metadata": {
        "id": "6FuAG1StvI7z"
      },
      "outputs": [],
      "source": [
        "# how did you do it (etc. etc.)"
      ]
    },
    {
      "cell_type": "markdown",
      "metadata": {
        "id": "8fmLBLAIvI70"
      },
      "source": [
        "_(How do you interpret what you see?)_\n",
        "\n",
        "_(What are you doing next?)_"
      ]
    },
    {
      "cell_type": "code",
      "execution_count": null,
      "metadata": {
        "id": "2750seFFvI70"
      },
      "outputs": [],
      "source": [
        "# how did you do it (etc. etc.)"
      ]
    },
    {
      "cell_type": "markdown",
      "metadata": {
        "id": "TnNvclRrvI72"
      },
      "source": [
        "### other results\n",
        "_(What are you trying to do here?)_"
      ]
    },
    {
      "cell_type": "code",
      "execution_count": null,
      "metadata": {
        "id": "T_gsykK0vI72",
        "outputId": "f9244206-e1d2-4f26-8be9-0922a2e487b3"
      },
      "outputs": [
        {
          "data": {
            "image/png": "[encoded data removed]",
            "text/plain": [
              "<Figure size 640x480 with 1 Axes>"
            ]
          },
          "metadata": {},
          "output_type": "display_data"
        }
      ],
      "source": [
        "# If your code above works, below you'll get a plot of the different choices of m\n",
        "colors = ['orange','blue','green']\n",
        "labels = ['sqrt(p)', 'p/2', 'p']\n",
        "\n",
        "for i in range(3):\n",
        "    M_error = Errors[i]\n",
        "    plt.plot(n_tree_list, M_error, label = labels[i], color = colors[i])\n",
        "\n",
        "plt.legend()\n",
        "plt.title('Error in random forest for different values of max features')\n",
        "plt.xlabel(\"n_estimators\")\n",
        "plt.ylabel(\"Error\")\n",
        "plt.show()"
      ]
    },
    {
      "cell_type": "markdown",
      "metadata": {
        "id": "40ba-9nkvI75"
      },
      "source": [
        "_(How do you interpret what you see?)_\n",
        "\n",
        "_(What are you doing next?)_"
      ]
    },
    {
      "cell_type": "code",
      "execution_count": null,
      "metadata": {
        "id": "-1QB0JOXvI76"
      },
      "outputs": [],
      "source": [
        "# how did you do it (etc. etc.)"
      ]
    },
    {
      "cell_type": "markdown",
      "metadata": {
        "id": "2hSCKBUTvI8F"
      },
      "source": [
        "## Discussion and Conclusion"
      ]
    },
    {
      "cell_type": "markdown",
      "metadata": {
        "id": "6D6_AAXWvI8G"
      },
      "source": [
        "_(What did you learn from your results? What obstacles did you run into? What would you do differently next time? Clearly provide quantitative answers to your question(s)?  At least one of your questions should be answered with numbers.  That is, it is not sufficient to answer \"yes\" or \"no\", but rather to say something quantitative such as variable 1 increased roughly 10% for every 1 year increase in variable 2.)_"
      ]
    },
    {
      "cell_type": "markdown",
      "metadata": {
        "id": "MdZSUgt6vI8G"
      },
      "source": [
        "### discussion on the classification results"
      ]
    },
    {
      "cell_type": "markdown",
      "metadata": {
        "id": "oY_Bia8XvI8I"
      },
      "source": [
        "### discussion on the regression results"
      ]
    },
    {
      "cell_type": "markdown",
      "metadata": {
        "id": "WW79d7tkvI8J"
      },
      "source": [
        "### discussion on the other results"
      ]
    },
    {
      "cell_type": "markdown",
      "metadata": {
        "id": "ulKO_KxKvI8L"
      },
      "source": [
        "### conclusion and future steps"
      ]
    },
    {
      "cell_type": "markdown",
      "metadata": {
        "id": "koYgE18vvI8M"
      },
      "source": [
        "## Author contribution\n",
        "\n",
        "_(Please describe the contribution of each member of group)._"
      ]
    },
    {
      "cell_type": "markdown",
      "metadata": {
        "id": "VuJrIrKTvI8N"
      },
      "source": [
        "## References"
      ]
    },
    {
      "cell_type": "markdown",
      "metadata": {
        "id": "3ulozYkWvI8N"
      },
      "source": [
        "_(List the source(s) for any data and/or literature cited in your project.  Ideally, this should be formatted using a formal citation format (MLA or APA or other, your choice!).   Multiple free online citation generators are available such as <a href=\"http://www.easybib.com/style\">http://www.easybib.com/style</a>. **Important:** if you use **any** code that you find on the internet for your project you **must** cite it or you risk losing most/all of the points for you project.)_"
      ]
    }
  ],
  "metadata": {
    "kernelspec": {
      "display_name": "Python 3",
      "name": "python3"
    },
    "language_info": {
      "codemirror_mode": {
        "name": "ipython",
        "version": 3
      },
      "file_extension": ".py",
      "mimetype": "text/x-python",
      "name": "python",
      "nbconvert_exporter": "python",
      "pygments_lexer": "ipython3",
      "version": "3.11.5"
    },
    "colab": {
      "provenance": [],
      "machine_shape": "hm",
      "gpuType": "L4",
      "include_colab_link": true
    },
    "accelerator": "GPU"
  },
  "nbformat": 4,
  "nbformat_minor": 0
}